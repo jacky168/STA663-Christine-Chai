{
 "metadata": {
  "name": "",
  "signature": "sha256:f474616efde040b266edf4502165a4558110defec12ba51d19bc88ada385088d"
 },
 "nbformat": 3,
 "nbformat_minor": 0,
 "worksheets": [
  {
   "cells": [
    {
     "cell_type": "code",
     "collapsed": false,
     "input": [
      "import os\n",
      "import sys\n",
      "import glob\n",
      "import matplotlib.pyplot as plt\n",
      "import numpy as np\n",
      "import pandas as pd\n",
      "%matplotlib inline\n",
      "%precision 4\n",
      "plt.style.use('ggplot')"
     ],
     "language": "python",
     "metadata": {},
     "outputs": [],
     "prompt_number": 53
    },
    {
     "cell_type": "code",
     "collapsed": false,
     "input": [
      "import scipy.linalg as la\n",
      "import scipy.stats as st"
     ],
     "language": "python",
     "metadata": {},
     "outputs": [],
     "prompt_number": 54
    },
    {
     "cell_type": "code",
     "collapsed": false,
     "input": [
      "import cPickle"
     ],
     "language": "python",
     "metadata": {},
     "outputs": [],
     "prompt_number": 3
    },
    {
     "cell_type": "code",
     "collapsed": false,
     "input": [
      "np.set_printoptions(formatter={'float': '{: 0.3f}'.format})"
     ],
     "language": "python",
     "metadata": {},
     "outputs": [],
     "prompt_number": 4
    },
    {
     "cell_type": "markdown",
     "metadata": {},
     "source": [
      "Latent Semantic Analysis (LSA) is a method for reducing the dimnesionality of documents treated as a bag of words. It is used for document classification, clustering and retrieval. For example, LSA can be used to search for prior art given a new patent application. In this homework, we will implement a small library for simple latent semantic analysis as a practical example of the application of SVD. The ideas are very similar to PCA.\n",
      "\n",
      "We will implement a toy example of LSA to get familiar with the ideas. If you want to use LSA or similar methods for statiscal language analyis, the most efficient Python library is probably [gensim](https://radimrehurek.com/gensim/) - this also provides an online algorithm - i.e. the training information can be continuously updated. Other useful functions for processing natural language can be found in the [Natural Lnaguage Toolkit](http://www.nltk.org/)."
     ]
    },
    {
     "cell_type": "markdown",
     "metadata": {},
     "source": [
      "**Note**: The SVD from scipy.linalg performs a full decomposition, which is inefficient since we only need to decompose until we get the first k singluar values. If the SVD from `scipy.linalg` is too slow, please use the `sparsesvd` function from the [sparsesvd](https://pypi.python.org/pypi/sparsesvd/) package to perform SVD instead.  You can install in the usual way with \n",
      "```\n",
      "!pip install sparsesvd\n",
      "```\n",
      "\n",
      "Then import the following\n",
      "```python\n",
      "from sparsesvd import sparsesvd \n",
      "from scipy.sparse import csc_matrix \n",
      "```\n",
      "\n",
      "and use as follows\n",
      "```python\n",
      "sparsesvd(csc_matrix(M), k=10)\n",
      "```"
     ]
    },
    {
     "cell_type": "code",
     "collapsed": false,
     "input": [
      "from sparsesvd import sparsesvd \n",
      "from scipy.sparse import csc_matrix"
     ],
     "language": "python",
     "metadata": {},
     "outputs": [],
     "prompt_number": 55
    },
    {
     "cell_type": "markdown",
     "metadata": {},
     "source": [
      "**Exercise 1 (10 points)**.  Calculating pairwise distance matrices.\n",
      "\n",
      "Suppose we want to construct a distance matrix between the rows of a matrix. For example, given the matrix \n",
      "\n",
      "```python\n",
      "M = np.array([[1,2,3],[4,5,6]])\n",
      "```\n",
      "\n",
      "the distance matrix using Euclidean distance as the measure would be\n",
      "```python\n",
      "[[ 0.000  1.414  2.828]\n",
      " [ 1.414  0.000  1.414]\n",
      " [ 2.828  1.414  0.000]] \n",
      "```\n",
      "if $M$ was a collection of column vectors.\n",
      "\n",
      "Write a function to calculate the pairwise-distance matrix given the matrix $M$ and some arbitrary distance function. Your functions should have the following signature:\n",
      "```\n",
      "def func_name(M, distance_func):\n",
      "    pass\n",
      "```\n",
      "\n",
      "0. Write a distance function for the Euclidean, squared Euclidean and cosine measures.\n",
      "1. Write the function using looping for M as a collection of row vectors.\n",
      "2. Write the function using looping for M as a collection of column vectors.\n",
      "3. Wrtie the function using broadcasting for M as a colleciton of row vectors.\n",
      "4. Write the function using broadcasting for M as a colleciton of column vectors. \n",
      "\n",
      "For 3 and 4, try to avoid using transposition. Check that all four functions give the same result when applied to the given matrix $M$."
     ]
    },
    {
     "cell_type": "code",
     "collapsed": false,
     "input": [
      "# Your code here\n",
      "M = np.array([[1,2,3],[4,5,6]])\n",
      "# M is a 2*3 matrix, with three column vectors\n",
      "\n",
      "def Euclidean(a, b):\n",
      "    return np.linalg.norm(a-b)\n",
      "\n",
      "def Euclidean_squared(a, b):\n",
      "    return np.linalg.norm(a-b)**2\n",
      "\n",
      "def cosine(a, b):\n",
      "    return np.dot(a,b)/(np.linalg.norm(a)*np.linalg.norm(b))\n",
      "\n",
      "# a = np.array([1,2])\n",
      "# b = np.array([3,4])\n",
      "# print Euclidean(a,b)\n",
      "# print Euclidean_squared(a,b)\n",
      "# print cosine(a,b)\n",
      "\n"
     ],
     "language": "python",
     "metadata": {},
     "outputs": [],
     "prompt_number": 56
    },
    {
     "cell_type": "code",
     "collapsed": false,
     "input": [
      "# Why are my output from the row vectors different \n",
      "\n",
      "def function2(M, distance_func):\n",
      "    \"\"\"using looping for M as a collection of row vectors\n",
      "        distance_func = {Euclidean, Euclidean squared, cosine}\"\"\"\n",
      "    # M.shape[0] == number of rows / M.shape[1] == number of columns\n",
      "    dist = np.zeros((3,3)) # initialization\n",
      "    for i in range(M.shape[0]):\n",
      "        for j in range(i,M.shape[0]):\n",
      "            dist[i,j] = distance_func(M[i,:],M[j,:])\n",
      "    \n",
      "    # Then \"reflect\" the lower triangular part to the upper triangular one\n",
      "    dist = dist + dist.T - np.diag(dist.diagonal())\n",
      "    return dist\n",
      "\n",
      "print function2(M,Euclidean),'\\n'\n",
      "print function2(M,Euclidean_squared),'\\n'\n",
      "print function2(M,cosine)\n",
      "# M.shape[0]"
     ],
     "language": "python",
     "metadata": {},
     "outputs": [
      {
       "output_type": "stream",
       "stream": "stdout",
       "text": [
        "[[ 0.000  5.196  0.000]\n",
        " [ 5.196  0.000  0.000]\n",
        " [ 0.000  0.000  0.000]] \n",
        "\n",
        "[[ 0.000  27.000  0.000]\n",
        " [ 27.000  0.000  0.000]\n",
        " [ 0.000  0.000  0.000]] \n",
        "\n",
        "[[ 1.000  0.975  0.000]\n",
        " [ 0.975  1.000  0.000]\n",
        " [ 0.000  0.000  0.000]]\n"
       ]
      }
     ],
     "prompt_number": 52
    },
    {
     "cell_type": "code",
     "collapsed": false,
     "input": [
      "def function3(M, distance_func):\n",
      "    \"\"\"using looping for M as a collection of column vectors\n",
      "        distance_func = {Euclidean, Euclidean squared, cosine}\"\"\"\n",
      "    # M.shape[0] == number of rows / M.shape[1] == number of columns\n",
      "    dist = np.zeros((3,3)) # initialization\n",
      "    for i in range(M.shape[1]):\n",
      "        for j in range(i,M.shape[1]):\n",
      "            dist[i,j] = distance_func(M[:,i],M[:,j])\n",
      "    \n",
      "    # Then \"reflect\" the lower triangular part to the upper triangular one\n",
      "    dist = dist + dist.T - np.diag(dist.diagonal())\n",
      "    return dist\n",
      "\n",
      "print function3(M,Euclidean),'\\n'\n",
      "print function3(M,Euclidean_squared),'\\n'\n",
      "print function3(M,cosine)\n",
      "# M.shape[0]"
     ],
     "language": "python",
     "metadata": {},
     "outputs": []
    },
    {
     "cell_type": "code",
     "collapsed": false,
     "input": [
      "def function5(M, distance_func):\n",
      "    \"\"\"using broadcasting for M as a collection of column vectors\n",
      "        distance_func = {Euclidean, Euclidean squared, cosine}\"\"\"\n",
      "    # M.shape[0] == number of rows / M.shape[1] == number of columns\n",
      "    dist = np.zeros((3,3)) # initialization\n",
      "    distance_func(M[:,None])\n",
      "    # No idea here...\n",
      "    \n",
      "    \n",
      "    for i in range(M.shape[1]):\n",
      "        for j in range(i,M.shape[1]):\n",
      "            dist[i,j] = distance_func(M[:,i],M[:,j])\n",
      "    \n",
      "    # Then \"reflect\" the lower triangular part to the upper triangular one\n",
      "    dist = dist + dist.T - np.diag(dist.diagonal())\n",
      "    return dist\n",
      "\n",
      "print function3(M,Euclidean),'\\n'\n",
      "print function3(M,Euclidean_squared),'\\n'\n",
      "print function3(M,cosine)\n",
      "# M.shape[0]"
     ],
     "language": "python",
     "metadata": {},
     "outputs": [
      {
       "output_type": "stream",
       "stream": "stdout",
       "text": [
        "[[ 0.000  1.414  2.828]\n",
        " [ 1.414  0.000  1.414]\n",
        " [ 2.828  1.414  0.000]] \n",
        "\n",
        "[[ 0.000  2.000  8.000]\n",
        " [ 2.000  0.000  2.000]\n",
        " [ 8.000  2.000  0.000]] \n",
        "\n",
        "[[ 1.000  0.991  0.976]\n",
        " [ 0.991  1.000  0.997]\n",
        " [ 0.976  0.997  1.000]]\n"
       ]
      }
     ],
     "prompt_number": 51
    },
    {
     "cell_type": "code",
     "collapsed": false,
     "input": [
      "print M.shape[0]\n",
      "print M.shape[1]\n",
      "print Euclidean(M[:,np.newaxis],M[:,np.newaxis])"
     ],
     "language": "python",
     "metadata": {},
     "outputs": [
      {
       "output_type": "stream",
       "stream": "stdout",
       "text": [
        "2\n",
        "3\n",
        "0.0\n"
       ]
      }
     ],
     "prompt_number": 64
    },
    {
     "cell_type": "markdown",
     "metadata": {},
     "source": [
      "**Exercise 2 (10 points)**. Write 3 functions to calculate the term frequency (tf), the inverse document frequency (idf) and the product (tf-idf). Each function should take a single argument `docs`, which is a dictionary of (key=identifier, value=dcoument text) pairs, and return an appropriately sized array. Convert '-' to ' ' (space), remove punctuation, convert text to lowercase and split on whitespace to generate a collection of terms from the dcoument text.\n",
      "\n",
      "- tf = the number of occurrences of term $i$ in document $j$\n",
      "- idf = $\\log \\frac{n}{1 + \\text{df}_i}$ where $n$ is the total number of documents and $\\text{df}_i$ is the number of documents in which term $i$ occurs.\n",
      "\n",
      "Print the table of tf-idf values for the following document collection\n",
      "\n",
      "```\n",
      "s1 = \"The quick brown fox\"\n",
      "s2 = \"Brown fox jumps over the jumps jumps jumps\"\n",
      "s3 = \"The the the lazy dog elephant.\"\n",
      "s4 = \"The the the the the dog peacock lion tiger elephant\"\n",
      "\n",
      "docs = {'s1': s1, 's2': s2, 's3': s3, 's4': s4}\n",
      "```"
     ]
    },
    {
     "cell_type": "code",
     "collapsed": false,
     "input": [
      "# Your code here\n",
      "s1 = \"The quick-brown fox\"\n",
      "s2 = \"Brown fox jumps over the jumps jumps jumps\"\n",
      "s3 = \"The the the lazy dog elephant.\"\n",
      "s4 = \"The the the the the dog peacock lion tiger elephant\"\n",
      "\n",
      "docs = {'s1': s1, 's2': s2, 's3': s3, 's4': s4}\n",
      "\n",
      "def cleanup(docs):\n",
      "    \"\"\"Convert '-' to ' ' (space), remove punctuation, convert text to lowercase\"\"\"\n",
      "    import string\n",
      "    from string import punctuation\n",
      "    clean = docs.copy()\n",
      "    for name in docs:\n",
      "        temp = docs[name]\n",
      "        clean[name] = temp.replace('-',' ')\n",
      "        clean[name] = ''.join([c for c in clean[name] if c not in punctuation])\n",
      "        clean[name] = clean[name].lower()\n",
      "    return clean\n",
      "\n",
      "print cleanup(docs)\n",
      "\n",
      "def tf(docs):\n",
      "    \"\"\"tf scores: the number of occurrences of term i in document j\"\"\"\n",
      "    # Step 1: clean up the docs and split into words\n",
      "    clean = cleanup(docs)\n",
      "    separate = clean.copy()\n",
      "    for name in clean:\n",
      "        separate[name] = clean[name].split(' ')\n",
      "    \n",
      "    # Step 2: calculate the frequency of each word\n",
      "    # Generate a matrix: row = each word, column = each document\n",
      "    wordUnion = set()\n",
      "    for name in clean:\n",
      "         wordUnion = wordUnion.union(set(separate[name]))\n",
      "            \n",
      "    # How to make an np.array with headers for rows and columns?\n",
      "    \n",
      "    \n",
      "    pass # null operation\n",
      "\n",
      "\n",
      "def idf(docs):\n",
      "    pass # null operation\n",
      "\n",
      "def tfidf(docs):\n",
      "    return tf(docs)*idf(docs)\n"
     ],
     "language": "python",
     "metadata": {},
     "outputs": [
      {
       "output_type": "stream",
       "stream": "stdout",
       "text": [
        "{'s3': 'the the the lazy dog elephant', 's2': 'brown fox jumps over the jumps jumps jumps', 's1': 'the quick brown fox', 's4': 'the the the the the dog peacock lion tiger elephant'}\n"
       ]
      }
     ],
     "prompt_number": 170
    },
    {
     "cell_type": "code",
     "collapsed": false,
     "input": [
      "s1 = \"The quick-brown fox\"\n",
      "s2 = \"Brown fox jumps over the jumps jumps jumps\"\n",
      "s3 = \"The the the lazy dog elephant.\"\n",
      "s4 = \"The the the the the dog peacock lion tiger elephant\"\n",
      "\n",
      "docs = {'s1': s1, 's2': s2, 's3': s3, 's4': s4}\n",
      "cindy = docs['s1']\n",
      "clean = docs.copy()\n",
      "cindy.replace('-',' ')"
     ],
     "language": "python",
     "metadata": {},
     "outputs": [
      {
       "metadata": {},
       "output_type": "pyout",
       "prompt_number": 96,
       "text": [
        "'The quick brown fox'"
       ]
      }
     ],
     "prompt_number": 96
    },
    {
     "cell_type": "code",
     "collapsed": false,
     "input": [
      "clean = cleanup(docs)\n",
      "separate = clean.copy()\n",
      "for name in clean:\n",
      "    separate[name] = clean[name].split(' ')\n",
      "\n",
      "wordUnion = set()\n",
      "for name in clean:\n",
      "         wordUnion = wordUnion.union(set(separate[name]))\n",
      "\n",
      "print wordUnion"
     ],
     "language": "python",
     "metadata": {},
     "outputs": [
      {
       "output_type": "stream",
       "stream": "stdout",
       "text": [
        "set(['brown', 'lazy', 'peacock', 'jumps', 'fox', 'dog', 'tiger', 'lion', 'elephant', 'quick', 'the', 'over'])\n"
       ]
      }
     ],
     "prompt_number": 134
    },
    {
     "cell_type": "code",
     "collapsed": false,
     "input": [
      "daily_prices = np.array(\n",
      "    [\n",
      "        [4,3,3,1],\n",
      "        [5,4,3,6],\n",
      "        [6,3,2,7],\n",
      "        [3,9,7,4],\n",
      "        [8,4,6,3],\n",
      "        [8,3,3,9]]\n",
      "    dtype=[('MSFT','S1'),('CSCO','a2'),('GOOG','a3'),('F','a4') ]\n",
      "    )\n",
      "\n",
      "daily_prices.shape"
     ],
     "language": "python",
     "metadata": {},
     "outputs": [
      {
       "ename": "SyntaxError",
       "evalue": "invalid syntax (<ipython-input-148-2e81761b3eb9>, line 9)",
       "output_type": "pyerr",
       "traceback": [
        "\u001b[1;36m  File \u001b[1;32m\"<ipython-input-148-2e81761b3eb9>\"\u001b[1;36m, line \u001b[1;32m9\u001b[0m\n\u001b[1;33m    dtype=[('MSFT','S1'),('CSCO','a2'),('GOOG','a3'),('F','a4') ]\u001b[0m\n\u001b[1;37m        ^\u001b[0m\n\u001b[1;31mSyntaxError\u001b[0m\u001b[1;31m:\u001b[0m invalid syntax\n"
       ]
      }
     ],
     "prompt_number": 148
    },
    {
     "cell_type": "markdown",
     "metadata": {},
     "source": [
      "**Exercise 3 (10 points)**. \n",
      "\n",
      "1. Write a function that takes a matrix $M$ and an integer $k$ as arguments, and reconstructs a reduced matrix using only the $k$ largest singular values. Use the `scipy.linalg.svd` function to perform the decomposition. This is the least squares approximation to the matrix $M$ in $k$ dimensions.\n",
      "\n",
      "2. Apply the function you just wrote to the following term-frequency matrix for a set of $9$ documents using $k=2$ and print the reconstructed matrix $M'$.\n",
      "```\n",
      "M = np.array([[1, 0, 0, 1, 0, 0, 0, 0, 0],\n",
      "       [1, 0, 1, 0, 0, 0, 0, 0, 0],\n",
      "       [1, 1, 0, 0, 0, 0, 0, 0, 0],\n",
      "       [0, 1, 1, 0, 1, 0, 0, 0, 0],\n",
      "       [0, 1, 1, 2, 0, 0, 0, 0, 0],\n",
      "       [0, 1, 0, 0, 1, 0, 0, 0, 0],\n",
      "       [0, 1, 0, 0, 1, 0, 0, 0, 0],\n",
      "       [0, 0, 1, 1, 0, 0, 0, 0, 0],\n",
      "       [0, 1, 0, 0, 0, 0, 0, 0, 1],\n",
      "       [0, 0, 0, 0, 0, 1, 1, 1, 0],\n",
      "       [0, 0, 0, 0, 0, 0, 1, 1, 1],\n",
      "       [0, 0, 0, 0, 0, 0, 0, 1, 1]])\n",
      "```\n",
      "\n",
      "3. Calculate the pairwise correlation matrix for the original matrix M and the reconstructed matrix using $k=2$ singular values (you may use [scipy.stats.spearmanr](http://docs.scipy.org/doc/scipy/reference/generated/scipy.stats.spearmanr.html) to do the calculations). Consider the fist 5 sets of documents as one group $G1$ and the last 4 as another group $G2$ (i.e. first 5 and last 4 columns). What is the average within group correlation for $G1$, $G2$ and the average cross-group correlation for G1-G2 using either $M$ or $M'$. (Do not include self-correlation in the within-group calculations.)."
     ]
    },
    {
     "cell_type": "code",
     "collapsed": false,
     "input": [
      "# Your code here\n",
      "\n",
      "def leastSquares(M, k):\n",
      "    # X = U*sigma*V\n",
      "    # (mxn) = (mxm)(mxn)(nxn)\n",
      "    # New: X = U*sigma*V\n",
      "    # (mxn) = (mxp)(pxp)(pxn)\n",
      "    import scipy.linalg as la\n",
      "    U, s, V = la.svd(M, full_matrices=False)\n",
      "    s_new = s[0:k] # indices: the last boundary is NOT included\n",
      "    U_new = U[:,0:k]\n",
      "    V_new = V[0:k,:]\n",
      "    return np.dot(U_new, np.dot(np.diag(s_new),V_new))\n",
      "    \n",
      "\n"
     ],
     "language": "python",
     "metadata": {},
     "outputs": [],
     "prompt_number": 167
    },
    {
     "cell_type": "code",
     "collapsed": false,
     "input": [
      "M = np.array([[1, 0, 0, 1, 0, 0, 0, 0, 0],\n",
      "    [1, 0, 1, 0, 0, 0, 0, 0, 0],\n",
      "    [1, 1, 0, 0, 0, 0, 0, 0, 0],\n",
      "    [0, 1, 1, 0, 1, 0, 0, 0, 0],\n",
      "    [0, 1, 1, 2, 0, 0, 0, 0, 0],\n",
      "    [0, 1, 0, 0, 1, 0, 0, 0, 0],\n",
      "    [0, 1, 0, 0, 1, 0, 0, 0, 0],\n",
      "    [0, 0, 1, 1, 0, 0, 0, 0, 0],\n",
      "    [0, 1, 0, 0, 0, 0, 0, 0, 1],\n",
      "    [0, 0, 0, 0, 0, 1, 1, 1, 0],\n",
      "    [0, 0, 0, 0, 0, 0, 1, 1, 1],\n",
      "    [0, 0, 0, 0, 0, 0, 0, 1, 1]])\n",
      "\n",
      "M_new = leastSquares(M,2)\n",
      "U, s, V = la.svd(M_new, full_matrices=False)\n",
      "print U\n",
      "print s"
     ],
     "language": "python",
     "metadata": {},
     "outputs": [
      {
       "output_type": "stream",
       "stream": "stdout",
       "text": [
        "[[-0.221 -0.113  0.744 -0.238 -0.190 -0.254 -0.294 -0.216 -0.091]\n",
        " [-0.198 -0.072 -0.116 -0.782 -0.229  0.257  0.121  0.063 -0.003]\n",
        " [-0.240  0.043  0.092  0.024  0.064  0.030  0.781 -0.281 -0.435]\n",
        " [-0.404  0.057 -0.074 -0.145 -0.075 -0.458  0.086  0.461  0.123]\n",
        " [-0.644 -0.167  0.097  0.181  0.489  0.464 -0.214  0.092  0.004]\n",
        " [-0.265  0.107 -0.331  0.038 -0.203  0.021 -0.019  0.068 -0.034]\n",
        " [-0.265  0.107 -0.127  0.154 -0.331  0.007  0.033  0.169  0.253]\n",
        " [-0.301 -0.141 -0.204  0.146 -0.093 -0.286  0.039 -0.666  0.443]\n",
        " [-0.206  0.274 -0.071  0.294 -0.289 -0.178 -0.258  0.026 -0.606]\n",
        " [-0.013  0.490  0.461  0.224 -0.212  0.259  0.281  0.151  0.391]\n",
        " [-0.036  0.623 -0.155 -0.236 -0.005  0.269 -0.292 -0.384 -0.027]\n",
        " [-0.032  0.451  0.007 -0.198  0.612 -0.437  0.044  0.043  0.071]]\n",
        "[ 3.341  2.542  0.000  0.000  0.000  0.000  0.000  0.000  0.000]\n"
       ]
      }
     ],
     "prompt_number": 168
    },
    {
     "cell_type": "code",
     "collapsed": false,
     "input": [
      "limit = [1,2,3,4,5]\n",
      "limit[0:3]"
     ],
     "language": "python",
     "metadata": {},
     "outputs": [
      {
       "metadata": {},
       "output_type": "pyout",
       "prompt_number": 169,
       "text": [
        "[1, 2, 3]"
       ]
      }
     ],
     "prompt_number": 169
    },
    {
     "cell_type": "markdown",
     "metadata": {},
     "source": [
      "**Exercise 4 (20 points)**. Clustering with LSA\n",
      "\n",
      "1. Begin by loading a pubmed database of selected article titles using 'cPickle'. With the following:\n",
      "```import cPickle\n",
      "docs = cPickle.load(open('pubmed.pic'))```\n",
      "\n",
      "    Create a tf-idf matrix for every term that appears at least once in any of the documents. What is the shape of the tf-idf matrix? \n",
      "\n",
      "2. Perform SVD on the tf-idf matrix to obtain $U \\Sigma V^T$ (often written as $T \\Sigma D^T$ in this context with $T$ representing the terms and $D$ representing the documents). If we set all but the top $k$ singular values to 0, the reconstructed matrix is essentially $U_k \\Sigma_k V_k^T$, where $U_k$ is $m \\times k$, $\\Sigma_k$ is $k \\times k$ and $V_k^T$ is $k \\times n$. Terms in this reduced space are represented by $U_k \\Sigma_k$ and documents by $\\Sigma_k V^T_k$. Reconstruct the matrix using the first $k=10$ singular values.\n",
      "\n",
      "3. Use agglomerative hierachical clustering with complete linkage to plot a dendrogram and comment on the likely number of  document clusters with $k = 100$. Use the dendrogram function from [SciPy ](https://docs.scipy.org/doc/scipy-0.15.1/reference/generated/scipy.cluster.hierarchy.dendrogram.html).\n",
      "\n",
      "4. Determine how similar each of the original documents is to the new document `mystery.txt`. Since $A = U \\Sigma V^T$, we also have $V = A^T U S^{-1}$ using orthogonality and the rule for transposing matrix products. This suggests that in order to map the new document to the same concept space, first find the tf-idf vector $v$ for the new document - this must contain all (and only) the terms present in the existing tf-idx matrix. Then the query vector $q$ is given by $v^T U_k \\Sigma_k^{-1}$. Find the 10 documents most similar to the new document and the 10 most dissimilar. \n",
      "\n",
      "5. Many documents often have some boilerplate material such as organization information, Copyright, etc. at the front or back of the document. Does it matter that the front and back matter of each document is essentially identical for either LSA-based clustering (part 3) or information retrieval (part 4)? Why or why not?"
     ]
    },
    {
     "cell_type": "code",
     "collapsed": false,
     "input": [
      "# your code here\n",
      "\n",
      "\n"
     ],
     "language": "python",
     "metadata": {},
     "outputs": [],
     "prompt_number": 7
    },
    {
     "cell_type": "markdown",
     "metadata": {},
     "source": [
      "Notes on the Pubmed articles\n",
      "----\n",
      "\n",
      "These were downloaded with the following script. You don't have to download them by yourself!\n",
      "\n",
      "```python\n",
      "from Bio import Entrez, Medline\n",
      "Entrez.email = \"YOUR EMAIL HERE\"\n",
      "import cPickle\n",
      "\n",
      "try:\n",
      "    docs = cPickle.load(open('pubmed.pic'))\n",
      "except Exception, e:\n",
      "    print e\n",
      "\n",
      "    docs = {}\n",
      "    for term in ['plasmodium', 'diabetes', 'asthma', 'cytometry']:\n",
      "        handle = Entrez.esearch(db=\"pubmed\", term=term, retmax=50)\n",
      "        result = Entrez.read(handle)\n",
      "        handle.close()\n",
      "        idlist = result[\"IdList\"]\n",
      "        handle2 = Entrez.efetch(db=\"pubmed\", id=idlist, rettype=\"medline\", retmode=\"text\")\n",
      "        result2 = Medline.parse(handle2)\n",
      "        for record in result2:\n",
      "            title = record.get(\"TI\", None)\n",
      "            abstract = record.get(\"AB\", None)\n",
      "            if title is None or abstract is None:\n",
      "                continue\n",
      "            docs[title] = '\\n'.join([title, abstract])\n",
      "            print title\n",
      "        handle2.close()\n",
      "    cPickle.dump(docs, open('pubmed.pic', 'w'))\n",
      "docs.values()\n",
      "```"
     ]
    },
    {
     "cell_type": "code",
     "collapsed": false,
     "input": [],
     "language": "python",
     "metadata": {},
     "outputs": []
    }
   ],
   "metadata": {}
  }
 ]
}