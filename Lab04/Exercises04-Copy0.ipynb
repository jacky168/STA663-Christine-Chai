{
 "metadata": {
  "name": "",
  "signature": "sha256:dd5d66f1e7426b44856344371ab0d9e20eb6462f17f795d7ac3f58df4284b82a"
 },
 "nbformat": 3,
 "nbformat_minor": 0,
 "worksheets": [
  {
   "cells": [
    {
     "cell_type": "code",
     "collapsed": false,
     "input": [
      "import os\n",
      "import sys\n",
      "import glob\n",
      "import matplotlib.pyplot as plt\n",
      "import numpy as np\n",
      "import pandas as pd\n",
      "%matplotlib inline\n",
      "%precision 4\n",
      "plt.style.use('ggplot')"
     ],
     "language": "python",
     "metadata": {},
     "outputs": [],
     "prompt_number": 1
    },
    {
     "cell_type": "code",
     "collapsed": false,
     "input": [
      "import scipy.linalg as la\n",
      "import scipy.stats as st"
     ],
     "language": "python",
     "metadata": {},
     "outputs": [],
     "prompt_number": 2
    },
    {
     "cell_type": "code",
     "collapsed": false,
     "input": [
      "import cPickle"
     ],
     "language": "python",
     "metadata": {},
     "outputs": [],
     "prompt_number": 3
    },
    {
     "cell_type": "code",
     "collapsed": false,
     "input": [
      "np.set_printoptions(formatter={'float': '{: 0.3f}'.format})"
     ],
     "language": "python",
     "metadata": {},
     "outputs": [],
     "prompt_number": 4
    },
    {
     "cell_type": "markdown",
     "metadata": {},
     "source": [
      "Latent Semantic Analysis (LSA) is a method for reducing the dimnesionality of documents treated as a bag of words. It is used for document classification, clustering and retrieval. For example, LSA can be used to search for prior art given a new patent application. In this homework, we will implement a small library for simple latent semantic analysis as a practical example of the application of SVD. The ideas are very similar to PCA.\n",
      "\n",
      "We will implement a toy example of LSA to get familiar with the ideas. If you want to use LSA or similar methods for statiscal language analyis, the most efficient Python library is probably [gensim](https://radimrehurek.com/gensim/) - this also provides an online algorithm - i.e. the training information can be continuously updated. Other useful functions for processing natural language can be found in the [Natural Lnaguage Toolkit](http://www.nltk.org/)."
     ]
    },
    {
     "cell_type": "markdown",
     "metadata": {},
     "source": [
      "**Note**: The SVD from scipy.linalg performs a full decomposition, which is inefficient since we only need to decompose until we get the first k singluar values. If the SVD from `scipy.linalg` is too slow, please use the `sparsesvd` function from the [sparsesvd](https://pypi.python.org/pypi/sparsesvd/) package to perform SVD instead.  You can install in the usual way with \n",
      "```\n",
      "!pip install sparsesvd\n",
      "```\n",
      "\n",
      "Then import the following\n",
      "```python\n",
      "from sparsesvd import sparsesvd \n",
      "from scipy.sparse import csc_matrix \n",
      "```\n",
      "\n",
      "and use as follows\n",
      "```python\n",
      "sparsesvd(csc_matrix(M), k=10)\n",
      "```"
     ]
    },
    {
     "cell_type": "code",
     "collapsed": false,
     "input": [
      "from sparsesvd import sparsesvd \n",
      "from scipy.sparse import csc_matrix"
     ],
     "language": "python",
     "metadata": {},
     "outputs": []
    },
    {
     "cell_type": "markdown",
     "metadata": {},
     "source": [
      "**Exercise 1 (10 points)**.  Calculating pairwise distance matrices.\n",
      "\n",
      "Suppose we want to construct a distance matrix between the rows of a matrix. For example, given the matrix \n",
      "\n",
      "```python\n",
      "M = np.array([[1,2,3],[4,5,6]])\n",
      "```\n",
      "\n",
      "the distance matrix using Euclidean distance as the measure would be\n",
      "```python\n",
      "[[ 0.000  1.414  2.828]\n",
      " [ 1.414  0.000  1.414]\n",
      " [ 2.828  1.414  0.000]] \n",
      "```\n",
      "if $M$ was a collection of column vectors.\n",
      "\n",
      "Write a function to calculate the pairwise-distance matrix given the matrix $M$ and some arbitrary distance function. Your functions should have the following signature:\n",
      "```\n",
      "def func_name(M, distance_func):\n",
      "    pass\n",
      "```\n",
      "\n",
      "0. Write a distance function for the Euclidean, squared Euclidean and cosine measures.\n",
      "1. Write the function using looping for M as a collection of row vectors.\n",
      "2. Write the function using looping for M as a collection of column vectors.\n",
      "3. Wrtie the function using broadcasting for M as a colleciton of row vectors.\n",
      "4. Write the function using broadcasting for M as a colleciton of column vectors. \n",
      "\n",
      "For 3 and 4, try to avoid using transposition (but if you get stuck, there will be no penalty for using transpoition). Check that all four functions give the same result when applied to the given matrix $M$."
     ]
    },
    {
     "cell_type": "code",
     "collapsed": false,
     "input": [
      "# Your code here\n",
      "M = np.array([[1,2,3],[4,5,6]])\n",
      "# M is a 2*3 matrix, with three column vectors\n",
      "\n",
      "# Need to include row/column broadcasting parameters in the THREE functions!\n",
      "def Euclidean(a, b):\n",
      "    return np.linalg.norm(a-b)\n",
      "\n",
      "def Euclidean_squared(a, b):\n",
      "    return np.linalg.norm(a-b)**2\n",
      "\n",
      "def cosine(a, b):\n",
      "    return np.dot(a,b)/(np.linalg.norm(a)*np.linalg.norm(b))\n",
      "\n",
      "# a = np.array([1,2])\n",
      "# b = np.array([3,4])\n",
      "# print Euclidean(a,b)\n",
      "# print Euclidean_squared(a,b)\n",
      "# print cosine(a,b)"
     ],
     "language": "python",
     "metadata": {},
     "outputs": [],
     "prompt_number": 7
    },
    {
     "cell_type": "code",
     "collapsed": false,
     "input": [
      "M = np.array([[1,2,3],[4,5,6]])\n",
      "print M\n",
      "print M.T[:,np.newaxis] - M.T[np.newaxis,:] # row\n",
      "a = M.T[:,np.newaxis] - M.T[np.newaxis,:]\n",
      "print a.shape # (3,3,2)\n",
      "print np.sum(a[0,:,:]**2,axis=1)\n",
      "\n",
      "np.sum?\n",
      "print \"------\"\n",
      "print M[:,np.newaxis] - M[np.newaxis,:] # column"
     ],
     "language": "python",
     "metadata": {},
     "outputs": [
      {
       "output_type": "stream",
       "stream": "stdout",
       "text": [
        "[[1 2 3]\n",
        " [4 5 6]]\n",
        "[[[ 0  0]\n",
        "  [-1 -1]\n",
        "  [-2 -2]]\n",
        "\n",
        " [[ 1  1]\n",
        "  [ 0  0]\n",
        "  [-1 -1]]\n",
        "\n",
        " [[ 2  2]\n",
        "  [ 1  1]\n",
        "  [ 0  0]]]\n",
        "(3, 3, 2)\n",
        "[0 2 8]\n",
        "------\n",
        "[[[ 0  0  0]\n",
        "  [-3 -3 -3]]\n",
        "\n",
        " [[ 3  3  3]\n",
        "  [ 0  0  0]]]\n"
       ]
      }
     ],
     "prompt_number": 124
    },
    {
     "cell_type": "code",
     "collapsed": false,
     "input": [
      "print M\n",
      "print M.shape # 2*3\n",
      "# rows: 1*2*3 - 2*1*3\n",
      "new = M.T\n",
      "obj = new[np.newaxis,:,:] - new[:,np.newaxis,:]\n",
      "print obj\n",
      "print obj.shape"
     ],
     "language": "python",
     "metadata": {},
     "outputs": [
      {
       "output_type": "stream",
       "stream": "stdout",
       "text": [
        "[[1 2 3]\n",
        " [4 5 6]]\n",
        "(2, 3)\n",
        "[[[ 0  0]\n",
        "  [ 1  1]\n",
        "  [ 2  2]]\n",
        "\n",
        " [[-1 -1]\n",
        "  [ 0  0]\n",
        "  [ 1  1]]\n",
        "\n",
        " [[-2 -2]\n",
        "  [-1 -1]\n",
        "  [ 0  0]]]\n",
        "(3, 3, 2)\n"
       ]
      }
     ],
     "prompt_number": 82
    },
    {
     "cell_type": "code",
     "collapsed": false,
     "input": [
      "# Why are my output from the row vectors different?\n",
      "# This is correct because there are only two row vectors in M\n",
      "\n",
      "def function2(M, distance_func):\n",
      "    \"\"\"using looping for M as a collection of row vectors\n",
      "        distance_func = {Euclidean, Euclidean squared, cosine}\"\"\"\n",
      "    # M.shape[0] == number of rows / M.shape[1] == number of columns\n",
      "    dist = np.zeros((2,2)) # initialization\n",
      "    for i in range(M.shape[0]):\n",
      "        for j in range(i,M.shape[0]):\n",
      "            dist[i,j] = distance_func(M[i,:],M[j,:])\n",
      "    \n",
      "    # Then \"reflect\" the lower triangular part to the upper triangular one\n",
      "    dist = dist + dist.T - np.diag(dist.diagonal())\n",
      "    return dist\n",
      "\n",
      "print function2(M,Euclidean),'\\n'\n",
      "print function2(M,Euclidean_squared),'\\n'\n",
      "print function2(M,cosine)\n",
      "# M.shape[0]"
     ],
     "language": "python",
     "metadata": {},
     "outputs": [
      {
       "output_type": "stream",
       "stream": "stdout",
       "text": [
        "[[ 0.000  5.196]\n",
        " [ 5.196  0.000]] \n",
        "\n",
        "[[ 0.000  27.000]\n",
        " [ 27.000  0.000]] \n",
        "\n",
        "[[ 1.000  0.975]\n",
        " [ 0.975  1.000]]\n"
       ]
      }
     ],
     "prompt_number": 8
    },
    {
     "cell_type": "code",
     "collapsed": false,
     "input": [
      "def function3(M, distance_func):\n",
      "    \"\"\"using looping for M as a collection of column vectors\n",
      "        distance_func = {Euclidean, Euclidean squared, cosine}\"\"\"\n",
      "    # M.shape[0] == number of rows / M.shape[1] == number of columns\n",
      "    dist = np.zeros((3,3)) # initialization\n",
      "    for i in range(M.shape[1]):\n",
      "        for j in range(i,M.shape[1]):\n",
      "            dist[i,j] = distance_func(M[:,i],M[:,j])\n",
      "    \n",
      "    # Then \"reflect\" the lower triangular part to the upper triangular one\n",
      "    dist = dist + dist.T - np.diag(dist.diagonal())\n",
      "    return dist\n",
      "\n",
      "print function3(M,Euclidean),'\\n'\n",
      "print function3(M,Euclidean_squared),'\\n'\n",
      "print function3(M,cosine)\n",
      "# M.shape[0]"
     ],
     "language": "python",
     "metadata": {},
     "outputs": [
      {
       "output_type": "stream",
       "stream": "stdout",
       "text": [
        "[[ 0.000  1.414  2.828]\n",
        " [ 1.414  0.000  1.414]\n",
        " [ 2.828  1.414  0.000]] \n",
        "\n",
        "[[ 0.000  2.000  8.000]\n",
        " [ 2.000  0.000  2.000]\n",
        " [ 8.000  2.000  0.000]] \n",
        "\n",
        "[[ 1.000  0.991  0.976]\n",
        " [ 0.991  1.000  0.997]\n",
        " [ 0.976  0.997  1.000]]\n"
       ]
      }
     ],
     "prompt_number": 9
    },
    {
     "cell_type": "code",
     "collapsed": false,
     "input": [
      "def function4(M, distance_func):\n",
      "    \"\"\"using broadcasting for M as a collection of row vectors\n",
      "        distance_func = {Euclidean, Euclidean squared, cosine}\"\"\"\n",
      "    # M.shape[0] == number of rows / M.shape[1] == number of columns\n",
      "    dist = np.zeros((2,2)) # initialization\n",
      "    distance_func(M[:,None])\n",
      "    return None\n",
      "    # No idea here...\n",
      "\n",
      "print M[0,:]\n",
      "# map(Euclidean,M[0::,:],M[1::,:])"
     ],
     "language": "python",
     "metadata": {},
     "outputs": [
      {
       "output_type": "stream",
       "stream": "stdout",
       "text": [
        "[1 2 3]\n"
       ]
      }
     ],
     "prompt_number": 22
    },
    {
     "cell_type": "code",
     "collapsed": false,
     "input": [
      "def function5(M, distance_func):\n",
      "    \"\"\"using broadcasting for M as a collection of column vectors\n",
      "        distance_func = {Euclidean, Euclidean squared, cosine}\"\"\"\n",
      "    # M.shape[0] == number of rows / M.shape[1] == number of columns\n",
      "    dist = np.zeros((3,3)) # initialization\n",
      "    distance_func(M[:,None])\n",
      "    # No idea here...\n",
      "    \n",
      "    \n",
      "    for i in range(M.shape[1]):\n",
      "        for j in range(i,M.shape[1]):\n",
      "            dist[i,j] = distance_func(M[:,i],M[:,j])\n",
      "    \n",
      "    # Then \"reflect\" the lower triangular part to the upper triangular one\n",
      "    dist = dist + dist.T - np.diag(dist.diagonal())\n",
      "    return dist\n",
      "\n",
      "print function3(M,Euclidean),'\\n'\n",
      "print function3(M,Euclidean_squared),'\\n'\n",
      "print function3(M,cosine)\n",
      "# M.shape[0]"
     ],
     "language": "python",
     "metadata": {},
     "outputs": [
      {
       "output_type": "stream",
       "stream": "stdout",
       "text": [
        "[[ 0.000  1.414  2.828]\n",
        " [ 1.414  0.000  1.414]\n",
        " [ 2.828  1.414  0.000]] \n",
        "\n",
        "[[ 0.000  2.000  8.000]\n",
        " [ 2.000  0.000  2.000]\n",
        " [ 8.000  2.000  0.000]] \n",
        "\n",
        "[[ 1.000  0.991  0.976]\n",
        " [ 0.991  1.000  0.997]\n",
        " [ 0.976  0.997  1.000]]\n"
       ]
      }
     ],
     "prompt_number": 51
    },
    {
     "cell_type": "code",
     "collapsed": false,
     "input": [
      "print M.shape[0]\n",
      "print M.shape[1]\n",
      "print Euclidean(M[:,np.newaxis],M[:,np.newaxis])"
     ],
     "language": "python",
     "metadata": {},
     "outputs": [
      {
       "output_type": "stream",
       "stream": "stdout",
       "text": [
        "2\n",
        "3\n",
        "0.0\n"
       ]
      }
     ],
     "prompt_number": 64
    },
    {
     "cell_type": "markdown",
     "metadata": {},
     "source": [
      "**Exercise 2 (10 points)**. Write 3 functions to calculate the term frequency (tf), the inverse document frequency (idf) and the product (tf-idf). Each function should take a single argument `docs`, which is a dictionary of (key=identifier, value=dcoument text) pairs, and return an appropriately sized array. Convert '-' to ' ' (space), remove punctuation, convert text to lowercase and split on whitespace to generate a collection of terms from the dcoument text.\n",
      "\n",
      "- tf = the number of occurrences of term $i$ in document $j$\n",
      "- idf = $\\log \\frac{n}{1 + \\text{df}_i}$ where $n$ is the total number of documents and $\\text{df}_i$ is the number of documents in which term $i$ occurs.\n",
      "\n",
      "Print the table of tf-idf values for the following document collection\n",
      "\n",
      "```\n",
      "s1 = \"The quick brown fox\"\n",
      "s2 = \"Brown fox jumps over the jumps jumps jumps\"\n",
      "s3 = \"The the the lazy dog elephant.\"\n",
      "s4 = \"The the the the the dog peacock lion tiger elephant\"\n",
      "\n",
      "docs = {'s1': s1, 's2': s2, 's3': s3, 's4': s4}\n",
      "```\n",
      "\n",
      "Note: You can use either a numpy array or pandas dataframe to store the matrix. However, we suggest using a Pandas dataframe since that will allow you to keep track of the row (term) and column (document) names in a single object. Of course, you could also maintain a numpy matrix, a list of terms, and a list of documents separately if you prefer."
     ]
    },
    {
     "cell_type": "code",
     "collapsed": false,
     "input": [
      "s1 = \"The quick brown fox\"\n",
      "s2 = \"Brown fox jumps over the jumps jumps jumps\"\n",
      "s3 = \"The the the lazy dog elephant.\"\n",
      "s4 = \"The the the the the dog peacock lion tiger elephant\"\n",
      "\n",
      "docs = {'s1': s1, 's2': s2, 's3': s3, 's4': s4}"
     ],
     "language": "python",
     "metadata": {},
     "outputs": [],
     "prompt_number": 194
    },
    {
     "cell_type": "code",
     "collapsed": false,
     "input": [
      "np.set_printoptions(formatter={'float': '{: 0.3f}'.format})\n",
      "\n",
      "def tf(docs):\n",
      "    \"\"\"tf scores: the number of occurrences of term i in document j\n",
      "       Return: wordUnion (words), initMat (tf scores), separate (document names)\"\"\"\n",
      "    # Step 1: clean up the docs and split into words\n",
      "    import string\n",
      "    from string import punctuation\n",
      "    # Convert '-' to ' ' (space), remove punctuation, convert text to lowercase\n",
      "    clean = docs.copy()\n",
      "    for name in docs:\n",
      "        temp = docs[name]\n",
      "        clean[name] = temp.replace('-',' ')\n",
      "        clean[name] = ''.join([c for c in clean[name] if c not in punctuation])\n",
      "        clean[name] = clean[name].lower()\n",
      "    \n",
      "    # Step 2: find the union of all words from the docs\n",
      "    separate = clean.copy()\n",
      "    wordUnion = set()\n",
      "    for name in clean:\n",
      "        separate[name] = clean[name].split(' ')\n",
      "        wordUnion = wordUnion.union(set(separate[name]))\n",
      "    wordUnion = sorted(wordUnion)\n",
      "    separate = sorted(separate)\n",
      "    \n",
      "    # Step 3: calculate the frequency of each word\n",
      "    # Generate a matrix: column = each word, row = each document\n",
      "    # How to make an np.array with headers for rows and columns?\n",
      "    initMat = np.zeros((len(separate),len(wordUnion)))\n",
      "    for i in range(len(wordUnion)):\n",
      "        j = 0\n",
      "        for name in separate:\n",
      "            string = clean[name]\n",
      "            initMat[j,i] = string.count(wordUnion[i])\n",
      "            j += 1\n",
      "    return wordUnion, initMat, separate\n",
      "\n",
      "# wordUnion, initMat, separate = tf(docs)    \n",
      "# print wordUnion\n",
      "# print initMat\n",
      "# print initMat.shape\n",
      "# print separate\n",
      "# print \"-----------\"\n",
      "\n",
      "def idf(docs):\n",
      "    \"\"\"Return the idf scores: idf_i = log(n/(1+df_i)),\n",
      "    df_i = # of documents in which term i occurs\"\"\"\n",
      "    wordUnion, initMat, separate = tf(docs)\n",
      "    df_array = np.sum(initMat != 0,axis=0) # add up the df_i for each word\n",
      "    return np.log(len(docs)/(1.0+df_array))\n",
      "    # pass # null operation\n",
      "\n",
      "# idontfly = idf(docs)\n",
      "# print initMat\n",
      "# print idontfly\n",
      "\n",
      "# text = initMat * idontfly\n",
      "# print text.shape\n",
      "# print text\n",
      "\n",
      "def tfidf(docs):\n",
      "    \"\"\"Return the tf-idf scores:\n",
      "       Return: initMat*idontfly (tf scores), wordUnion (words), separate (document names)\"\"\"\n",
      "    wordUnion, initMat, separate = tf(docs)\n",
      "    idontfly = idf(docs)\n",
      "    return initMat*idontfly, wordUnion, separate\n",
      "\n",
      "tfidfScores, wordUnion, separate = tfidf(docs)\n",
      "print \"The tf-idf scores are:\\n\", tfidfScores\n",
      "print \"The row names are: \", separate\n",
      "print \"The column names are: \",wordUnion"
     ],
     "language": "python",
     "metadata": {},
     "outputs": [
      {
       "output_type": "stream",
       "stream": "stdout",
       "text": [
        "The tf-idf scores are:\n",
        "[[ 0.288  0.000  0.000  0.288  0.000  0.000  0.000  0.000  0.000  0.693\n",
        "  -0.223  0.000]\n",
        " [ 0.288  0.000  0.000  0.288  2.773  0.000  0.000  0.693  0.000  0.000\n",
        "  -0.223  0.000]\n",
        " [ 0.000  0.288  0.288  0.000  0.000  0.693  0.000  0.000  0.000  0.000\n",
        "  -0.669  0.000]\n",
        " [ 0.000  0.288  0.288  0.000  0.000  0.000  0.693  0.000  0.693  0.000\n",
        "  -1.116  0.693]]\n",
        "The row names are:  ['s1', 's2', 's3', 's4']\n",
        "The column names are:  ['brown', 'dog', 'elephant', 'fox', 'jumps', 'lazy', 'lion', 'over', 'peacock', 'quick', 'the', 'tiger']\n"
       ]
      }
     ],
     "prompt_number": 195
    },
    {
     "cell_type": "markdown",
     "metadata": {},
     "source": [
      "**Exercise 3 (10 points)**. \n",
      "\n",
      "1. Write a function that takes a matrix $M$ and an integer $k$ as arguments, and reconstructs a reduced matrix using only the $k$ largest singular values. Use the `scipy.linalg.svd` function to perform the decomposition. This is the least squares approximation to the matrix $M$ in $k$ dimensions.\n",
      "\n",
      "2. Apply the function you just wrote to the following term-frequency matrix for a set of $9$ documents using $k=2$ and print the reconstructed matrix $M'$.\n",
      "```\n",
      "M = np.array([[1, 0, 0, 1, 0, 0, 0, 0, 0],\n",
      "       [1, 0, 1, 0, 0, 0, 0, 0, 0],\n",
      "       [1, 1, 0, 0, 0, 0, 0, 0, 0],\n",
      "       [0, 1, 1, 0, 1, 0, 0, 0, 0],\n",
      "       [0, 1, 1, 2, 0, 0, 0, 0, 0],\n",
      "       [0, 1, 0, 0, 1, 0, 0, 0, 0],\n",
      "       [0, 1, 0, 0, 1, 0, 0, 0, 0],\n",
      "       [0, 0, 1, 1, 0, 0, 0, 0, 0],\n",
      "       [0, 1, 0, 0, 0, 0, 0, 0, 1],\n",
      "       [0, 0, 0, 0, 0, 1, 1, 1, 0],\n",
      "       [0, 0, 0, 0, 0, 0, 1, 1, 1],\n",
      "       [0, 0, 0, 0, 0, 0, 0, 1, 1]])\n",
      "```\n",
      "\n",
      "3. Calculate the pairwise correlation matrix for the original matrix M and the reconstructed matrix using $k=2$ singular values (you may use [scipy.stats.spearmanr](http://docs.scipy.org/doc/scipy/reference/generated/scipy.stats.spearmanr.html) to do the calculations). Consider the first 5 sets of documents as one group $G1$ and the last 4 as another group $G2$ (i.e. first 5 and last 4 columns). What is the average within group correlation for $G1$, $G2$ and the average cross-group correlation for G1-G2 using either $M$ or $M'$. (Do not include self-correlation in the within-group calculations.)."
     ]
    },
    {
     "cell_type": "code",
     "collapsed": false,
     "input": [
      "# Your code here\n",
      "np.set_printoptions(formatter={'float': '{: 0.3f}'.format})\n",
      "# np.set_printoptions()\n",
      "\n",
      "def leastSquares(M, k):\n",
      "    \"\"\"The least square approximation to the matrix M in k dimensions\"\"\"\n",
      "    # X = U*sigma*V\n",
      "    # (mxn) = (mxm)(mxn)(nxn)\n",
      "    # New: X = U*sigma*V\n",
      "    # (mxn) = (mxp)(pxp)(pxn)\n",
      "    import scipy.linalg as la\n",
      "    U, s, V = la.svd(M, full_matrices=False)\n",
      "    s_new = s[0:k] # indices: the last boundary is NOT included\n",
      "    U_new = U[:,0:k]\n",
      "    V_new = V[0:k,:]\n",
      "    return np.dot(U_new, np.dot(np.diag(s_new),V_new))"
     ],
     "language": "python",
     "metadata": {},
     "outputs": [],
     "prompt_number": 190
    },
    {
     "cell_type": "code",
     "collapsed": false,
     "input": [
      "M = np.array([[1, 0, 0, 1, 0, 0, 0, 0, 0],\n",
      "    [1, 0, 1, 0, 0, 0, 0, 0, 0],\n",
      "    [1, 1, 0, 0, 0, 0, 0, 0, 0],\n",
      "    [0, 1, 1, 0, 1, 0, 0, 0, 0],\n",
      "    [0, 1, 1, 2, 0, 0, 0, 0, 0],\n",
      "    [0, 1, 0, 0, 1, 0, 0, 0, 0],\n",
      "    [0, 1, 0, 0, 1, 0, 0, 0, 0],\n",
      "    [0, 0, 1, 1, 0, 0, 0, 0, 0],\n",
      "    [0, 1, 0, 0, 0, 0, 0, 0, 1],\n",
      "    [0, 0, 0, 0, 0, 1, 1, 1, 0],\n",
      "    [0, 0, 0, 0, 0, 0, 1, 1, 1],\n",
      "    [0, 0, 0, 0, 0, 0, 0, 1, 1]])\n",
      "\n",
      "M_new = leastSquares(M,2)\n",
      "print \"Least-squares approximated M' with 2 singular values:\\n\",M_new\n",
      "# U, s, V = la.svd(M_new, full_matrices=False)\n",
      "# np.dot(U,np.dot(np.diag(s),V))\n",
      "# print U\n",
      "# print s"
     ],
     "language": "python",
     "metadata": {},
     "outputs": [
      {
       "output_type": "stream",
       "stream": "stdout",
       "text": [
        "Least-squares approximated M' with 2 singular values:\n",
        "[[ 0.162  0.400  0.379  0.468  0.176 -0.053 -0.115 -0.159 -0.092]\n",
        " [ 0.141  0.370  0.329  0.400  0.165 -0.033 -0.071 -0.097 -0.043]\n",
        " [ 0.152  0.505  0.358  0.410  0.236  0.024  0.060  0.087  0.124]\n",
        " [ 0.258  0.841  0.606  0.697  0.392  0.033  0.083  0.122  0.187]\n",
        " [ 0.449  1.234  1.051  1.266  0.556 -0.074 -0.155 -0.210 -0.049]\n",
        " [ 0.160  0.582  0.375  0.417  0.277  0.056  0.132  0.189  0.217]\n",
        " [ 0.160  0.582  0.375  0.417  0.277  0.056  0.132  0.189  0.217]\n",
        " [ 0.218  0.550  0.511  0.628  0.243 -0.065 -0.143 -0.197 -0.108]\n",
        " [ 0.097  0.532  0.230  0.212  0.267  0.137  0.315  0.444  0.425]\n",
        " [-0.061  0.232 -0.139 -0.266  0.145  0.240  0.546  0.767  0.664]\n",
        " [-0.065  0.335 -0.146 -0.301  0.203  0.306  0.695  0.977  0.849]\n",
        " [-0.043  0.254 -0.097 -0.208  0.152  0.221  0.503  0.707  0.616]]\n"
       ]
      }
     ],
     "prompt_number": 191
    },
    {
     "cell_type": "code",
     "collapsed": false,
     "input": [
      "rho1, pval1 = st.spearmanr(M)\n",
      "print \"Pairwise correlation matrix for the original M:\"\n",
      "print np.array(rho1),'\\n'\n",
      "\n",
      "rho2, pval2 = st.spearmanr(M_new)\n",
      "print \"Pairwise correlation matrix for the least-squares approximated M':\"\n",
      "print np.array(rho2)"
     ],
     "language": "python",
     "metadata": {},
     "outputs": [
      {
       "output_type": "stream",
       "stream": "stdout",
       "text": [
        "Pairwise correlation matrix for the original M:\n",
        "[[ 1.000 -0.192  0.000  0.073 -0.333 -0.174 -0.258 -0.333 -0.333]\n",
        " [-0.192  1.000  0.000 -0.127  0.577 -0.302 -0.447 -0.577 -0.192]\n",
        " [ 0.000  0.000  1.000  0.438  0.000 -0.213 -0.316 -0.408 -0.408]\n",
        " [ 0.073 -0.127  0.438  1.000 -0.330 -0.172 -0.256 -0.330 -0.330]\n",
        " [-0.333  0.577  0.000 -0.330  1.000 -0.174 -0.258 -0.333 -0.333]\n",
        " [-0.174 -0.302 -0.213 -0.172 -0.174  1.000  0.674  0.522 -0.174]\n",
        " [-0.258 -0.447 -0.316 -0.256 -0.258  0.674  1.000  0.775  0.258]\n",
        " [-0.333 -0.577 -0.408 -0.330 -0.333  0.522  0.775  1.000  0.556]\n",
        " [-0.333 -0.192 -0.408 -0.330 -0.333 -0.174  0.258  0.556  1.000]] \n",
        "\n",
        "Pairwise correlation matrix for the least-squares approximated M':\n",
        "[[ 1.000  0.846  1.000  0.998  0.719 -0.837 -0.837 -0.837 -0.802]\n",
        " [ 0.846  1.000  0.846  0.844  0.972 -0.557 -0.557 -0.557 -0.480]\n",
        " [ 1.000  0.846  1.000  0.998  0.719 -0.837 -0.837 -0.837 -0.802]\n",
        " [ 0.998  0.844  0.998  1.000  0.718 -0.839 -0.839 -0.839 -0.804]\n",
        " [ 0.719  0.972  0.719  0.718  1.000 -0.389 -0.389 -0.389 -0.298]\n",
        " [-0.837 -0.557 -0.837 -0.839 -0.389  1.000  1.000  1.000  0.979]\n",
        " [-0.837 -0.557 -0.837 -0.839 -0.389  1.000  1.000  1.000  0.979]\n",
        " [-0.837 -0.557 -0.837 -0.839 -0.389  1.000  1.000  1.000  0.979]\n",
        " [-0.802 -0.480 -0.802 -0.804 -0.298  0.979  0.979  0.979  1.000]]\n"
       ]
      }
     ],
     "prompt_number": 192
    },
    {
     "cell_type": "code",
     "collapsed": false,
     "input": [
      "def corrWithin(G):\n",
      "    \"\"\"Return the average correlation within the column vectors group\"\"\"\n",
      "    ncol = G.shape[1]\n",
      "    corrSum = 0.0\n",
      "    for i in range(0,ncol):\n",
      "        for j in range(i,ncol):\n",
      "            corrMat = np.corrcoef(G[:,i],G[:,j])\n",
      "            corrSum += corrMat[0,1]\n",
      "    corrSum -= ncol\n",
      "    operations = ncol*(ncol-1)/2\n",
      "    return (corrSum/operations) # remove self-correlation\n",
      "\n",
      "def corrBetween(G1,G2):\n",
      "    \"\"\"Return the average cross-group correlation for two column vectors groups\"\"\"\n",
      "    ncol1 = G1.shape[1]\n",
      "    ncol2 = G2.shape[1]\n",
      "    corrSum = 0.0\n",
      "    for i in range(0,ncol1):\n",
      "        for j in range(0,ncol2):\n",
      "            corrMat = np.corrcoef(G1[:,i],G2[:,j])\n",
      "            corrSum += corrMat[0,1]\n",
      "    return (corrSum/(ncol1*ncol2))\n",
      "\n",
      "# Using M\n",
      "G1 = M[:,:5] # First 5 columns\n",
      "G2 = M[:,5:] # Last 4 columns\n",
      "print \"Using the original M:\"\n",
      "print \"Correlation within G1:\",corrWithin(G1)\n",
      "print \"Correlation within G2:\",corrWithin(G2)\n",
      "print \"Correlation between G1 and G2:\",corrBetween(G1,G2),'\\n'\n",
      "\n",
      "# Using M_new\n",
      "G1 = M_new[:,:5] # First 5 columns\n",
      "G2 = M_new[:,5:] # Last 4 columns\n",
      "print \"Using the the least-squares approximated M':\"\n",
      "print \"Correlation within G1:\",corrWithin(G1)\n",
      "print \"Correlation within G2:\",corrWithin(G2)\n",
      "print \"Correlation between G1 and G2:\",corrBetween(G1,G2)"
     ],
     "language": "python",
     "metadata": {},
     "outputs": [
      {
       "output_type": "stream",
       "stream": "stdout",
       "text": [
        "Using the original M:\n",
        "Correlation within G1: 0.0215415737464\n",
        "Correlation within G2: 0.43511771482\n",
        "Correlation between G1 and G2: -0.303988025078 \n",
        "\n",
        "Using the the least-squares approximated M':\n",
        "Correlation within G1: 0.918795192066\n",
        "Correlation within G2: 0.998462087802\n",
        "Correlation between G1 and G2: -0.70525566678\n"
       ]
      }
     ],
     "prompt_number": 193
    },
    {
     "cell_type": "markdown",
     "metadata": {},
     "source": [
      "**Exercise 4 (20 points)**. Clustering with LSA\n",
      "\n",
      "1. Begin by loading a pubmed database of selected article titles using 'cPickle'. With the following:\n",
      "```import cPickle\n",
      "docs = cPickle.load(open('pubmed.pic'))```\n",
      "\n",
      "    Create a tf-idf matrix for every term that appears at least once in any of the documents. What is the shape of the tf-idf matrix? \n",
      "\n",
      "2. Perform SVD on the tf-idf matrix to obtain $U \\Sigma V^T$ (often written as $T \\Sigma D^T$ in this context with $T$ representing the terms and $D$ representing the documents). If we set all but the top $k$ singular values to 0, the reconstructed matrix is essentially $U_k \\Sigma_k V_k^T$, where $U_k$ is $m \\times k$, $\\Sigma_k$ is $k \\times k$ and $V_k^T$ is $k \\times n$. Terms in this reduced space are represented by $U_k \\Sigma_k$ and documents by $\\Sigma_k V^T_k$. Reconstruct the matrix using the first $k=10$ singular values.\n",
      "\n",
      "3. Use agglomerative hierachical clustering with complete linkage to plot a dendrogram and comment on the likely number of  document clusters with $k = 100$. Use the dendrogram function from [SciPy ](https://docs.scipy.org/doc/scipy-0.15.1/reference/generated/scipy.cluster.hierarchy.dendrogram.html).\n",
      "\n",
      "4. Determine how similar each of the original documents is to the new document `mystery.txt`. Since $A = U \\Sigma V^T$, we also have $V = A^T U S^{-1}$ using orthogonality and the rule for transposing matrix products. This suggests that in order to map the new document to the same concept space, first find the tf-idf vector $v$ for the new document - this must contain all (and only) the terms present in the existing tf-idx matrix. Then the query vector $q$ is given by $v^T U_k \\Sigma_k^{-1}$. Find the 10 documents most similar to the new document and the 10 most dissimilar. \n",
      "\n",
      "5. Many documents often have some boilerplate material such as organization information, Copyright, etc. at the front or back of the document. Does it matter that the front and back matter of each document is essentially identical for either LSA-based clustering (part 3) or information retrieval (part 4)? Why or why not?"
     ]
    },
    {
     "cell_type": "code",
     "collapsed": false,
     "input": [
      "# your code here\n",
      "docs = cPickle.load(open('pubmed.pic'))\n",
      "tfidfScores, wordUnion, separate = tfidf(docs)\n",
      "\n",
      "print \"The size of TF-IDF matrix is:\",tfidfScores.shape\n",
      "print \"There are\",tfidfScores.shape[0],\"documents\"\n",
      "print \"These documents contain\",tfidfScores.shape[1],\"words in total\""
     ],
     "language": "python",
     "metadata": {},
     "outputs": [
      {
       "output_type": "stream",
       "stream": "stdout",
       "text": [
        "The size of TF-IDF matrix is: (178, 6638)\n",
        "There are 178 documents\n",
        "These documents contain 6638 words in total\n"
       ]
      }
     ],
     "prompt_number": 200
    },
    {
     "cell_type": "code",
     "collapsed": false,
     "input": [
      "# X = U*sigma*V\n",
      "# (mxn) = (mxm)(mxn)(nxn)\n",
      "# New: X = U*sigma*V\n",
      "# (mxn) = (mxp)(pxp)(pxn)\n",
      "import scipy.linalg as la\n",
      "U, s, V = la.svd(tfidfScores, full_matrices=False)\n",
      "\n",
      "tfidf_new = leastSquares(tfidfScores,10)\n",
      "print \"Reconstructed TF-IDF scores matrix with only 10 singular values:\"\n",
      "print tfidf_new"
     ],
     "language": "python",
     "metadata": {},
     "outputs": [
      {
       "output_type": "stream",
       "stream": "stdout",
       "text": [
        "Reconstructed TF-IDF scores matrix with only 10 singular values:\n",
        "[[-4.414  0.651  0.008 ...,  0.007  0.053  0.011]\n",
        " [-9.252  0.461  0.057 ...,  0.005  0.170  0.022]\n",
        " [-8.488  2.784  0.010 ...,  0.013  0.116  0.019]\n",
        " ..., \n",
        " [-7.628  1.562  0.042 ...,  0.004  0.135  0.016]\n",
        " [-14.382  8.143  0.045 ...,  0.009  0.094  0.016]\n",
        " [-12.616  2.645  0.073 ...,  0.005  0.211  0.026]]\n"
       ]
      }
     ],
     "prompt_number": 202
    },
    {
     "cell_type": "code",
     "collapsed": false,
     "input": [
      "import scipy.cluster.hierarchy as sch\n",
      "sch.dendrogram(tfidf_new)\n",
      "# Have not figured out how to do this yet..."
     ],
     "language": "python",
     "metadata": {},
     "outputs": [
      {
       "ename": "ValueError",
       "evalue": "Linkage matrix 'Z' must have 4 columns.",
       "output_type": "pyerr",
       "traceback": [
        "\u001b[1;31m---------------------------------------------------------------------------\u001b[0m\n\u001b[1;31mValueError\u001b[0m                                Traceback (most recent call last)",
        "\u001b[1;32m<ipython-input-206-7780541f66c1>\u001b[0m in \u001b[0;36m<module>\u001b[1;34m()\u001b[0m\n\u001b[0;32m      1\u001b[0m \u001b[1;32mimport\u001b[0m \u001b[0mscipy\u001b[0m\u001b[1;33m.\u001b[0m\u001b[0mcluster\u001b[0m\u001b[1;33m.\u001b[0m\u001b[0mhierarchy\u001b[0m \u001b[1;32mas\u001b[0m \u001b[0msch\u001b[0m\u001b[1;33m\u001b[0m\u001b[0m\n\u001b[1;32m----> 2\u001b[1;33m \u001b[0msch\u001b[0m\u001b[1;33m.\u001b[0m\u001b[0mdendrogram\u001b[0m\u001b[1;33m(\u001b[0m\u001b[0mtfidf_new\u001b[0m\u001b[1;33m)\u001b[0m\u001b[1;33m\u001b[0m\u001b[0m\n\u001b[0m",
        "\u001b[1;32m/home/bitnami/anaconda/lib/python2.7/site-packages/scipy/cluster/hierarchy.pyc\u001b[0m in \u001b[0;36mdendrogram\u001b[1;34m(Z, p, truncate_mode, color_threshold, get_leaves, orientation, labels, count_sort, distance_sort, show_leaf_counts, no_plot, no_labels, color_list, leaf_font_size, leaf_rotation, leaf_label_func, no_leaves, show_contracted, link_color_func, ax)\u001b[0m\n\u001b[0;32m   2116\u001b[0m     \u001b[0mZ\u001b[0m \u001b[1;33m=\u001b[0m \u001b[0mnp\u001b[0m\u001b[1;33m.\u001b[0m\u001b[0masarray\u001b[0m\u001b[1;33m(\u001b[0m\u001b[0mZ\u001b[0m\u001b[1;33m,\u001b[0m \u001b[0morder\u001b[0m\u001b[1;33m=\u001b[0m\u001b[1;34m'c'\u001b[0m\u001b[1;33m)\u001b[0m\u001b[1;33m\u001b[0m\u001b[0m\n\u001b[0;32m   2117\u001b[0m \u001b[1;33m\u001b[0m\u001b[0m\n\u001b[1;32m-> 2118\u001b[1;33m     \u001b[0mis_valid_linkage\u001b[0m\u001b[1;33m(\u001b[0m\u001b[0mZ\u001b[0m\u001b[1;33m,\u001b[0m \u001b[0mthrow\u001b[0m\u001b[1;33m=\u001b[0m\u001b[0mTrue\u001b[0m\u001b[1;33m,\u001b[0m \u001b[0mname\u001b[0m\u001b[1;33m=\u001b[0m\u001b[1;34m'Z'\u001b[0m\u001b[1;33m)\u001b[0m\u001b[1;33m\u001b[0m\u001b[0m\n\u001b[0m\u001b[0;32m   2119\u001b[0m     \u001b[0mZs\u001b[0m \u001b[1;33m=\u001b[0m \u001b[0mZ\u001b[0m\u001b[1;33m.\u001b[0m\u001b[0mshape\u001b[0m\u001b[1;33m\u001b[0m\u001b[0m\n\u001b[0;32m   2120\u001b[0m     \u001b[0mn\u001b[0m \u001b[1;33m=\u001b[0m \u001b[0mZs\u001b[0m\u001b[1;33m[\u001b[0m\u001b[1;36m0\u001b[0m\u001b[1;33m]\u001b[0m \u001b[1;33m+\u001b[0m \u001b[1;36m1\u001b[0m\u001b[1;33m\u001b[0m\u001b[0m\n",
        "\u001b[1;32m/home/bitnami/anaconda/lib/python2.7/site-packages/scipy/cluster/hierarchy.pyc\u001b[0m in \u001b[0;36mis_valid_linkage\u001b[1;34m(Z, warning, throw, name)\u001b[0m\n\u001b[0;32m   1304\u001b[0m             \u001b[1;32mif\u001b[0m \u001b[0mname\u001b[0m\u001b[1;33m:\u001b[0m\u001b[1;33m\u001b[0m\u001b[0m\n\u001b[0;32m   1305\u001b[0m                 raise ValueError('Linkage matrix \\'%s\\' must have 4 columns.'\n\u001b[1;32m-> 1306\u001b[1;33m                                  % name)\n\u001b[0m\u001b[0;32m   1307\u001b[0m             \u001b[1;32melse\u001b[0m\u001b[1;33m:\u001b[0m\u001b[1;33m\u001b[0m\u001b[0m\n\u001b[0;32m   1308\u001b[0m                 \u001b[1;32mraise\u001b[0m \u001b[0mValueError\u001b[0m\u001b[1;33m(\u001b[0m\u001b[1;34m'Linkage matrix must have 4 columns.'\u001b[0m\u001b[1;33m)\u001b[0m\u001b[1;33m\u001b[0m\u001b[0m\n",
        "\u001b[1;31mValueError\u001b[0m: Linkage matrix 'Z' must have 4 columns."
       ]
      }
     ],
     "prompt_number": 206
    },
    {
     "cell_type": "code",
     "collapsed": false,
     "input": [
      "mystery = open('mystery.txt').read() # type: string\n",
      "new_docs = {'mystery': mystery}\n",
      "\n",
      "v_tfidfScores, v_wordUnion, v_separate = tfidf(new_docs)\n",
      "# Why do I see a lot of \"\\r\" and \"\\n\"?\n",
      "\n",
      "print v_wordUnion\n",
      "# print separate\n",
      "# print mystery"
     ],
     "language": "python",
     "metadata": {},
     "outputs": [
      {
       "output_type": "stream",
       "stream": "stdout",
       "text": [
        "['', '\\r\\n', '07', '1', '10', '11', '12', '14', '15', '150', '17', '18', '2', '2\\r\\n', '20', '21', '25', '26', '27', '29\\r\\n', '3', '3867', '40', '48', '54', '6', '6\\r\\n', '60', '61', '62', '69', '7', '70', '79', '82', '88', '95', 'a', 'a\\r\\n', 'a1c', 'achievable', 'actual', 'added', 'after', 'age', 'agents', 'aggregate', 'aggregate\\r\\n', 'aim', 'all', 'all\\r\\n', 'alone\\r\\n', 'also', 'also\\r\\n', 'among\\r\\n', 'amputation', 'an', 'analysed', 'analyses', 'analysis', 'and', 'angina', 'any', 'assess', 'assessed', 'assigned', 'at', 'atheroma', 'best', 'between', 'between\\r\\n', 'blindness', 'blood', 'both', 'but', 'by', 'cardiovascular', 'cataract', 'cause', 'chlorpropamide', 'ci', 'clinical', 'compared', 'complications', 'concentrations', 'concern', 'control', 'control\\r\\n', 'controlled', 'conventional', 'conventional\\r\\n', 'death', 'decreases', 'diabetes', 'diabetes\\r\\nbackground', 'diabetesabstract', 'diabetic', 'diagnosed', 'diet', 'diet\\r\\n', 'difference', 'differences', 'digit', 'disease', 'disease\\r\\n', 'drugs', 'due', 'effect', 'effects', 'either', 'either\\r\\n', 'endpoint', 'endpoints', 'enhance\\r\\n', 'episodes', 'extraction', 'eye', 'failure', 'fasting', 'fatal', 'findings', 'for', 'formation', 'fpg', 'frequency', 'from', 'from\\r\\n', 'gain', 'glibenclamide', 'glipizide', 'glucose', 'greater', 'group', 'had', 'haemoglobin', 'haemorrhage', 'hba1c', 'heart', 'high', 'higher', 'hyperglycaemia', 'hyperglycaemic', 'hypoglycaemia', 'hypoglycaemic', 'if', 'improved', 'in', 'in\\r\\n', 'including', 'increase', 'infarction', 'insulin', 'intensive', 'intention', 'interpretation', 'iqr', 'is', 'kg', 'least\\r\\n', 'less', 'lower', 'macrovascular', 'major', 'may', 'mean', 'median', 'methods', 'microvascular', 'microvascular\\r\\n', 'mmoll', 'months', 'more', 'mortality', 'most', 'myocardial', 'need', 'newly', 'no', 'non', 'not', 'of', 'of\\r\\n', 'on', 'one', 'only', 'or', 'or\\r\\n', 'over', 'p00001', 'p0001', 'p00099', 'p0029', 'p034', 'p044', 'patients', 'per', 'peripheral', 'photocoagulation', 'photocoagulation\\r\\n', 'plasma', 'policy', 'progression', 'randomised', 'randomly', 'rates', 'reduction', 'reduction\\r\\n', 'related', 'related\\r\\n', 'renal', 'requiring', 'retinal\\r\\n', 'retinopathy', 'risk', 'significantly', 'single\\r\\n', 'stroke', 'subclinical', 'substantially', 'sudden', 'sudden\\r\\n', 'sulphonylurea', 'sulphonylurea\\r\\n', 'sulphonylureas', 'surrogate', 'symptoms', 'than', 'than\\r\\n', 'that', 'the', 'the\\r\\n', 'therapy', 'there', 'those', 'three', 'to', 'treat', 'treatment', 'trial', 'truncated\\r\\n', 'two', 'type', 'types', 'unknown', 'used', 'vascular', 'vitreous', 'was', 'we', 'weight', 'were', 'who', 'with', 'with\\r\\n', 'year', 'years', '\\xef\\xbb\\xbfintensive']\n"
       ]
      }
     ],
     "prompt_number": 219
    },
    {
     "cell_type": "code",
     "collapsed": false,
     "input": [],
     "language": "python",
     "metadata": {},
     "outputs": []
    },
    {
     "cell_type": "markdown",
     "metadata": {},
     "source": [
      "Notes on the Pubmed articles\n",
      "----\n",
      "\n",
      "These were downloaded with the following script. You don't have to download them by yourself!\n",
      "\n",
      "```python\n",
      "from Bio import Entrez, Medline\n",
      "Entrez.email = \"YOUR EMAIL HERE\"\n",
      "import cPickle\n",
      "\n",
      "try:\n",
      "    docs = cPickle.load(open('pubmed.pic'))\n",
      "except Exception, e:\n",
      "    print e\n",
      "\n",
      "    docs = {}\n",
      "    for term in ['plasmodium', 'diabetes', 'asthma', 'cytometry']:\n",
      "        handle = Entrez.esearch(db=\"pubmed\", term=term, retmax=50)\n",
      "        result = Entrez.read(handle)\n",
      "        handle.close()\n",
      "        idlist = result[\"IdList\"]\n",
      "        handle2 = Entrez.efetch(db=\"pubmed\", id=idlist, rettype=\"medline\", retmode=\"text\")\n",
      "        result2 = Medline.parse(handle2)\n",
      "        for record in result2:\n",
      "            title = record.get(\"TI\", None)\n",
      "            abstract = record.get(\"AB\", None)\n",
      "            if title is None or abstract is None:\n",
      "                continue\n",
      "            docs[title] = '\\n'.join([title, abstract])\n",
      "            print title\n",
      "        handle2.close()\n",
      "    cPickle.dump(docs, open('pubmed.pic', 'w'))\n",
      "docs.values()\n",
      "```"
     ]
    },
    {
     "cell_type": "code",
     "collapsed": false,
     "input": [],
     "language": "python",
     "metadata": {},
     "outputs": []
    }
   ],
   "metadata": {}
  }
 ]
}