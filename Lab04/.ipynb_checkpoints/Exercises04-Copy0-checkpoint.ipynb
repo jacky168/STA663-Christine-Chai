{
 "metadata": {
  "name": "",
  "signature": "sha256:3cbf95ab33481656456528d69ede69297649811a56787cf2f6d8445054800b7f"
 },
 "nbformat": 3,
 "nbformat_minor": 0,
 "worksheets": [
  {
   "cells": [
    {
     "cell_type": "code",
     "collapsed": false,
     "input": [
      "import os\n",
      "import sys\n",
      "import glob\n",
      "import matplotlib.pyplot as plt\n",
      "import numpy as np\n",
      "import pandas as pd\n",
      "%matplotlib inline\n",
      "%precision 4\n",
      "plt.style.use('ggplot')"
     ],
     "language": "python",
     "metadata": {},
     "outputs": [],
     "prompt_number": 492
    },
    {
     "cell_type": "code",
     "collapsed": false,
     "input": [
      "import scipy.linalg as la\n",
      "import scipy.stats as st"
     ],
     "language": "python",
     "metadata": {},
     "outputs": [],
     "prompt_number": 493
    },
    {
     "cell_type": "code",
     "collapsed": false,
     "input": [
      "import cPickle"
     ],
     "language": "python",
     "metadata": {},
     "outputs": [],
     "prompt_number": 494
    },
    {
     "cell_type": "code",
     "collapsed": false,
     "input": [
      "np.set_printoptions(formatter={'float': '{: 0.3f}'.format})"
     ],
     "language": "python",
     "metadata": {},
     "outputs": [],
     "prompt_number": 495
    },
    {
     "cell_type": "markdown",
     "metadata": {},
     "source": [
      "Latent Semantic Analysis (LSA) is a method for reducing the dimnesionality of documents treated as a bag of words. It is used for document classification, clustering and retrieval. For example, LSA can be used to search for prior art given a new patent application. In this homework, we will implement a small library for simple latent semantic analysis as a practical example of the application of SVD. The ideas are very similar to PCA.\n",
      "\n",
      "We will implement a toy example of LSA to get familiar with the ideas. If you want to use LSA or similar methods for statiscal language analyis, the most efficient Python library is probably [gensim](https://radimrehurek.com/gensim/) - this also provides an online algorithm - i.e. the training information can be continuously updated. Other useful functions for processing natural language can be found in the [Natural Lnaguage Toolkit](http://www.nltk.org/)."
     ]
    },
    {
     "cell_type": "markdown",
     "metadata": {},
     "source": [
      "**Note**: The SVD from scipy.linalg performs a full decomposition, which is inefficient since we only need to decompose until we get the first k singluar values. If the SVD from `scipy.linalg` is too slow, please use the `sparsesvd` function from the [sparsesvd](https://pypi.python.org/pypi/sparsesvd/) package to perform SVD instead.  You can install in the usual way with \n",
      "```\n",
      "!pip install sparsesvd\n",
      "```\n",
      "\n",
      "Then import the following\n",
      "```python\n",
      "from sparsesvd import sparsesvd \n",
      "from scipy.sparse import csc_matrix \n",
      "```\n",
      "\n",
      "and use as follows\n",
      "```python\n",
      "sparsesvd(csc_matrix(M), k=10)\n",
      "```"
     ]
    },
    {
     "cell_type": "code",
     "collapsed": false,
     "input": [
      "from sparsesvd import sparsesvd \n",
      "from scipy.sparse import csc_matrix"
     ],
     "language": "python",
     "metadata": {},
     "outputs": [],
     "prompt_number": 496
    },
    {
     "cell_type": "markdown",
     "metadata": {},
     "source": [
      "**Exercise 1 (10 points)**.  Calculating pairwise distance matrices.\n",
      "\n",
      "Suppose we want to construct a distance matrix between the rows of a matrix. For example, given the matrix \n",
      "\n",
      "```python\n",
      "M = np.array([[1,2,3],[4,5,6]])\n",
      "```\n",
      "\n",
      "the distance matrix using Euclidean distance as the measure would be\n",
      "```python\n",
      "[[ 0.000  1.414  2.828]\n",
      " [ 1.414  0.000  1.414]\n",
      " [ 2.828  1.414  0.000]] \n",
      "```\n",
      "if $M$ was a collection of column vectors.\n",
      "\n",
      "Write a function to calculate the pairwise-distance matrix given the matrix $M$ and some arbitrary distance function. Your functions should have the following signature:\n",
      "```\n",
      "def func_name(M, distance_func):\n",
      "    pass\n",
      "```\n",
      "\n",
      "0. Write a distance function for the Euclidean, squared Euclidean and cosine measures.\n",
      "1. Write the function using looping for M as a collection of row vectors.\n",
      "2. Write the function using looping for M as a collection of column vectors.\n",
      "3. Wrtie the function using broadcasting for M as a colleciton of row vectors.\n",
      "4. Write the function using broadcasting for M as a colleciton of column vectors. \n",
      "\n",
      "For 3 and 4, try to avoid using transposition (but if you get stuck, there will be no penalty for using transpoition). Check that all four functions give the same result when applied to the given matrix $M$."
     ]
    },
    {
     "cell_type": "code",
     "collapsed": false,
     "input": [
      "# Your code here\n",
      "M = np.array([[1,2,3],[4,5,6]])\n",
      "# M is a 2*3 matrix, with three column vectors\n",
      "\n",
      "# Including row/column broadcasting parameters in the THREE functions is better,\n",
      "# but since numpy user-defined functions can have the same name but different signatures,\n",
      "# you can define Euclidean(a, b) and Euclidean(pts)\n",
      "def Euclidean(a, b):\n",
      "    return np.linalg.norm(a-b)\n",
      "\n",
      "def Euclidean_fast(pts): # vectorized to calculate the row distances\n",
      "    \"\"\"Euclidean distance with broadcasting\"\"\"\n",
      "    return np.sum((pts[None,:] - pts[:, None])**2, axis=-1)**0.5\n",
      "\n",
      "def Euclidean_squared(a, b):\n",
      "    return np.linalg.norm(a-b)**2\n",
      "\n",
      "def Euclidean_squared_fast(pts): # vectorized to calculate the row distances\n",
      "    \"\"\"Euclidean squared distance with broadcasting\"\"\"\n",
      "    return np.sum((pts[None,:] - pts[:, None])**2, axis=-1)\n",
      "\n",
      "def cosine(a, b):\n",
      "    \"\"\"Cosine distance\"\"\"\n",
      "    return (1 - np.dot(a,b)/(np.linalg.norm(a)*np.linalg.norm(b)))\n",
      "\n",
      "def cosine_fast(M): # vectorized to calculate the row distances\n",
      "    \"\"\"Cosine distance with broadcasting\"\"\"\n",
      "    row, col = M.shape\n",
      "    a = np.sqrt(np.sum(M[None,:]**2,axis=-1)) # columns only\n",
      "    b = np.sqrt(np.sum(M[:,None]**2,axis=-1)) # rows only\n",
      "    denominator = a[:,None]*b[None,:]\n",
      "    numerator = np.sum(M[:,None]*M[None,:],axis=-1)\n",
      "    ones = np.ones((row,1))\n",
      "    return (ones-numerator/denominator)\n",
      "\n",
      "# Column broadcasting: just use transpose, i.e. M.T\n",
      "\n",
      "# a = np.array([1,2])\n",
      "# b = np.array([3,4])\n",
      "# print Euclidean(a,b)\n",
      "# print Euclidean_squared(a,b)\n",
      "# print cosine(a,b)"
     ],
     "language": "python",
     "metadata": {},
     "outputs": [],
     "prompt_number": 497
    },
    {
     "cell_type": "code",
     "collapsed": false,
     "input": [
      "# Why are my output from the row vectors different?\n",
      "# This is correct because there are only two row vectors in M\n",
      "\n",
      "def function2(M, distance_func):\n",
      "    \"\"\"using looping for M as a collection of row vectors\n",
      "        distance_func = {Euclidean, Euclidean_squared, cosine}\"\"\"\n",
      "    # M.shape[0] == number of rows / M.shape[1] == number of columns\n",
      "    dist = np.zeros((M.shape[0],M.shape[0])) # initialization\n",
      "    for i in range(M.shape[0]):\n",
      "        for j in range(i,M.shape[0]):\n",
      "            dist[i,j] = distance_func(M[i,:],M[j,:])\n",
      "    \n",
      "    # Then \"reflect\" the upper triangular part to the lower triangular one\n",
      "    dist = dist + dist.T - np.diag(dist.diagonal())\n",
      "    return dist\n",
      "\n",
      "print function2(M,Euclidean),'\\n'\n",
      "print function2(M,Euclidean_squared),'\\n'\n",
      "print function2(M,cosine)"
     ],
     "language": "python",
     "metadata": {},
     "outputs": [
      {
       "output_type": "stream",
       "stream": "stdout",
       "text": [
        "[[ 0.000  5.196]\n",
        " [ 5.196  0.000]] \n",
        "\n",
        "[[ 0.000  27.000]\n",
        " [ 27.000  0.000]] \n",
        "\n",
        "[[ 0.000  0.025]\n",
        " [ 0.025  0.000]]\n"
       ]
      }
     ],
     "prompt_number": 498
    },
    {
     "cell_type": "code",
     "collapsed": false,
     "input": [
      "def function3(M, distance_func):\n",
      "    \"\"\"using looping for M as a collection of column vectors\n",
      "        distance_func = {Euclidean, Euclidean_squared, cosine}\"\"\"\n",
      "    # M.shape[0] == number of rows / M.shape[1] == number of columns\n",
      "    dist = np.zeros((M.shape[1],M.shape[1])) # initialization\n",
      "    for i in range(M.shape[1]):\n",
      "        for j in range(i,M.shape[1]):\n",
      "            dist[i,j] = distance_func(M[:,i],M[:,j])\n",
      "    \n",
      "    # Then \"reflect\" the lower triangular part to the upper triangular one\n",
      "    dist = dist + dist.T - np.diag(dist.diagonal())\n",
      "    return dist\n",
      "\n",
      "print function3(M,Euclidean),'\\n'\n",
      "print function3(M,Euclidean_squared),'\\n'\n",
      "print function3(M,cosine)\n",
      "# M.shape[0]"
     ],
     "language": "python",
     "metadata": {},
     "outputs": [
      {
       "output_type": "stream",
       "stream": "stdout",
       "text": [
        "[[ 0.000  1.414  2.828]\n",
        " [ 1.414  0.000  1.414]\n",
        " [ 2.828  1.414  0.000]] \n",
        "\n",
        "[[ 0.000  2.000  8.000]\n",
        " [ 2.000  0.000  2.000]\n",
        " [ 8.000  2.000  0.000]] \n",
        "\n",
        "[[ 0.000  0.009  0.024]\n",
        " [ 0.009 -0.000  0.003]\n",
        " [ 0.024  0.003  0.000]]\n"
       ]
      }
     ],
     "prompt_number": 374
    },
    {
     "cell_type": "code",
     "collapsed": false,
     "input": [
      "def function4(M, distance_func):\n",
      "    \"\"\"using broadcasting for M as a collection of row vectors\n",
      "        distance_func = {Euclidean_fast, Euclidean_squared_fast, cosine_fast}\"\"\"\n",
      "    # M.shape[0] == number of rows / M.shape[1] == number of columns\n",
      "    return distance_func(M)\n",
      "\n",
      "print function4(M,Euclidean_fast),'\\n'\n",
      "print function4(M,Euclidean_squared_fast),'\\n'\n",
      "print function4(M,cosine_fast)"
     ],
     "language": "python",
     "metadata": {},
     "outputs": [
      {
       "output_type": "stream",
       "stream": "stdout",
       "text": [
        "[[ 0.000  5.196]\n",
        " [ 5.196  0.000]] \n",
        "\n",
        "[[ 0 27]\n",
        " [27  0]] \n",
        "\n",
        "[[[ 0.000  0.025]\n",
        "  [ 0.025  0.000]]]\n"
       ]
      }
     ],
     "prompt_number": 313
    },
    {
     "cell_type": "code",
     "collapsed": false,
     "input": [
      "def function5(M, distance_func):\n",
      "    \"\"\"using broadcasting for M as a collection of column vectors\n",
      "        distance_func = {Euclidean_fast, Euclidean_squared_fast, cosine_fast}\"\"\"\n",
      "    # M.shape[0] == number of rows / M.shape[1] == number of columns\n",
      "    return distance_func(M.T)\n",
      "\n",
      "print function5(M,Euclidean_fast),'\\n'\n",
      "print function5(M,Euclidean_squared_fast),'\\n'\n",
      "print function5(M,cosine_fast)\n",
      "# M.shape[0]"
     ],
     "language": "python",
     "metadata": {},
     "outputs": [
      {
       "output_type": "stream",
       "stream": "stdout",
       "text": [
        "[[ 0.000  1.414  2.828]\n",
        " [ 1.414  0.000  1.414]\n",
        " [ 2.828  1.414  0.000]] \n",
        "\n",
        "[[0 2 8]\n",
        " [2 0 2]\n",
        " [8 2 0]] \n",
        "\n",
        "[[[ 0.000  0.009  0.024]\n",
        "  [ 0.009 -0.000  0.003]\n",
        "  [ 0.024  0.003  0.000]]]\n"
       ]
      }
     ],
     "prompt_number": 314
    },
    {
     "cell_type": "markdown",
     "metadata": {},
     "source": [
      "**Exercise 2 (10 points)**. Write 3 functions to calculate the term frequency (tf), the inverse document frequency (idf) and the product (tf-idf). Each function should take a single argument `docs`, which is a dictionary of (key=identifier, value=dcoument text) pairs, and return an appropriately sized array. Convert '-' to ' ' (space), remove punctuation, convert text to lowercase and split on whitespace to generate a collection of terms from the dcoument text.\n",
      "\n",
      "- tf = the number of occurrences of term $i$ in document $j$\n",
      "- idf = $\\log \\frac{n}{1 + \\text{df}_i}$ where $n$ is the total number of documents and $\\text{df}_i$ is the number of documents in which term $i$ occurs.\n",
      "\n",
      "Print the table of tf-idf values for the following document collection\n",
      "\n",
      "```\n",
      "s1 = \"The quick brown fox\"\n",
      "s2 = \"Brown fox jumps over the jumps jumps jumps\"\n",
      "s3 = \"The the the lazy dog elephant.\"\n",
      "s4 = \"The the the the the dog peacock lion tiger elephant\"\n",
      "\n",
      "docs = {'s1': s1, 's2': s2, 's3': s3, 's4': s4}\n",
      "```\n",
      "\n",
      "Note: You can use either a numpy array or pandas dataframe to store the matrix. However, we suggest using a Pandas dataframe since that will allow you to keep track of the row (term) and column (document) names in a single object. Of course, you could also maintain a numpy matrix, a list of terms, and a list of documents separately if you prefer."
     ]
    },
    {
     "cell_type": "code",
     "collapsed": false,
     "input": [
      "s1 = \"The quick brown fox\"\n",
      "s2 = \"Brown fox jumps over the jumps jumps jumps\"\n",
      "s3 = \"The the the lazy dog elephant.\"\n",
      "s4 = \"The the the the the dog peacock lion tiger elephant\"\n",
      "\n",
      "docs = {'s1': s1, 's2': s2, 's3': s3, 's4': s4}"
     ],
     "language": "python",
     "metadata": {},
     "outputs": [],
     "prompt_number": 499
    },
    {
     "cell_type": "code",
     "collapsed": false,
     "input": [
      "np.set_printoptions(formatter={'float': '{: 0.3f}'.format})\n",
      "\n",
      "def tf(docs):\n",
      "    \"\"\"tf scores: the number of occurrences of term i in document j\n",
      "       Return: wordUnion (words), initMat (tf scores), separate (document names)\"\"\"\n",
      "    # Step 1: clean up the docs and split into words\n",
      "    import string\n",
      "    from string import punctuation\n",
      "    # Convert '-' to ' ' (space), remove punctuation, convert text to lowercase\n",
      "    clean = docs.copy()\n",
      "    for name in docs:\n",
      "        temp = docs[name]\n",
      "        clean[name] = temp.replace('-',' ')\n",
      "        clean[name] = ''.join([c for c in clean[name] if c not in punctuation])\n",
      "        clean[name] = clean[name].lower()\n",
      "    \n",
      "    # Step 2: find the union of all words from the docs\n",
      "    separate = clean.copy()\n",
      "    wordUnion = set()\n",
      "    for name in clean:\n",
      "        separate[name] = clean[name].split() \n",
      "        # use the default split, so \"\\r\" and \"\\n\" will be removed automatically\n",
      "        wordUnion = wordUnion.union(set(separate[name]))\n",
      "    wordUnion = sorted(wordUnion)\n",
      "    separate = sorted(separate)\n",
      "    \n",
      "    # Step 3: calculate the frequency of each word\n",
      "    # Generate a matrix: column = each word, row = each document\n",
      "    # How to make an np.array with headers for rows and columns?\n",
      "    initMat = np.zeros((len(separate),len(wordUnion)))\n",
      "    for i in range(len(wordUnion)):\n",
      "        j = 0\n",
      "        for name in separate:\n",
      "            string = clean[name]\n",
      "            initMat[j,i] = string.count(wordUnion[i])\n",
      "            j += 1\n",
      "    return wordUnion, initMat, separate\n",
      "\n",
      "# wordUnion, initMat, separate = tf(docs)    \n",
      "# print wordUnion\n",
      "# print initMat\n",
      "# print initMat.shape\n",
      "# print separate\n",
      "# print \"-----------\"\n",
      "\n",
      "def idf(docs):\n",
      "    \"\"\"Return the idf scores: idf_i = log(n/(1+df_i)),\n",
      "    df_i = # of documents in which term i occurs\"\"\"\n",
      "    wordUnion, initMat, separate = tf(docs)\n",
      "    df_array = np.sum(initMat != 0,axis=0) # add up the df_i for each word\n",
      "    return np.log(len(docs)/(1.0+df_array))\n",
      "    # pass # null operation\n",
      "\n",
      "# idontfly = idf(docs)\n",
      "# print initMat\n",
      "# print idontfly\n",
      "\n",
      "# text = initMat * idontfly\n",
      "# print text.shape\n",
      "# print text\n",
      "\n",
      "def tfidf(docs):\n",
      "    \"\"\"Return the tf-idf scores:\n",
      "       Return: initMat*idontfly (tf scores), wordUnion (words), separate (document names)\"\"\"\n",
      "    wordUnion, initMat, separate = tf(docs)\n",
      "    idontfly = idf(docs)\n",
      "    return initMat*idontfly, wordUnion, separate"
     ],
     "language": "python",
     "metadata": {},
     "outputs": [],
     "prompt_number": 500
    },
    {
     "cell_type": "code",
     "collapsed": false,
     "input": [
      "tfidfScores, wordUnion, separate = tfidf(docs)\n",
      "print \"The tf-idf scores are:\\n\", tfidfScores\n",
      "print \"The row names are: \", separate\n",
      "print \"The column names are: \",wordUnion"
     ],
     "language": "python",
     "metadata": {},
     "outputs": [
      {
       "output_type": "stream",
       "stream": "stdout",
       "text": [
        "The tf-idf scores are:\n",
        "[[ 0.288  0.000  0.000  0.288  0.000  0.000  0.000  0.000  0.000  0.693\n",
        "  -0.223  0.000]\n",
        " [ 0.288  0.000  0.000  0.288  2.773  0.000  0.000  0.693  0.000  0.000\n",
        "  -0.223  0.000]\n",
        " [ 0.000  0.288  0.288  0.000  0.000  0.693  0.000  0.000  0.000  0.000\n",
        "  -0.669  0.000]\n",
        " [ 0.000  0.288  0.288  0.000  0.000  0.000  0.693  0.000  0.693  0.000\n",
        "  -1.116  0.693]]\n",
        "The row names are:  ['s1', 's2', 's3', 's4']\n",
        "The column names are:  ['brown', 'dog', 'elephant', 'fox', 'jumps', 'lazy', 'lion', 'over', 'peacock', 'quick', 'the', 'tiger']\n"
       ]
      }
     ],
     "prompt_number": 317
    },
    {
     "cell_type": "markdown",
     "metadata": {},
     "source": [
      "**Exercise 3 (10 points)**. \n",
      "\n",
      "1. Write a function that takes a matrix $M$ and an integer $k$ as arguments, and reconstructs a reduced matrix using only the $k$ largest singular values. Use the `scipy.linalg.svd` function to perform the decomposition. This is the least squares approximation to the matrix $M$ in $k$ dimensions.\n",
      "\n",
      "2. Apply the function you just wrote to the following term-frequency matrix for a set of $9$ documents using $k=2$ and print the reconstructed matrix $M'$.\n",
      "```\n",
      "M = np.array([[1, 0, 0, 1, 0, 0, 0, 0, 0],\n",
      "       [1, 0, 1, 0, 0, 0, 0, 0, 0],\n",
      "       [1, 1, 0, 0, 0, 0, 0, 0, 0],\n",
      "       [0, 1, 1, 0, 1, 0, 0, 0, 0],\n",
      "       [0, 1, 1, 2, 0, 0, 0, 0, 0],\n",
      "       [0, 1, 0, 0, 1, 0, 0, 0, 0],\n",
      "       [0, 1, 0, 0, 1, 0, 0, 0, 0],\n",
      "       [0, 0, 1, 1, 0, 0, 0, 0, 0],\n",
      "       [0, 1, 0, 0, 0, 0, 0, 0, 1],\n",
      "       [0, 0, 0, 0, 0, 1, 1, 1, 0],\n",
      "       [0, 0, 0, 0, 0, 0, 1, 1, 1],\n",
      "       [0, 0, 0, 0, 0, 0, 0, 1, 1]])\n",
      "```\n",
      "\n",
      "3. Calculate the pairwise correlation matrix for the original matrix M and the reconstructed matrix using $k=2$ singular values (you may use [scipy.stats.spearmanr](http://docs.scipy.org/doc/scipy/reference/generated/scipy.stats.spearmanr.html) to do the calculations). Consider the first 5 sets of documents as one group $G1$ and the last 4 as another group $G2$ (i.e. first 5 and last 4 columns). What is the average within group correlation for $G1$, $G2$ and the average cross-group correlation for G1-G2 using either $M$ or $M'$. (Do not include self-correlation in the within-group calculations.)."
     ]
    },
    {
     "cell_type": "code",
     "collapsed": false,
     "input": [
      "# Your code here\n",
      "np.set_printoptions(formatter={'float': '{: 0.3f}'.format})\n",
      "# np.set_printoptions()\n",
      "\n",
      "def leastSquares(M, k):\n",
      "    \"\"\"The least square approximation to the matrix M in k dimensions\"\"\"\n",
      "    # X = U*sigma*V\n",
      "    # (mxn) = (mxm)(mxn)(nxn)\n",
      "    # New: X = U*sigma*V\n",
      "    # (mxn) = (mxp)(pxp)(pxn)\n",
      "    import scipy.linalg as la\n",
      "    U, s, V = la.svd(M, full_matrices=False)\n",
      "    s_new = s[0:k] # indices: the last boundary is NOT included\n",
      "    U_new = U[:,0:k]\n",
      "    V_new = V[0:k,:]\n",
      "    return np.dot(U_new, np.dot(np.diag(s_new),V_new))"
     ],
     "language": "python",
     "metadata": {},
     "outputs": [],
     "prompt_number": 501
    },
    {
     "cell_type": "code",
     "collapsed": false,
     "input": [
      "M = np.array([[1, 0, 0, 1, 0, 0, 0, 0, 0],\n",
      "    [1, 0, 1, 0, 0, 0, 0, 0, 0],\n",
      "    [1, 1, 0, 0, 0, 0, 0, 0, 0],\n",
      "    [0, 1, 1, 0, 1, 0, 0, 0, 0],\n",
      "    [0, 1, 1, 2, 0, 0, 0, 0, 0],\n",
      "    [0, 1, 0, 0, 1, 0, 0, 0, 0],\n",
      "    [0, 1, 0, 0, 1, 0, 0, 0, 0],\n",
      "    [0, 0, 1, 1, 0, 0, 0, 0, 0],\n",
      "    [0, 1, 0, 0, 0, 0, 0, 0, 1],\n",
      "    [0, 0, 0, 0, 0, 1, 1, 1, 0],\n",
      "    [0, 0, 0, 0, 0, 0, 1, 1, 1],\n",
      "    [0, 0, 0, 0, 0, 0, 0, 1, 1]])\n",
      "\n",
      "M_new = leastSquares(M,2)\n",
      "print \"Least-squares approximated M' with 2 singular values:\\n\",M_new\n",
      "# U, s, V = la.svd(M_new, full_matrices=False)\n",
      "# np.dot(U,np.dot(np.diag(s),V))\n",
      "# print U\n",
      "# print s"
     ],
     "language": "python",
     "metadata": {},
     "outputs": [
      {
       "output_type": "stream",
       "stream": "stdout",
       "text": [
        "Least-squares approximated M' with 2 singular values:\n",
        "[[ 0.162  0.400  0.379  0.468  0.176 -0.053 -0.115 -0.159 -0.092]\n",
        " [ 0.141  0.370  0.329  0.400  0.165 -0.033 -0.071 -0.097 -0.043]\n",
        " [ 0.152  0.505  0.358  0.410  0.236  0.024  0.060  0.087  0.124]\n",
        " [ 0.258  0.841  0.606  0.697  0.392  0.033  0.083  0.122  0.187]\n",
        " [ 0.449  1.234  1.051  1.266  0.556 -0.074 -0.155 -0.210 -0.049]\n",
        " [ 0.160  0.582  0.375  0.417  0.277  0.056  0.132  0.189  0.217]\n",
        " [ 0.160  0.582  0.375  0.417  0.277  0.056  0.132  0.189  0.217]\n",
        " [ 0.218  0.550  0.511  0.628  0.243 -0.065 -0.143 -0.197 -0.108]\n",
        " [ 0.097  0.532  0.230  0.212  0.267  0.137  0.315  0.444  0.425]\n",
        " [-0.061  0.232 -0.139 -0.266  0.145  0.240  0.546  0.767  0.664]\n",
        " [-0.065  0.335 -0.146 -0.301  0.203  0.306  0.695  0.977  0.849]\n",
        " [-0.043  0.254 -0.097 -0.208  0.152  0.221  0.503  0.707  0.616]]\n"
       ]
      }
     ],
     "prompt_number": 502
    },
    {
     "cell_type": "code",
     "collapsed": false,
     "input": [
      "rho1, pval1 = st.spearmanr(M)\n",
      "print \"Pairwise correlation matrix for the original M:\"\n",
      "print np.array(rho1),'\\n'\n",
      "\n",
      "rho2, pval2 = st.spearmanr(M_new)\n",
      "print \"Pairwise correlation matrix for the least-squares approximated M':\"\n",
      "print np.array(rho2)"
     ],
     "language": "python",
     "metadata": {},
     "outputs": [
      {
       "output_type": "stream",
       "stream": "stdout",
       "text": [
        "Pairwise correlation matrix for the original M:\n",
        "[[ 1.000 -0.192  0.000  0.073 -0.333 -0.174 -0.258 -0.333 -0.333]\n",
        " [-0.192  1.000  0.000 -0.127  0.577 -0.302 -0.447 -0.577 -0.192]\n",
        " [ 0.000  0.000  1.000  0.438  0.000 -0.213 -0.316 -0.408 -0.408]\n",
        " [ 0.073 -0.127  0.438  1.000 -0.330 -0.172 -0.256 -0.330 -0.330]\n",
        " [-0.333  0.577  0.000 -0.330  1.000 -0.174 -0.258 -0.333 -0.333]\n",
        " [-0.174 -0.302 -0.213 -0.172 -0.174  1.000  0.674  0.522 -0.174]\n",
        " [-0.258 -0.447 -0.316 -0.256 -0.258  0.674  1.000  0.775  0.258]\n",
        " [-0.333 -0.577 -0.408 -0.330 -0.333  0.522  0.775  1.000  0.556]\n",
        " [-0.333 -0.192 -0.408 -0.330 -0.333 -0.174  0.258  0.556  1.000]] \n",
        "\n",
        "Pairwise correlation matrix for the least-squares approximated M':\n",
        "[[ 1.000  0.846  1.000  0.998  0.719 -0.837 -0.837 -0.837 -0.802]\n",
        " [ 0.846  1.000  0.846  0.844  0.972 -0.557 -0.557 -0.557 -0.480]\n",
        " [ 1.000  0.846  1.000  0.998  0.719 -0.837 -0.837 -0.837 -0.802]\n",
        " [ 0.998  0.844  0.998  1.000  0.718 -0.839 -0.839 -0.839 -0.804]\n",
        " [ 0.719  0.972  0.719  0.718  1.000 -0.389 -0.389 -0.389 -0.298]\n",
        " [-0.837 -0.557 -0.837 -0.839 -0.389  1.000  1.000  1.000  0.979]\n",
        " [-0.837 -0.557 -0.837 -0.839 -0.389  1.000  1.000  1.000  0.979]\n",
        " [-0.837 -0.557 -0.837 -0.839 -0.389  1.000  1.000  1.000  0.979]\n",
        " [-0.802 -0.480 -0.802 -0.804 -0.298  0.979  0.979  0.979  1.000]]\n"
       ]
      }
     ],
     "prompt_number": 503
    },
    {
     "cell_type": "code",
     "collapsed": false,
     "input": [
      "def corrWithin(G):\n",
      "    \"\"\"Return the average correlation within the column vectors group\"\"\"\n",
      "    ncol = G.shape[1]\n",
      "    corrSum = 0.0\n",
      "    for i in range(0,ncol):\n",
      "        for j in range(i,ncol):\n",
      "            corrMat = np.corrcoef(G[:,i],G[:,j])\n",
      "            corrSum += corrMat[0,1]\n",
      "    corrSum -= ncol\n",
      "    operations = ncol*(ncol-1)/2\n",
      "    return (corrSum/operations) # remove self-correlation\n",
      "\n",
      "def corrBetween(G1,G2):\n",
      "    \"\"\"Return the average cross-group correlation for two column vectors groups\"\"\"\n",
      "    ncol1 = G1.shape[1]\n",
      "    ncol2 = G2.shape[1]\n",
      "    corrSum = 0.0\n",
      "    for i in range(0,ncol1):\n",
      "        for j in range(0,ncol2):\n",
      "            corrMat = np.corrcoef(G1[:,i],G2[:,j])\n",
      "            corrSum += corrMat[0,1]\n",
      "    return (corrSum/(ncol1*ncol2))\n",
      "\n",
      "# Using M\n",
      "G1 = M[:,:5] # First 5 columns\n",
      "G2 = M[:,5:] # Last 4 columns\n",
      "print \"Using the original M:\"\n",
      "print \"Correlation within G1:\",corrWithin(G1)\n",
      "print \"Correlation within G2:\",corrWithin(G2)\n",
      "print \"Correlation between G1 and G2:\",corrBetween(G1,G2),'\\n'\n",
      "\n",
      "# Using M_new\n",
      "G1 = M_new[:,:5] # First 5 columns\n",
      "G2 = M_new[:,5:] # Last 4 columns\n",
      "print \"Using the the least-squares approximated M':\"\n",
      "print \"Correlation within G1:\",corrWithin(G1)\n",
      "print \"Correlation within G2:\",corrWithin(G2)\n",
      "print \"Correlation between G1 and G2:\",corrBetween(G1,G2)"
     ],
     "language": "python",
     "metadata": {},
     "outputs": [
      {
       "output_type": "stream",
       "stream": "stdout",
       "text": [
        "Using the original M:\n",
        "Correlation within G1: 0.0215415737464\n",
        "Correlation within G2: 0.43511771482\n",
        "Correlation between G1 and G2: -0.303988025078 \n",
        "\n",
        "Using the the least-squares approximated M':\n",
        "Correlation within G1: 0.918795192066\n",
        "Correlation within G2: 0.998462087802\n",
        "Correlation between G1 and G2: -0.70525566678\n"
       ]
      }
     ],
     "prompt_number": 504
    },
    {
     "cell_type": "markdown",
     "metadata": {},
     "source": [
      "**Exercise 4 (20 points)**. Clustering with LSA\n",
      "\n",
      "1. Begin by loading a pubmed database of selected article titles using 'cPickle'. With the following:\n",
      "```import cPickle\n",
      "docs = cPickle.load(open('pubmed.pic'))```\n",
      "\n",
      "    Create a tf-idf matrix for every term that appears at least once in any of the documents. What is the shape of the tf-idf matrix? \n",
      "\n",
      "2. Perform SVD on the tf-idf matrix to obtain $U \\Sigma V^T$ (often written as $T \\Sigma D^T$ in this context with $T$ representing the terms and $D$ representing the documents). If we set all but the top $k$ singular values to 0, the reconstructed matrix is essentially $U_k \\Sigma_k V_k^T$, where $U_k$ is $m \\times k$, $\\Sigma_k$ is $k \\times k$ and $V_k^T$ is $k \\times n$. Terms in this reduced space are represented by $U_k \\Sigma_k$ and documents by $\\Sigma_k V^T_k$. Reconstruct the matrix using the first $k=10$ singular values.\n",
      "\n",
      "3. Use agglomerative hierachical clustering with complete linkage to plot a dendrogram and comment on the likely number of  document clusters with $k = 100$. Use the dendrogram function from [SciPy ](https://docs.scipy.org/doc/scipy-0.15.1/reference/generated/scipy.cluster.hierarchy.dendrogram.html).\n",
      "\n",
      "4. Determine how similar each of the original documents is to the new document `mystery.txt`. Since $A = U \\Sigma V^T$, we also have $V = A^T U \\Sigma^{-1}$ using orthogonality and the rule for transposing matrix products. This suggests that in order to map the new document to the same concept space, first find the tf-idf vector $v$ for the new document - this must contain all (and only) the terms present in the existing tf-idf matrix. Then the query vector $q$ is given by $v^T U_k \\Sigma_k^{-1}$. Find the 10 documents most similar to the new document and the 10 most dissimilar. \n",
      "\n",
      "5. Many documents often have some boilerplate material such as organization information, Copyright, etc. at the front or back of the document. Does it matter that the front and back matter of each document is essentially identical for either LSA-based clustering (part 3) or information retrieval (part 4)? Why or why not?"
     ]
    },
    {
     "cell_type": "code",
     "collapsed": false,
     "input": [
      "# Question 1\n",
      "docs = cPickle.load(open('pubmed.pic'))\n",
      "tfidfScores, wordUnion, separate = tfidf(docs)\n",
      "\n",
      "# Need to remove all numbers and punctuation in the tfidf (call the tf function to do this!!!)\n",
      "print \"The size of TF-IDF matrix is:\",tfidfScores.shape\n",
      "print \"There are\",tfidfScores.shape[0],\"documents\"\n",
      "print \"These documents contain\",tfidfScores.shape[1],\"words in total\""
     ],
     "language": "python",
     "metadata": {},
     "outputs": [
      {
       "output_type": "stream",
       "stream": "stdout",
       "text": [
        "The size of TF-IDF matrix is: (178, 6488)\n",
        "There are 178 documents\n",
        "These documents contain 6488 words in total\n"
       ]
      }
     ],
     "prompt_number": 505
    },
    {
     "cell_type": "code",
     "collapsed": false,
     "input": [
      "# Question 2\n",
      "# X = U*sigma*V\n",
      "# (mxn) = (mxm)(mxn)(nxn)\n",
      "# New: X = U*sigma*V\n",
      "# (mxn) = (mxp)(pxp)(pxn)\n",
      "import scipy.linalg as la\n",
      "U, s, V = la.svd(tfidfScores, full_matrices=False)\n",
      "\n",
      "tfidf_new = leastSquares(tfidfScores,10)\n",
      "print \"Reconstructed TF-IDF scores matrix with only 10 singular values:\"\n",
      "print tfidf_new.shape\n",
      "print tfidf_new"
     ],
     "language": "python",
     "metadata": {},
     "outputs": [
      {
       "output_type": "stream",
       "stream": "stdout",
       "text": [
        "Reconstructed TF-IDF scores matrix with only 10 singular values:\n",
        "(178, 6488)\n",
        "[[ 0.610  0.007 -0.072 ...,  0.006  0.047  0.009]\n",
        " [ 0.531  0.058 -0.379 ...,  0.004  0.164  0.020]\n",
        " [ 2.758  0.009 -0.031 ...,  0.012  0.110  0.017]\n",
        " ..., \n",
        " [ 1.628  0.043 -0.240 ...,  0.003  0.134  0.015]\n",
        " [ 8.192  0.050  0.935 ...,  0.009  0.116  0.019]\n",
        " [ 2.771  0.077 -0.167 ...,  0.004  0.218  0.026]]\n"
       ]
      }
     ],
     "prompt_number": 506
    },
    {
     "cell_type": "code",
     "collapsed": false,
     "input": [
      "# Question 3\n",
      "from scipy.cluster.hierarchy import linkage, dendrogram\n",
      "\n",
      "tfidf_Q3 = leastSquares(tfidfScores,100)\n",
      "print tfidf_Q3.shape\n",
      "dmDocs = function2(tfidf_Q3,cosine)\n",
      "\n",
      "dendro = dendrogram(linkage(dmDocs,method='complete'),orientation='right')\n",
      "type(dendro)"
     ],
     "language": "python",
     "metadata": {},
     "outputs": [
      {
       "output_type": "stream",
       "stream": "stdout",
       "text": [
        "(178, 6488)\n"
       ]
      },
      {
       "metadata": {},
       "output_type": "pyout",
       "prompt_number": 414,
       "text": [
        "dict"
       ]
      },
      {
       "metadata": {},
       "output_type": "display_data",
       "png": "[encoded data removed]",
       "text": [
        "<matplotlib.figure.Figure at 0x7f2368db6a10>"
       ]
      }
     ],
     "prompt_number": 414
    },
    {
     "cell_type": "code",
     "collapsed": false,
     "input": [
      "# Question 4\n",
      "# A = U*sigma*V\n",
      "# (mxn) = (mxm)(mxn)(nxn)\n",
      "# New: A = U*sigma*V\n",
      "# (mxn) = (mxp)(pxp)(pxn)\n",
      "\n",
      "# Change: tfidf(A) = U*sigma*t(D)\n",
      "# t(D) = inv(sigma)*t(U)*tfidf(A) => transposed documents\n",
      "\n",
      "mystery = open('mystery.txt').read()\n",
      "new_docs = {'mystery': mystery}\n",
      "\n",
      "# Calculate the tf-idf matrix for mystery.txt\n",
      "# query = np.dot(np.dot(np.linalg.inv(np.diag(s_new)),U_new.T),v_desiredMat)\n",
      "# Calculate the query vector: D = inv(sigma_k)*t(T_k)*A\n",
      "# A is the tfidf matrix\n",
      "\n",
      "# Remove the new words and get v_desiredMat (tf score of mystery.txt)\n",
      "v_tfidfScores, v_wordUnion, v_separate = tfidf(new_docs)\n",
      "v_desired = [val for val in wordUnion if val in v_wordUnion]\n",
      "v_desired_ind = []\n",
      "for text in v_desired:\n",
      "    v_desired_ind.append(v_wordUnion.index(text))\n",
      "\n",
      "# v_desiredMat = the v_tfidfScores only for the words existing in the original corpus\n",
      "v_desiredMat = np.zeros((1,len(v_desired)))\n",
      "another_ind = 0\n",
      "for i in v_desired_ind:\n",
      "    v_desiredMat[0,another_ind] = v_tfidfScores[0,i]\n",
      "    another_ind += 1\n",
      "    \n",
      "\n",
      "import scipy.linalg as la\n",
      "U, s, D = la.svd(tfidfScores, full_matrices=False)\n",
      "s_new = s[0:k] # indices: the last boundary is NOT included\n",
      "U_new = U[:,0:k]\n",
      "D_new = D[0:k,:]\n",
      "\n",
      "print D_new\n",
      "\n",
      "tfidf_Q4 = leastSquares(tfidfScores,10)\n",
      "compared_docs = tfidf_Q4[:,v_desired_ind] # 178*191\n",
      "# All 178 documents in the corpus, extracting only the 191 words obtained in mystery.txt\n",
      "\n",
      "similarCos = np.ones((1,compared_docs.shape[0]))\n",
      "for i in range(compared_docs.shape[0]):\n",
      "    # similarCos[0,i] = np.dot(v_desiredMat,compared_docs[i,:])/(np.linalg.norm(v_desiredMat)*np.linalg.norm(compared_docs[i,:]))\n",
      "    similarCos[0,i] = 1-cosine(v_desiredMat,compared_docs[i,:])\n",
      "    \n",
      "print similarCos.shape\n",
      "\n",
      "indices = similarCos.argsort()\n",
      "print similarCos.argsort().shape\n",
      "print similarCos[0,indices[0,0:10]] # the 10 documents least similarity \n",
      "print similarCos[0,indices[0,168:178]] # the 10 documents most similarity"
     ],
     "language": "python",
     "metadata": {},
     "outputs": [
      {
       "output_type": "stream",
       "stream": "stdout",
       "text": [
        "[[-0.157 -0.001 -0.032 ..., -0.000 -0.004 -0.001]\n",
        " [ 0.011 -0.000  0.064 ..., -0.000 -0.004 -0.000]\n",
        " [ 0.063 -0.000  0.044 ...,  0.000  0.000  0.000]\n",
        " ..., \n",
        " [ 0.045 -0.001  0.026 ..., -0.000 -0.001 -0.000]\n",
        " [ 0.051 -0.000 -0.007 ...,  0.000  0.001  0.001]\n",
        " [-0.120  0.002 -0.022 ..., -0.000  0.002  0.000]]\n",
        "(1, 178)"
       ]
      },
      {
       "output_type": "stream",
       "stream": "stdout",
       "text": [
        "\n",
        "(1, 178)\n",
        "[-0.112 -0.108 -0.107 -0.107 -0.106 -0.105 -0.105 -0.105 -0.105 -0.105]\n",
        "[-0.045 -0.040 -0.038 -0.036 -0.035 -0.035 -0.029 -0.016  0.028  0.046]\n"
       ]
      }
     ],
     "prompt_number": 516
    },
    {
     "cell_type": "code",
     "collapsed": false,
     "input": [
      "# Question 5\n",
      "print \"No, the boilerplate materials do not matter in either LSA-based clustering (part 3) or information retrieval (part 4). \"\n",
      "print \"Because these materials appear in every document, the relative distance between documents will not change.\"\n"
     ],
     "language": "python",
     "metadata": {},
     "outputs": [
      {
       "output_type": "stream",
       "stream": "stdout",
       "text": [
        "No, the boilerplate materials do not matter in either LSA-based clustering (part 3) or information retrieval (part 4). \n",
        "Because these materials appear in every document, the relative distance between documents will not change.\n"
       ]
      }
     ],
     "prompt_number": 480
    },
    {
     "cell_type": "markdown",
     "metadata": {},
     "source": [
      "Notes on the Pubmed articles\n",
      "----\n",
      "\n",
      "These were downloaded with the following script. You don't have to download them by yourself!\n",
      "\n",
      "```python\n",
      "from Bio import Entrez, Medline\n",
      "Entrez.email = \"YOUR EMAIL HERE\"\n",
      "import cPickle\n",
      "\n",
      "try:\n",
      "    docs = cPickle.load(open('pubmed.pic'))\n",
      "except Exception, e:\n",
      "    print e\n",
      "\n",
      "    docs = {}\n",
      "    for term in ['plasmodium', 'diabetes', 'asthma', 'cytometry']:\n",
      "        handle = Entrez.esearch(db=\"pubmed\", term=term, retmax=50)\n",
      "        result = Entrez.read(handle)\n",
      "        handle.close()\n",
      "        idlist = result[\"IdList\"]\n",
      "        handle2 = Entrez.efetch(db=\"pubmed\", id=idlist, rettype=\"medline\", retmode=\"text\")\n",
      "        result2 = Medline.parse(handle2)\n",
      "        for record in result2:\n",
      "            title = record.get(\"TI\", None)\n",
      "            abstract = record.get(\"AB\", None)\n",
      "            if title is None or abstract is None:\n",
      "                continue\n",
      "            docs[title] = '\\n'.join([title, abstract])\n",
      "            print title\n",
      "        handle2.close()\n",
      "    cPickle.dump(docs, open('pubmed.pic', 'w'))\n",
      "docs.values()\n",
      "```"
     ]
    },
    {
     "cell_type": "code",
     "collapsed": false,
     "input": [],
     "language": "python",
     "metadata": {},
     "outputs": []
    }
   ],
   "metadata": {}
  }
 ]
}