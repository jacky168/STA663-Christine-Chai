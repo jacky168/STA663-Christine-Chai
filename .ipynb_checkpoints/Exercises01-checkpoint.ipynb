{
 "metadata": {
  "name": "",
  "signature": "sha256:0b74142c719babd95a377cabd2df9e639d1ad28c778ee8a9918bc7211aa81a60"
 },
 "nbformat": 3,
 "nbformat_minor": 0,
 "worksheets": [
  {
   "cells": [
    {
     "cell_type": "code",
     "collapsed": false,
     "input": [
      "from IPython.display import Image"
     ],
     "language": "python",
     "metadata": {},
     "outputs": []
    },
    {
     "cell_type": "code",
     "collapsed": false,
     "input": [
      "print(\"I am a line\")"
     ],
     "language": "python",
     "metadata": {},
     "outputs": []
    },
    {
     "cell_type": "markdown",
     "metadata": {},
     "source": [
      "Computer lab\n",
      "----\n",
      "\n",
      "These exercises are designed to give you some practice coding in Python and proivde familiarity with the language syntax."
     ]
    },
    {
     "cell_type": "markdown",
     "metadata": {},
     "source": [
      "**Exercise 1 [10 pts]**. Write code to solve the [Project Euler puzzle 1](https://projecteuler.net/problems)"
     ]
    },
    {
     "cell_type": "code",
     "collapsed": false,
     "input": [
      "# Your code here\n",
      "# If we list all the natural numbers below 10 that are multiples of 3 or 5, we get 3, 5, 6 and 9. The sum of these multiples is 23.\n",
      "# Find the sum of all the multiples of 3 or 5 below 1000.\n",
      "c = 0\n",
      "for i in range(1, 1001):\n",
      "    if (i % 3 == 0):\n",
      "        c += i\n",
      "    elif (i % 5 == 0):\n",
      "        c += i\n",
      "\n",
      "print(c)\n",
      "\n"
     ],
     "language": "python",
     "metadata": {},
     "outputs": []
    },
    {
     "cell_type": "markdown",
     "metadata": {},
     "source": [
      "**Exericse 2 [10 pts]**. Wikipedia gives the sample correlation coefficient formula as shown below. Write functions to calculate the sample mean, the sample standard deviation and the sample correlation coefficient. Calculate the sample correlation coefficent for the following lists of numbers:\n",
      "\n",
      "```python\n",
      "x = [10.0, 8.0, 13.0, 9.0, 11.0, 14.0, 6.0, 4.0, 12.0, 7.0, 5.0]\n",
      "y = [8.04, 6.95, 7.58, 8.81, 8.33, 9.96, 7.24, 4.26, 10.84, 4.82, 5.68]\n",
      "```\n",
      "\n",
      "Do NOT use `numpy`  functions - the idea is to code the functions yourself! The square root of $x$ can be calculated as ```x**0.5```."
     ]
    },
    {
     "cell_type": "code",
     "collapsed": false,
     "input": [
      "Image(url=\"http://upload.wikimedia.org/math/0/4/e/04e3ee493ddb1f01e03d8bf024fbd0a5.png\")"
     ],
     "language": "python",
     "metadata": {},
     "outputs": []
    },
    {
     "cell_type": "code",
     "collapsed": false,
     "input": [
      "Image(url=\"http://upload.wikimedia.org/math/7/0/d/70df5220933ae8298cd5ef1c719360bf.png\")"
     ],
     "language": "python",
     "metadata": {},
     "outputs": []
    },
    {
     "cell_type": "code",
     "collapsed": false,
     "input": [
      "# Your code here\n",
      "x = [10.0, 8.0, 13.0, 9.0, 11.0, 14.0, 6.0, 4.0, 12.0, 7.0, 5.0]\n",
      "y = [8.04, 6.95, 7.58, 8.81, 8.33, 9.96, 7.24, 4.26, 10.84, 4.82, 5.68]\n",
      "\n",
      "def avg(x):\n",
      "    \"\"\"Return the average value of a list of elements\"\"\"\n",
      "    cx = 0\n",
      "    n = len(x)\n",
      "    for i in range(0, n):\n",
      "        cx += x[i]\n",
      "    return(cx/n)    \n",
      "\n",
      "# print(avg(x))\n",
      "# print(avg(y))\n",
      "\n",
      "def std_dev(x):\n",
      "    \"\"\"Return the standard deviation of a list of elements\"\"\"\n",
      "    cx = 0\n",
      "    n = len(x)\n",
      "    for i in range(0, n):\n",
      "        cx += (x[i]-avg(x))**2\n",
      "    return((cx/(n-1))**0.5)\n",
      "\n",
      "# print(std_dev(x))\n",
      "# print(std_dev(y))\n",
      "\n",
      "def corr(x, y):\n",
      "    \"\"\"Return the correlation coefficient of two groups of elements\"\"\"\n",
      "    if len(x)-len(y) != 0:\n",
      "        print(\"both groups need to have the same number of elements\")\n",
      "    else:\n",
      "        n = len(x)\n",
      "        rt = 0\n",
      "        for i in range(0, n):\n",
      "            rt += ((x[i]-avg(x))/std_dev(x))*((y[i]-avg(y))/std_dev(y))\n",
      "        return(rt/(n-1))\n",
      "\n",
      "print(corr(x, y))\n",
      "\n",
      "# Just to check my answers\n",
      "# import numpy\n",
      "# print numpy.corrcoef(x,y)"
     ],
     "language": "python",
     "metadata": {},
     "outputs": []
    },
    {
     "cell_type": "markdown",
     "metadata": {},
     "source": [
      "**Exercise 3** [10 pts]. Write a function to calculate hailstone numbers.\n",
      "\n",
      "Start with any positive integer (an initial seed) and obtain a sequence of numbers by following these rules.\n",
      "\n",
      "1. Base case: If the number is 1, stop.\n",
      "2. Recursvie case: If the current number is even, divide it by two; else if it is odd, multiply it by three and add one. \n",
      "\n",
      "The seqeunce of numbers obtained are known as *hailstone numbers* - although it is not proven that all sequences will eventually terminate with 1 (Collatz conjecture), no couter-example has yet been found. \n",
      "\n",
      "For example, starting with 7, we get the seuqence 7, 22, 11, 34, 17, 52, 26, 13, 40, 20, 10, 5, 16, 8, 4, 2, 1, 4, 2, 1.\n",
      "\n",
      "A recursive function to find the sequence of hailstone nummbers is given below. Write a *non-recursvie* version of the function that gives the same result. Using your function, what is the length of the sequeence obtained when we start with 23?\n",
      "\n",
      "```python\n",
      "def hailstone(n, acc=None):\n",
      "    \"\"\"Given a positive integer n, return the series of hailstone numbers.\"\"\"\n",
      "    if acc is None:\n",
      "        acc = []\n",
      "    acc.append(n)\n",
      "    if n == 1:\n",
      "        return acc\n",
      "    else:\n",
      "        if n%2 == 0:\n",
      "            return hailstone(n/2, acc)\n",
      "        else:\n",
      "            return hailstone(n*3 + 1, acc)\n",
      "```"
     ]
    },
    {
     "cell_type": "code",
     "collapsed": false,
     "input": [
      "# Your code here\n",
      "def hailstone2(n, acc=None):\n",
      "    \"\"\"Given a positive integer n, return the series of hailstone numbers.\"\"\"\n",
      "    if acc is None:\n",
      "        acc = []\n",
      "    acc.append(n)\n",
      "    if n == 1:\n",
      "        return acc\n",
      "    else:\n",
      "        if n%2 == 0:\n",
      "            return hailstone(n/2, acc)\n",
      "        else:\n",
      "            return hailstone(n*3 + 1, acc)\n",
      "\n",
      "list = hailstone(23)\n",
      "print(list)\n",
      "print(len(list))\n",
      "\n",
      "def hailstone(n):\n",
      "    seq = []\n",
      "    seq.append(n)\n",
      "    while n > 1:\n",
      "        if n%2 == 0:\n",
      "            n = n/2\n",
      "            seq.append(seq, n)\n",
      "            \n",
      "seq = []\n",
      "seq.append(14)\n",
      "seq.append(16)\n",
      "print(seq)"
     ],
     "language": "python",
     "metadata": {},
     "outputs": []
    },
    {
     "cell_type": "markdown",
     "metadata": {},
     "source": [
      "**Exercise 4 [20 pts]**. A Caesar cipher replaces each in a string with the letter $k$ modulo 26 positions down. For example, with $k=3$, 'a' would become 'd', 'b' would become 'e' and so on. The Caesar cipher is very easy to crack, since the relative letter frequencies are preserved - that is, 'e' is the most commonly used English letter, so the most frequent letter in the cipher is likely to be the code for 'e'. We can download a large corpus of English text (e.g. a few books from Project Gutenberg), and estimate the individual letter frequencies. Using for example, a multinomial model where each letter is one of 26 possibiilites with frequencies given by the the previous estimates, and assuming that each letter is independent, we can simply go through all 26 possible values of $k$ and choose the model with the highest likelihood. Or just use $\\chi^2$ statistic to compare observed and expected frequencies.\n",
      "\n",
      "Have an extended exercise to write a Caesar encoder and code to crack the cipher. \n",
      "\n",
      "- Writing the encoder/decoder\n",
      "    - Convert a sentence to lowercase\n",
      "    - Write a function let2int to convert a lowercase letter to a number from 0 to 25\n",
      "    - Write the reverse function int2let to convert a number to a lowercase letter\n",
      "    - Examples with the ternary operator in a list comprehsnsion\n",
      "    - Write a functiton to encode a sentecne with shift k\n",
      "    - Write a function to decode a sentence with shfit k\n",
      "    - Confirm that sentence = decode(encode(sentence))\n",
      "    \n",
      "- Writing the cracker\n",
      "    - Write a function to download a book from Project Gutenberg\n",
      "    ```python\n",
      "    text = urllib2.urlopen('http://www.gutenberg.org/ebooks/1342.txt.utf-8').read()\n",
      "    ```\n",
      "    - Write a fucntion to estimte letter frequencies in text\n",
      "    - Write a function to calculate the $\\chi^2$ statistic given observed and expected frequencies\n",
      "    - Write a cracker to deecode encrypted text by choosing the shift $k$ with the smallest $\\chi^2$ score"
     ]
    },
    {
     "cell_type": "code",
     "collapsed": false,
     "input": [
      "# Your code here\n",
      "\n",
      "\n",
      "\n",
      "\n"
     ],
     "language": "python",
     "metadata": {},
     "outputs": []
    },
    {
     "cell_type": "code",
     "collapsed": false,
     "input": [],
     "language": "python",
     "metadata": {},
     "outputs": []
    }
   ],
   "metadata": {}
  }
 ]
}