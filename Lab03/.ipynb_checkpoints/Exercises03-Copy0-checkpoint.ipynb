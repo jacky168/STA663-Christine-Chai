{
 "metadata": {
  "name": "",
  "signature": "sha256:5f77997e1e9a91cb007b78453e796e0527ac2eb92e8aa5bc9eebad2c20a0399f"
 },
 "nbformat": 3,
 "nbformat_minor": 0,
 "worksheets": [
  {
   "cells": [
    {
     "cell_type": "code",
     "collapsed": false,
     "input": [
      "import os\n",
      "import sys\n",
      "import glob\n",
      "import matplotlib.pyplot as plt\n",
      "import numpy as np\n",
      "import pandas as pd\n",
      "%matplotlib inline\n",
      "plt.style.use('ggplot')"
     ],
     "language": "python",
     "metadata": {},
     "outputs": [],
     "prompt_number": 195
    },
    {
     "cell_type": "markdown",
     "metadata": {},
     "source": [
      "**Exercise 1 (10 pts)**. Avoding catastrophic cancellation.\n",
      "\n",
      "The tail of the standard logistic distributon is given by $1 - F(t) = 1 - (1+e^{-t})^{-1}$.\n",
      "\n",
      "- Define a function `f1` to calculate the tail probability of the logistic distribution using the formula given above\n",
      "- Use `sympy` to find the exact value of the tail distribution (using the same symbolic formula) to 20 decimal digits\n",
      "- Calculate the *relative error* of `f1` when $t = 25$ (The relative error is given by `abs(exact - approximate)/exact`)\n",
      "- Rewrite the expression for the tail of the logistic distribution using simple algebra so that there is no risk of cancellation, and write a function `f2` using this formula. Calculate the *relative error* of `f2` when $t = 25$. \n",
      "- How much more accurate is `f2` compared with `f1` in terms of the relative error?"
     ]
    },
    {
     "cell_type": "code",
     "collapsed": false,
     "input": [
      "# Your code here\n",
      "# 1-F(t) = 1 - 1/(1+exp(-t))\n",
      "def f1(t):\n",
      "    return 1-np.reciprocal(1+np.exp(-t))\n",
      "\n",
      "from sympy import symbols\n",
      "from sympy.functions import exp\n",
      "x = symbols('x')\n",
      "# accuracy of 20 digits (15 digits is the default)\n",
      "formula = 1 - 1/(1+exp(-x))\n",
      "exact = formula.evalf(subs={x:25},n=20)\n",
      "\n",
      "def f2(t):\n",
      "    return np.exp(-t)/(1+np.exp(-t))\n",
      "\n",
      "approx1 = f1(25)\n",
      "error1 = np.abs((exact-approx1)/exact)\n",
      "approx2 = f2(25)\n",
      "error2 = np.abs((exact-approx2)/exact)\n",
      "\n",
      "print \"Exact value =\",exact,\" (20 digits)\"\n",
      "print \"f1(25) =\",f1(25)\n",
      "print \"Relative error is \",error1\n",
      "print \"f2(25) =\",f2(25)\n",
      "print \"Relative error is \",error2\n",
      "# Do below if error2 == 0\n",
      "# print \"The relative error of f2(25) is too small to be represented by this formula\"\n",
      "\n",
      "# error1/error2 = exp(log(error1/error2)) = exp(log(error1)-log(error2))\n",
      "# accuracy = np.exp(log(error1)-log(error2))\n",
      "# but this gives an error because sympy float numbers can't be used in np.log\n",
      "# Actually, dividing small numbers is fine -- no need to use logarithms\n",
      "accuracy = error1/error2\n",
      "print \"f2 is \",accuracy,\"times more accurate than f1\""
     ],
     "language": "python",
     "metadata": {},
     "outputs": [
      {
       "output_type": "stream",
       "stream": "stdout",
       "text": [
        "Exact value = 1.3887943864771145610e-11  (20 digits)\n",
        "f1(25) = 1.38880018596e-11\n",
        "Relative error is  4.1759147665982646285e-6\n",
        "f2(25) = 1.38879438648e-11\n",
        "Relative error is  2.3111252748218700406e-18\n",
        "f2 is  1806875123599.7465438 times more accurate than f1\n"
       ]
      }
     ],
     "prompt_number": 199
    },
    {
     "cell_type": "markdown",
     "metadata": {},
     "source": [
      "**Exercise 2 (10 pts)**. Ill-conditioned linear problems.\n",
      "\n",
      "You are given a $n \\times p$ design matrix $X$ and a $p$-vector of observations $y$ and asked to find the coefficients $\\beta$ that solve the linear equations $X \\beta = y$. \n",
      "```python\n",
      "X = np.load('x.npy')\n",
      "y = np.load('y.npy')\n",
      "```\n",
      "\n",
      "The solution $\\beta$ can also be loaded as\n",
      "```python\n",
      "beta = np.load('b.npy')\n",
      "```\n",
      "\n",
      "- Write a formula that could solve the system of linear equations in terms of $X$ and $y$ Write a function `f1` that takes arguments $X$ and $y$ and returns $\\beta$ using this formula.\n",
      "- How could you code this formula using `np.linalg.solve` that does not require inverting a matrix? Write a function `f2` that takes arguments $X$ and $y$ and returns $\\beta$ using this.\n",
      "- Note that carefully designed algorithms *can* solve this ill-conditioned problem, which is why you should always use library functions for linear algebra rather than write your own.\n",
      "```python\n",
      "np.linalg.lstsq(x, y)[0]\n",
      "```\n",
      "- What happens if you try to solve for $\\beta$ using `f1` or `f2`? Remove the column of $X$ that is making the matrix singluar and find the $p-1$ vector $b$ using `f2`.\n",
      "- Note that the solution differs from that given by `np.linalg.lstsq`? This arises because the relevant condition number for `f2` is actually for the matrix $X^TX$ while the condition number of `lstsq` is for the matrix $X$. Why is the condition so high even after removing the column that makes the matrix singular?"
     ]
    },
    {
     "cell_type": "code",
     "collapsed": false,
     "input": [
      "# Your code here\n",
      "# y = X beta\n",
      "# f1: beta = inv(X.T*X)*X.T*y\n",
      "# f2: solve X.T*y = (X.T*X)*beta\n",
      "\n",
      "y = np.load('y.npy') # 10*1\n",
      "X = np.load('x.npy') # 10*6\n",
      "beta = np.load('b.npy') # 6*1\n",
      "\n",
      "def f1(X, y):\n",
      "    \"\"\"f1: beta = inv(X.T*X)*X.T*y\"\"\"\n",
      "    return np.dot(np.linalg.inv(np.dot(X.T,X)),np.dot(X.T,y))\n",
      "\n",
      "def f2(X, y):\n",
      "    \"\"\"f2: solve X.T*y = (X.T*X)*beta\"\"\"\n",
      "    return np.linalg.solve(np.dot(X.T,X),np.dot(X.T,y))\n",
      "\n",
      "%precision 2\n",
      "# Just for easiness to view the values of X\n",
      "print \"X:\\n\",X\n",
      "print \"The last column is exactly a 10-multiple of another column, so we should remove it to make X invertible (non-singular).\"\n",
      "print \"If it is not removed, the matrix X is singular, and using f1 or f2 to solve the equation gives an error message.\\n\"\n",
      "%precision 4\n",
      "\n",
      "# Another way is looking at the rank of X\n",
      "# print np.linalg.det(np.dot(X.T,X)) # determinant is zero\n",
      "# print np.linalg.matrix_rank(X) # 5\n",
      "# Removing the last column of X makes the matrix non-singular\n",
      "\n",
      "X_new = X[:,np.array([0,1,2,3,4])] # X_new.shape = 10*5\n",
      "# print np.linalg.matrix_rank(X_new) # 5\n",
      "\n",
      "print \"After making X invertible, we can solve beta.\"\n",
      "# print \"Solving by f1:\",f1(X_new,y)\n",
      "print \"Solving by f2:           \",f2(X_new,y),\"\\n\"\n",
      "X_test = X_new.copy()\n",
      "X_test[1,:] += 1\n",
      "print \"Small changes in the new X:\\n\",X_test\n",
      "print \"Then solving by f2:       \",f2(X_test,y)\n",
      "print \"This changes the solution a lot!\\n\"\n",
      "\n",
      "print \"If we use the original X, then we need to do least squares estimation.\"\n",
      "print \"Solving by least squares:\",np.linalg.lstsq(X, y)[0]\n",
      "print \"True beta value:         \",beta,\"\\n\"\n",
      "\n",
      "# Calculate the condition number of X\n",
      "print \"Condition numbers:\"\n",
      "U, s, V = np.linalg.svd(X)\n",
      "# print(s)\n",
      "print \"Original X:\",max(s)/min(s)\n",
      "U, s, V = np.linalg.svd(np.dot(X_new.T,X_new))\n",
      "# print(s)\n",
      "print \"Modified X*t(X):\",max(s)/min(s)\n",
      "print \"Even though we removed the last column that makes X singular,\"\n",
      "print \"the condition number of the new X is still high,\" \n",
      "print \"because the second column is extremely large compared with others in the matrix.\""
     ],
     "language": "python",
     "metadata": {},
     "outputs": [
      {
       "output_type": "stream",
       "stream": "stdout",
       "text": [
        "X:\n",
        "[[  5.00e+00   4.82e+14   9.00e+00   5.00e+00   0.00e+00   5.00e+01]\n",
        " [  1.00e+00   4.21e+14   6.00e+00   9.00e+00   2.00e+00   9.00e+01]\n",
        " [  5.00e+00   1.20e+14   4.00e+00   2.00e+00   4.00e+00   2.00e+01]\n",
        " [  7.00e+00   5.42e+14   1.00e+00   7.00e+00   0.00e+00   7.00e+01]\n",
        " [  9.00e+00   5.42e+14   7.00e+00   6.00e+00   9.00e+00   6.00e+01]\n",
        " [  0.00e+00   6.02e+13   8.00e+00   8.00e+00   3.00e+00   8.00e+01]\n",
        " [  8.00e+00   4.21e+14   3.00e+00   6.00e+00   5.00e+00   6.00e+01]\n",
        " [  9.00e+00   1.81e+14   4.00e+00   8.00e+00   1.00e+00   8.00e+01]\n",
        " [  0.00e+00   1.81e+14   9.00e+00   2.00e+00   0.00e+00   2.00e+01]\n",
        " [  9.00e+00   1.20e+14   7.00e+00   7.00e+00   9.00e+00   7.00e+01]]\n",
        "The last column is exactly a 10-multiple of another column, so we should remove it to make X invertible (non-singular).\n",
        "If it is not removed, the matrix X is singular, and using f1 or f2 to solve the equation gives an error message.\n",
        "\n",
        "After making X invertible, we can solve beta.\n",
        "Solving by f2:            [ 0.4722  0.0962  0.9045  0.9514  0.525 ] \n",
        "\n",
        "Small changes in the new X:\n",
        "[[  5.0000e+00   4.8160e+14   9.0000e+00   5.0000e+00   0.0000e+00]\n",
        " [  2.0000e+00   4.2140e+14   7.0000e+00   1.0000e+01   3.0000e+00]\n",
        " [  5.0000e+00   1.2040e+14   4.0000e+00   2.0000e+00   4.0000e+00]\n",
        " [  7.0000e+00   5.4180e+14   1.0000e+00   7.0000e+00   0.0000e+00]\n",
        " [  9.0000e+00   5.4180e+14   7.0000e+00   6.0000e+00   9.0000e+00]\n",
        " [  0.0000e+00   6.0200e+13   8.0000e+00   8.0000e+00   3.0000e+00]\n",
        " [  8.0000e+00   4.2140e+14   3.0000e+00   6.0000e+00   5.0000e+00]\n",
        " [  9.0000e+00   1.8060e+14   4.0000e+00   8.0000e+00   1.0000e+00]\n",
        " [  0.0000e+00   1.8060e+14   9.0000e+00   2.0000e+00   0.0000e+00]\n",
        " [  9.0000e+00   1.2040e+14   7.0000e+00   7.0000e+00   9.0000e+00]]\n",
        "Then solving by f2:        [ 0.6677  0.0962  0.9659  0.7864  0.4499]\n",
        "This changes the solution a lot!\n",
        "\n",
        "If we use the original X, then we need to do least squares estimation.\n",
        "Solving by least squares: [ 0.4695  0.0962  0.9038  0.0095  0.5252  0.0945]\n",
        "True beta value:          [ 0.4692  0.0962  0.9034  0.1195  0.5248  0.0836] \n",
        "\n",
        "Condition numbers:\n",
        "Original X: 5.4572325963e+29\n",
        "Modified X*t(X): 3.56916189007e+28\n",
        "Even though we removed the last column that makes X singular,\n",
        "the condition number of the new X is still high,\n",
        "because the second column is extremely large compared with others in the matrix.\n"
       ]
      }
     ],
     "prompt_number": 225
    },
    {
     "cell_type": "markdown",
     "metadata": {},
     "source": [
      "**Exercise 3 (10 pts)**. Importance of using efficient algorihtms.\n",
      "\n",
      "- Implement bubble sort\n",
      "- Calculate its big $\\mathcal{O}$ algorithmic complexity\n",
      "- Time the performance of bubble sort on random uniform deviate vectors of sizes `range(100, 2000, 100)` using `time.time()` from the standard library\n",
      "- Use `scipy.optimize.curve_fit` to fit an appropriate function to the collection of (size, execution time) data points. Extrapolate how long it would take to sort a random vector of size 1,000,000. Now time how long it takes for the system sort to sort a random vector of size 1,000,000.\n",
      "- Plot the fits together with the data points uisng `matplotlib.pyplot` functions."
     ]
    },
    {
     "cell_type": "code",
     "collapsed": false,
     "input": [
      "# Your code here\n",
      "def bubbleSort(array):\n",
      "    \"\"\"Standard Bubble Sort\"\"\"\n",
      "    swapped = True\n",
      "    while (swapped == True):\n",
      "        swapped = False\n",
      "        for i in range(0,len(array)-1):\n",
      "        # this means i from 0 to n-2 (n-1 is not included)\n",
      "        # then start swapping\n",
      "            if (array[i] > array[i+1]):\n",
      "                temp = array[i]\n",
      "                array[i] = array[i+1]\n",
      "                array[i+1] = temp\n",
      "                swapped = True\n",
      "    return array\n",
      "\n",
      "# Use small size array to verify the correctness of algorithm\n",
      "array = np.array([3, 8, 1, 4, 2])    \n",
      "print bubbleSort(array)\n",
      "\n",
      "print \"Bubble sort complexity: worst case O(n^2), average case O(n^2), best case O(n)\""
     ],
     "language": "python",
     "metadata": {},
     "outputs": [
      {
       "output_type": "stream",
       "stream": "stdout",
       "text": [
        "[1 2 3 4 8]\n",
        "Bubble sort complexity: worst case O(n^2), average case O(n^2), best case O(n)\n"
       ]
      }
     ],
     "prompt_number": 243
    },
    {
     "cell_type": "code",
     "collapsed": false,
     "input": [
      "import time\n",
      "\n",
      "def timeMeasure(array):\n",
      "    \"\"\"Measure the time needed to do bubble sort\"\"\"\n",
      "    start = time.time()\n",
      "    bubbleSort(array)\n",
      "    end = time.time()\n",
      "    return end - start\n",
      "\n",
      "timeSeconds = []\n",
      "for n in range(100, 2100, 100):\n",
      "    np.random.seed(n)\n",
      "    array = np.random.random_integers(1,10000,n)\n",
      "    timeSeconds.append(timeMeasure(array))\n",
      "    \n",
      "print timeSeconds\n",
      "# Alternative way\n",
      "# %timeit fib2(20)\n",
      "# %timeit fib3(20)"
     ],
     "language": "python",
     "metadata": {},
     "outputs": [
      {
       "output_type": "stream",
       "stream": "stdout",
       "text": [
        "[0.0038039684295654297, 0.014500141143798828, 0.03404712677001953, 0.060205936431884766, 0.09125399589538574, 0.12817788124084473, 0.1798839569091797, 0.23662686347961426, 0.3035159111022949, 0.36247897148132324, 0.433413028717041, 0.5243661403656006, 0.5974271297454834, 0.709650993347168, 0.8340330123901367, 0.9521989822387695, 1.0497610569000244, 1.1891980171203613, 1.330198049545288, 1.4619460105895996]\n"
       ]
      }
     ],
     "prompt_number": 246
    },
    {
     "cell_type": "code",
     "collapsed": false,
     "input": [
      "import scipy\n",
      "from scipy.optimize import curve_fit\n",
      "xdata = np.array(range(100, 2100, 100))\n",
      "ydata = np.array(timeSeconds)\n",
      "\n",
      "def quadratic(x,a,b,c):\n",
      "    return a*x**2+b*x+c\n",
      "\n",
      "coeffs, pcov = scipy.optimize.curve_fit(quadratic, xdata, ydata)\n",
      "extrapolate = quadratic(1000000,coeffs[0],coeffs[1],coeffs[2])\n",
      "\n",
      "print \"Extrapolation:\"\n",
      "print \"1000000 elements takes {0:.3f}\".format(extrapolate),\"seconds to do buuble sort\"\n",
      "print \"Equivalent to\",extrapolate//3600,\"hours,\",(extrapolate % 3600)//60,\"minutes, and {0:.3f}\".format(extrapolate % 60),\"seconds\"\n",
      "print \"So don't try this on ANY computer.\\n\"\n",
      "\n",
      "# Plot with matplotlib.pyplot\n",
      "plt.plot(xdata,ydata,color='b',marker='o')\n",
      "plt.title(\"Bubble sort has average complexity $O(n^2)$\")\n",
      "plt.xlabel(\"Number of elements\")\n",
      "plt.ylabel(\"Sorting time (seconds)\")"
     ],
     "language": "python",
     "metadata": {},
     "outputs": [
      {
       "output_type": "stream",
       "stream": "stdout",
       "text": [
        "Extrapolation:\n",
        "1000000 elements takes 372212.325 seconds to do buuble sort\n",
        "Equivalent to 103.0 hours, 23.0 minutes, and 32.325 seconds\n",
        "So don't try this on ANY computer.\n",
        "\n"
       ]
      },
      {
       "metadata": {},
       "output_type": "pyout",
       "prompt_number": 261,
       "text": [
        "<matplotlib.text.Text at 0x7f157666ce10>"
       ]
      },
      {
       "metadata": {},
       "output_type": "display_data",
       "png": "[encoded data removed]",
       "text": [
        "<matplotlib.figure.Figure at 0x7f157658b250>"
       ]
      }
     ],
     "prompt_number": 261
    },
    {
     "cell_type": "code",
     "collapsed": false,
     "input": [
      "# Alternative way to curve_fit: polyfit\n",
      "import scipy\n",
      "# from scipy.optimize import curve_fit\n",
      "xdata = np.array(range(100, 2100, 100))\n",
      "ydata = np.array(timeSeconds)\n",
      "scipy.polyfit(xdata,ydata,deg=2)"
     ],
     "language": "python",
     "metadata": {},
     "outputs": [
      {
       "metadata": {},
       "output_type": "pyout",
       "prompt_number": 263,
       "text": [
        "array([  3.7222e-07,  -1.2258e-05,   3.5632e-03])"
       ]
      }
     ],
     "prompt_number": 263
    },
    {
     "cell_type": "markdown",
     "metadata": {},
     "source": [
      "**Exercise 4 (20 pts)**. One of the goals of the course it that you will be able to implement novel algorihtms from the literature. \n",
      "\n",
      "- Implement the mean-shift algorithm in 1D as described [here](http://homepages.inf.ed.ac.uk/rbf/CVonline/LOCAL_COPIES/TUZEL1/MeanShift.pdf). \n",
      "    - Use the following function signature\n",
      "    ```python\n",
      "    def mean_shift(xs, x, kernel, max_iters=100, tol=1e-6):\n",
      "    ```\n",
      "    - xs is the data set, x is the starting location, and kernel is a kernel function\n",
      "    - tol is the difference in $||x||$ across iterations\n",
      "- Use the following kernels with bandwidth $h$ (a default value of 1.0 will work fine)\n",
      "    - Flat - return 1 if $||x|| < h$ and 0 otherwise\n",
      "    - Gaussian \n",
      "    $$\\frac{1}{\\sqrt{2 \\pi h}}e^{\\frac{-||x||^2}{h^2}}$$\n",
      "    - Note that $||x||$ is the norm of the data point being evaluated minus the current value of $x$\n",
      "- Use both kernels to find all 3 modes of the data set in `x1d.npy`\n",
      "- Modify the algorithm and/or kernels so that it now works in an arbitrary number of dimensions.\n",
      "- Use both kernels to find all 3 modes of the data set in `x2d.npy`\n",
      "- Plot the path of successive intermediate solutions of the mean-shift algorithm starting from `x0 = (-4, 10)` until it converges onto a mode in the 2D data for each kernel. Superimpose the path on top of a contour plot of the data density."
     ]
    },
    {
     "cell_type": "code",
     "collapsed": false,
     "input": [
      "# Your code here UNFINISHED\n",
      "x1d = np.load('x1d.npy') \n",
      "x2d = np.load('x2d.npy') \n",
      "\n",
      "# plt.plot(x1d)\n",
      "# plt.plot(x2d)\n",
      "# print x1d.shape # 3000 datapoints\n",
      "# print x2d.shape # 2400*2 array\n",
      "\n",
      "def flat(anything, h = 1.0):\n",
      "    # h = 1.0 # bandwidth (default = 1.0)\n",
      "    if (anything < h):\n",
      "        return 1\n",
      "    else:\n",
      "        return 0\n",
      "    \n",
      "def Gaussian(anything, h = 1.0):\n",
      "    # h = 1.0 # bandwidth (default = 1.0)\n",
      "    return np.exp(-(anything/h)**2)/np.sqrt(2*np.pi*h)\n",
      "\n",
      "# kernel is a FUNCTION (external), to make the mean_shift function smaller!\n",
      "# Allowed to use for loops\n",
      "def mean_shift(xs, x, kernel, max_iters=100, tol=1e-6):\n",
      "    h = 1.0 # bandwidth (default = 1.0)\n",
      "    d = 1 # dimension (tenative)\n",
      "    f = 0.0\n",
      "    for i in range(0,len(xs)):\n",
      "        f += kernel((x-xs[i])/h)\n",
      "    return f\n",
      "\n",
      "testing = np.linspace(0,3000,num=1000)\n",
      "results = [mean_shift(x1d,n,Gaussian) for n in testing]\n",
      "plt.plot(results)\n",
      "\n",
      "# I think this one is wrong...\n",
      "\n"
     ],
     "language": "python",
     "metadata": {},
     "outputs": [
      {
       "metadata": {},
       "output_type": "pyout",
       "prompt_number": 286,
       "text": [
        "[<matplotlib.lines.Line2D at 0x7f1575ff1490>]"
       ]
      },
      {
       "metadata": {},
       "output_type": "display_data",
       "png": "[encoded data removed]",
       "text": [
        "<matplotlib.figure.Figure at 0x7f15760a0110>"
       ]
      }
     ],
     "prompt_number": 286
    },
    {
     "cell_type": "code",
     "collapsed": false,
     "input": [
      "plt.plot(x1d)"
     ],
     "language": "python",
     "metadata": {},
     "outputs": [
      {
       "metadata": {},
       "output_type": "pyout",
       "prompt_number": 282,
       "text": [
        "[<matplotlib.lines.Line2D at 0x7f1576209790>]"
       ]
      },
      {
       "metadata": {},
       "output_type": "display_data",
       "png": "[encoded data removed]",
       "text": [
        "<matplotlib.figure.Figure at 0x7f1576a701d0>"
       ]
      }
     ],
     "prompt_number": 282
    },
    {
     "cell_type": "code",
     "collapsed": false,
     "input": [
      "plt.plot(x2d)"
     ],
     "language": "python",
     "metadata": {},
     "outputs": []
    }
   ],
   "metadata": {}
  }
 ]
}