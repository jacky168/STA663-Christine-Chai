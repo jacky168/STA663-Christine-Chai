{
 "metadata": {
  "name": "",
  "signature": "sha256:d99aa899b5d189d550426b8858eab68cf7d982bb88ac9afc23043ee9ce391787"
 },
 "nbformat": 3,
 "nbformat_minor": 0,
 "worksheets": [
  {
   "cells": [
    {
     "cell_type": "code",
     "collapsed": false,
     "input": [
      "import os\n",
      "import sys\n",
      "import glob\n",
      "import matplotlib.pyplot as plt\n",
      "import numpy as np\n",
      "import pandas as pd\n",
      "%matplotlib inline\n",
      "plt.style.use('ggplot')"
     ],
     "language": "python",
     "metadata": {},
     "outputs": [],
     "prompt_number": 43
    },
    {
     "cell_type": "markdown",
     "metadata": {},
     "source": [
      "**Exercise 1 (10 pts)**. Avoding catastrophic cancellation.\n",
      "\n",
      "The tail of the standard logistic distributon is given by $1 - F(t) = 1 - (1+e^{-t})^{-1}$.\n",
      "\n",
      "- Define a function `f1` to calculate the tail probability of the logistic distribution using the formula given above\n",
      "- Use `sympy` to find the exact value of the tail distribution (using the same symbolic formula) to 20 decimal digits\n",
      "- Calculate the *relative error* of `f1` when $t = 25$ (The relative error is given by `abs(exact - approximate)/exact`)\n",
      "- Rewrite the expression for the tail of the logistic distribution using simple algebra so that there is no risk of cancellation, and write a function `f2` using this formula. Calculate the *relative error* of `f2` when $t = 25$. \n",
      "- How much more accurate is `f2` compared with `f1` in terms of the relative error?"
     ]
    },
    {
     "cell_type": "code",
     "collapsed": false,
     "input": [
      "# Your code here\n",
      "# 1-F(t) = 1 - 1/(1+exp(-t))\n",
      "def f1(t):\n",
      "    return 1-np.reciprocal(1+np.exp(-t))\n",
      "\n",
      "from sympy import symbols\n",
      "from sympy.functions import exp\n",
      "x = symbols('x')\n",
      "# accuracy of 20 digits (15 digits is the default)\n",
      "formula = 1 - 1/(1+exp(-x))\n",
      "exact = formula.evalf(subs={x:25},n=20)\n",
      "\n",
      "def f2(t):\n",
      "    return np.exp(-t)/(1+np.exp(-t))\n",
      "\n",
      "approx1 = f1(25)\n",
      "error1 = np.abs((exact-approx1)/exact)\n",
      "approx2 = f2(25)\n",
      "error2 = np.abs((exact-approx2)/exact)\n",
      "\n",
      "print \"Exact value =\",exact,\" (20 digits)\"\n",
      "print \"f1(25) =\",f1(25)\n",
      "print \"Relative error is \",error1\n",
      "print \"f2(25) =\",f2(25)\n",
      "print \"Relative error is \",error2\n",
      "# Do below if error2 == 0\n",
      "# print \"The relative error of f2(25) is too small to be represented by this formula\"\n",
      "\n",
      "# error1/error2 = exp(log(error1/error2)) = exp(log(error1)-log(error2))\n",
      "# accuracy = np.exp(log(error1)-log(error2))\n",
      "# but this gives an error because float-type numbers can't be used in np.log\n",
      "accuracy = error1/error2\n",
      "print \"f2 is\",accuracy,\"times more accurate than f1\"\n",
      "\n",
      "\n"
     ],
     "language": "python",
     "metadata": {},
     "outputs": [
      {
       "output_type": "stream",
       "stream": "stdout",
       "text": [
        "Exact value = 1.3887943864771145610e-11  (20 digits)\n",
        "f1(25) = 1.38880018596e-11\n",
        "Relative error is  4.1759147665982646285e-6\n",
        "f2(25) = 1.38879438648e-11\n",
        "Relative error is  2.3111252748218700406e-18\n",
        "f2 is 1806875123599.7465438 times more accurate than f1\n"
       ]
      }
     ],
     "prompt_number": 55
    },
    {
     "cell_type": "markdown",
     "metadata": {},
     "source": [
      "**Exercise 2 (10 pts)**. Ill-conditioned linear problems.\n",
      "\n",
      "You are given a $n \\times p$ design matrix $X$ and a $p$-vector of observations $y$ and asked to find the coefficients $\\beta$ that solve the linear equations $X \\beta = y$. \n",
      "```python\n",
      "X = np.load('x.npy')\n",
      "y = np.load('y.npy')\n",
      "```\n",
      "\n",
      "The solution $\\beta$ can also be loaded as\n",
      "```python\n",
      "beta = np.load('b.npy')\n",
      "```\n",
      "\n",
      "- Write a formula that could solve the system of linear equations in terms of $X$ and $y$ Write a function `f1` that takes arguments $X$ and $y$ and returns $\\beta$ using this formula.\n",
      "- How could you code this formula using `np.linalg.solve` that does not require inverting a matrix? Write a function `f2` that takes arguments $X$ and $y$ and returns $\\beta$ using this.\n",
      "- Note that carefully designed algorithms *can* solve this ill-conditioned problem, which is why you should always use library functions for linear algebra rather than write your own.\n",
      "```python\n",
      "np.linalg.lstsq(x, y)[0]\n",
      "```\n",
      "- What happens if you try to solve for $\\beta$ using `f1` or `f2`? Remove the column of $X$ that is making the matrix singluar and find the $p-1$ vector $b$ using `f2`.\n",
      "- Note that the solution differs from that given by `np.linalg.lstsq`? This arises because the relevant condition number for `f2` is actually for the matrix $X^TX$ while the condition number of `lstsq` is for the matrix $X$. Why is the condition so high even after removing the column that makes the matrix singular?"
     ]
    },
    {
     "cell_type": "code",
     "collapsed": false,
     "input": [
      "# Your code here UNFINISHED\n",
      "# y = X beta\n",
      "# f1: beta = inv(X.T*X)*X.T*y\n",
      "# f2: solve X.T*y = (X.T*X)*beta\n",
      "y = np.load('y.npy') # 10*1\n",
      "X = np.load('x.npy') # 10*6\n",
      "beta = np.load('b.npy') # 6*1\n",
      "\n",
      "def f1(X, y):\n",
      "    return np.dot(np.linalg.inv(np.dot(X.T,X)),np.dot(X.T,y))\n",
      "\n",
      "def f2(X, y):\n",
      "    return np.linalg.solve(np.dot(X.T,X),np.dot(X.T,y))\n",
      "\n",
      "# print np.linalg.det(np.dot(X.T,X)) # determinant is zero\n",
      "print np.linalg.matrix_rank(X) # 5\n",
      "# Removing the last column of X makes the matrix non-singular\n",
      "# Alternative way: use np.linalg.cholesky\n",
      "X_new = X[:,np.array([0,1,2,3,4])] # X_new.shape = 10*5\n",
      "print np.linalg.matrix_rank(X_new) # 5\n",
      "\n",
      "\n",
      "print f1(X_new,y)\n",
      "print f2(X_new,y)\n",
      "print np.linalg.lstsq(X, y)[0]\n",
      "print beta\n",
      "\n",
      "# Calculate the condition number of X\n",
      "U, s, V = np.linalg.svd(X_new)\n",
      "print(s)\n",
      "print(max(s)/min(s))\n",
      "\n",
      "U, s, V = np.linalg.svd(np.dot(X_new.T,X_new))\n",
      "print(s)\n",
      "print(max(s)/min(s))"
     ],
     "language": "python",
     "metadata": {},
     "outputs": [
      {
       "output_type": "stream",
       "stream": "stdout",
       "text": [
        "5\n",
        "5\n",
        "[ 0.46875     0.09617226  0.90625     0.95117188  0.5234375 ]\n",
        "[ 0.47221111  0.09617226  0.90449896  0.95138296  0.52497683]\n",
        "[ 0.46950359  0.09617226  0.90379971  0.00945473  0.52517152  0.09454725]\n",
        "[ 0.46923853  0.09617226  0.90337017  0.11949047  0.52479938  0.083623  ]\n",
        "[  1.12784664e+15   1.86256275e+01   1.22438165e+01   8.02496217e+00\n",
        "   6.08580711e+00]\n",
        "1.85324085869e+14\n",
        "[  1.27203804e+30   3.45947202e+02   1.49909400e+02   6.44418548e+01\n",
        "   3.56396846e+01]\n",
        "3.56916189007e+28\n"
       ]
      }
     ],
     "prompt_number": 89
    },
    {
     "cell_type": "markdown",
     "metadata": {},
     "source": [
      "**Exercise 3 (10 pts)**. Importance of using efficient algorihtms.\n",
      "\n",
      "- Implement bubble sort\n",
      "- Calculate its big $\\mathcal{O}$ algorithmic complexity\n",
      "- Time the performance of bubble sort on random uniform deviate vectors of sizes `range(100, 2000, 100)` using `time.time()` from the standard library\n",
      "- Use `scipy.optimize.curve_fit` to fit an appropriate function to the collection of (size, execution time) data points. Extrapolate how long it would take to sort a random vector of size 1,000,000. Now time how long it takes for the system sort to sort a random vector of size 1,000,000.\n",
      "- Plot the fits together with the data points uisng `matplotlib.pyplot` functions."
     ]
    },
    {
     "cell_type": "code",
     "collapsed": false,
     "input": [
      "# Your code here UNFINISHED\n",
      "def bubbleSort(array):\n",
      "    \"\"\"Standard Bubble Sort\"\"\"\n",
      "    swapped = True\n",
      "    while (swapped == True):\n",
      "        swapped = False\n",
      "        for i in range(0,len(array)-1):\n",
      "        # this means i from 0 to n-2 (n-1 is not included)\n",
      "        # then start swapping\n",
      "            if (array[i] > array[i+1]):\n",
      "                temp = array[i]\n",
      "                array[i] = array[i+1]\n",
      "                array[i+1] = temp\n",
      "                swapped = True\n",
      "    return array"
     ],
     "language": "python",
     "metadata": {},
     "outputs": [],
     "prompt_number": 108
    },
    {
     "cell_type": "code",
     "collapsed": false,
     "input": [
      "# Use small size array to verify the correctness of algorithm\n",
      "array = np.array([3, 8, 1, 4, 2])    \n",
      "bubbleSort(array)\n",
      "\n",
      "np.random.seed(21)\n",
      "array1 = np.random.random_integers(1,10000,100)\n",
      "array2 = np.random.random_integers(1,10000,2000)\n",
      "array3 =np.random.random_integers(1,10000,5000) # How many elements is enough?\n",
      "\n",
      "def timeMeasure(array):\n",
      "    \"\"\"Measure the time needed to do bubble sort\"\"\"\n",
      "    import time\n",
      "    start = time.time()\n",
      "    bubbleSort(array)\n",
      "    end = time.time()\n",
      "    return end - start\n",
      "\n",
      "print \"Bubble sort is very slow:\"\n",
      "time1 = timeMeasure(array1)\n",
      "time2 = timeMeasure(array2)\n",
      "time3 = timeMeasure(array3)\n",
      "print \" 100 elements takes {0:.3f}\".format(time1),\"seconds to sort\"\n",
      "print \"2000 elements takes {0:.3f}\".format(time1),\"seconds to sort\"\n",
      "print \"5000 elements takes {0:.3f}\".format(time3),\"seconds to sort\"\n",
      "print \"The complexity is O(n^2) because two nested loops exist in the algorithm.\"\n",
      "# Alternative way:\n",
      "# %timeit fib2(20)\n",
      "# %timeit fib3(20)"
     ],
     "language": "python",
     "metadata": {},
     "outputs": [
      {
       "output_type": "stream",
       "stream": "stdout",
       "text": [
        "Bubble sort is very slow:\n",
        " 100 elements takes 0.005"
       ]
      },
      {
       "output_type": "stream",
       "stream": "stdout",
       "text": [
        " seconds to sort\n",
        "2000 elements takes 0.005 seconds to sort\n",
        "5000 elements takes 10.230 seconds to sort\n"
       ]
      }
     ],
     "prompt_number": 125
    },
    {
     "cell_type": "code",
     "collapsed": false,
     "input": [
      "import scipy\n",
      "from scipy.optimize import curve_fit\n",
      "xdata = np.array([100,2000,5000])\n",
      "largenum = 10000\n",
      "ydata = np.array([time1,time2,time3])*largenum\n",
      "\n",
      "def quadratic(x,a,b,c):\n",
      "    return a*x**2+b*x+c\n",
      "\n",
      "coeffs, pcov = scipy.optimize.curve_fit(quadratic, xdata, ydata)\n",
      "extrapolate = quadratic(1000000,coeffs[0],coeffs[1],coeffs[2])\n",
      "\n",
      "print \"Extrapolation:\"\n",
      "print \"1000000 elements takes {0:.3f}\".format(extrapolate/largenum),\"seconds to sort\"\n",
      "\n",
      "# Plot with matplotlib.pyplot\n",
      "xdata_new = np.append(xdata,1000000)\n",
      "ydata_new = np.append(ydata,extrapolate)/largenum\n",
      "\n",
      "# Do we need to log-transform x or y?\n",
      "plt.plot(np.log(xdata_new),ydata_new,color='b',marker='o')\n",
      "plt.title(\"Bubble sort has complexity O(n^2)\")\n",
      "plt.xlabel(\"Number of elements (log transformed)\")\n",
      "plt.ylabel(\"Sorting time (seconds)\")"
     ],
     "language": "python",
     "metadata": {},
     "outputs": [
      {
       "output_type": "stream",
       "stream": "stdout",
       "text": [
        "Extrapolation:\n",
        "1000000 elements takes 385237.654 seconds to sort\n"
       ]
      },
      {
       "metadata": {},
       "output_type": "pyout",
       "prompt_number": 161,
       "text": [
        "<matplotlib.text.Text at 0x7f1577292e90>"
       ]
      },
      {
       "metadata": {},
       "output_type": "display_data",
       "png": "[encoded data removed]",
       "text": [
        "<matplotlib.figure.Figure at 0x7f1577370110>"
       ]
      }
     ],
     "prompt_number": 161
    },
    {
     "cell_type": "markdown",
     "metadata": {},
     "source": [
      "**Exercise 4 (20 pts)**. One of the goals of the course it that you will be able to implement novel algorihtms from the literature. \n",
      "\n",
      "- Implement the mean-shift algorithm in 1D as described [here](http://homepages.inf.ed.ac.uk/rbf/CVonline/LOCAL_COPIES/TUZEL1/MeanShift.pdf). \n",
      "    - Use the following function signature\n",
      "    ```python\n",
      "    def mean_shift(xs, x, kernel, max_iters=100, tol=1e-6):\n",
      "    ```\n",
      "    - xs is the data set, x is the starting location, and kernel is a kernel function\n",
      "    - tol is the difference in $||x||$ across iterations\n",
      "- Use the following kernels with bandwidth $h$ (a default value of 1.0 will work fine)\n",
      "    - Flat - return 1 if $||x|| < h$ and 0 otherwise\n",
      "    - Gaussian \n",
      "    $$\\frac{1}{\\sqrt{2 \\pi h}}e^{\\frac{-||x||^2}{h^2}}$$\n",
      "    - Note that $||x||$ is the norm of the data point being evaluated minus the current value of $x$\n",
      "- Use both kernels to find all 3 modes of the data set in `x1d.npy`\n",
      "- Modify the algorithm and/or kernels so that it now works in an arbitrary number of dimensions.\n",
      "- Use both kernels to find all 3 modes of the data set in `x2d.npy`\n",
      "- Plot the path of successive intermediate solutions of the mean-shift algorithm starting from `x0 = (-4, 10)` until it converges onto a mode in the 2D data for each kernel. Superimpose the path on top of a contour plot of the data density."
     ]
    },
    {
     "cell_type": "code",
     "collapsed": false,
     "input": [
      "# Your code here UNFINISHED\n",
      "x1d = np.load('x1d.npy') \n",
      "x2d = np.load('x2d.npy') \n",
      "\n",
      "# plt.plot(x1d)\n",
      "# plt.plot(x2d)\n",
      "print x1d.shape # 3000 datapoints\n",
      "print x2d.shape # 2400*2 array\n",
      "\n",
      "# xd = np.array([1,2,3,4,5,6])\n",
      "# x = 1\n",
      "# print x+xd # [2 3 4 5 6 7]\n",
      "# print np.sum(x+xd)\n",
      "\n",
      "def mean_shift(xs, x, kernel, max_iters=100, tol=1e-6):\n",
      "    h = 1.0 # bandwidth (default = 1.0)\n",
      "    d = 1 # dimension (tenative)\n",
      "    def K(anything, kernel, h):\n",
      "        if (kernel == \"flat\"):\n",
      "            if (anything < h):\n",
      "                return 1\n",
      "            else:\n",
      "                return 0\n",
      "        elif (kernel == \"Gaussian\"):\n",
      "            return np.exp(-(anything/h)**2)/np.sqrt(2*np.pi*h)\n",
      "        else: # make a funny default case\n",
      "            return 17\n",
      "    return np.sum(K((x-xs)/h, kernel, h))/(n*(h**d))\n",
      "    \n",
      "mean_shift(x1d,x=0.6,kernel=\"flat\")\n",
      "# How to broadcast K((x-xs)/h) without using a for loop?\n",
      "\n"
     ],
     "language": "python",
     "metadata": {},
     "outputs": [
      {
       "output_type": "stream",
       "stream": "stdout",
       "text": [
        "(3000,)\n",
        "(2400, 2)\n"
       ]
      },
      {
       "ename": "ValueError",
       "evalue": "The truth value of an array with more than one element is ambiguous. Use a.any() or a.all()",
       "output_type": "pyerr",
       "traceback": [
        "\u001b[1;31m---------------------------------------------------------------------------\u001b[0m\n\u001b[1;31mValueError\u001b[0m                                Traceback (most recent call last)",
        "\u001b[1;32m<ipython-input-174-2dc22ed9b706>\u001b[0m in \u001b[0;36m<module>\u001b[1;34m()\u001b[0m\n\u001b[0;32m     28\u001b[0m     \u001b[1;32mreturn\u001b[0m \u001b[0mnp\u001b[0m\u001b[1;33m.\u001b[0m\u001b[0msum\u001b[0m\u001b[1;33m(\u001b[0m\u001b[0mK\u001b[0m\u001b[1;33m(\u001b[0m\u001b[1;33m(\u001b[0m\u001b[0mx\u001b[0m\u001b[1;33m-\u001b[0m\u001b[0mxs\u001b[0m\u001b[1;33m)\u001b[0m\u001b[1;33m/\u001b[0m\u001b[0mh\u001b[0m\u001b[1;33m,\u001b[0m \u001b[0mkernel\u001b[0m\u001b[1;33m,\u001b[0m \u001b[0mh\u001b[0m\u001b[1;33m)\u001b[0m\u001b[1;33m)\u001b[0m\u001b[1;33m/\u001b[0m\u001b[1;33m(\u001b[0m\u001b[0mn\u001b[0m\u001b[1;33m*\u001b[0m\u001b[1;33m(\u001b[0m\u001b[0mh\u001b[0m\u001b[1;33m**\u001b[0m\u001b[0md\u001b[0m\u001b[1;33m)\u001b[0m\u001b[1;33m)\u001b[0m\u001b[1;33m\u001b[0m\u001b[0m\n\u001b[0;32m     29\u001b[0m \u001b[1;33m\u001b[0m\u001b[0m\n\u001b[1;32m---> 30\u001b[1;33m \u001b[0mmean_shift\u001b[0m\u001b[1;33m(\u001b[0m\u001b[0mx1d\u001b[0m\u001b[1;33m,\u001b[0m\u001b[0mx\u001b[0m\u001b[1;33m=\u001b[0m\u001b[1;36m0.6\u001b[0m\u001b[1;33m,\u001b[0m\u001b[0mkernel\u001b[0m\u001b[1;33m=\u001b[0m\u001b[1;34m\"flat\"\u001b[0m\u001b[1;33m)\u001b[0m\u001b[1;33m\u001b[0m\u001b[0m\n\u001b[0m\u001b[0;32m     31\u001b[0m \u001b[1;33m\u001b[0m\u001b[0m\n\u001b[0;32m     32\u001b[0m \u001b[1;33m\u001b[0m\u001b[0m\n",
        "\u001b[1;32m<ipython-input-174-2dc22ed9b706>\u001b[0m in \u001b[0;36mmean_shift\u001b[1;34m(xs, x, kernel, max_iters, tol)\u001b[0m\n\u001b[0;32m     26\u001b[0m         \u001b[1;32melse\u001b[0m\u001b[1;33m:\u001b[0m \u001b[1;31m# make a funny default case\u001b[0m\u001b[1;33m\u001b[0m\u001b[0m\n\u001b[0;32m     27\u001b[0m             \u001b[1;32mreturn\u001b[0m \u001b[1;36m17\u001b[0m\u001b[1;33m\u001b[0m\u001b[0m\n\u001b[1;32m---> 28\u001b[1;33m     \u001b[1;32mreturn\u001b[0m \u001b[0mnp\u001b[0m\u001b[1;33m.\u001b[0m\u001b[0msum\u001b[0m\u001b[1;33m(\u001b[0m\u001b[0mK\u001b[0m\u001b[1;33m(\u001b[0m\u001b[1;33m(\u001b[0m\u001b[0mx\u001b[0m\u001b[1;33m-\u001b[0m\u001b[0mxs\u001b[0m\u001b[1;33m)\u001b[0m\u001b[1;33m/\u001b[0m\u001b[0mh\u001b[0m\u001b[1;33m,\u001b[0m \u001b[0mkernel\u001b[0m\u001b[1;33m,\u001b[0m \u001b[0mh\u001b[0m\u001b[1;33m)\u001b[0m\u001b[1;33m)\u001b[0m\u001b[1;33m/\u001b[0m\u001b[1;33m(\u001b[0m\u001b[0mn\u001b[0m\u001b[1;33m*\u001b[0m\u001b[1;33m(\u001b[0m\u001b[0mh\u001b[0m\u001b[1;33m**\u001b[0m\u001b[0md\u001b[0m\u001b[1;33m)\u001b[0m\u001b[1;33m)\u001b[0m\u001b[1;33m\u001b[0m\u001b[0m\n\u001b[0m\u001b[0;32m     29\u001b[0m \u001b[1;33m\u001b[0m\u001b[0m\n\u001b[0;32m     30\u001b[0m \u001b[0mmean_shift\u001b[0m\u001b[1;33m(\u001b[0m\u001b[0mx1d\u001b[0m\u001b[1;33m,\u001b[0m\u001b[0mx\u001b[0m\u001b[1;33m=\u001b[0m\u001b[1;36m0.6\u001b[0m\u001b[1;33m,\u001b[0m\u001b[0mkernel\u001b[0m\u001b[1;33m=\u001b[0m\u001b[1;34m\"flat\"\u001b[0m\u001b[1;33m)\u001b[0m\u001b[1;33m\u001b[0m\u001b[0m\n",
        "\u001b[1;32m<ipython-input-174-2dc22ed9b706>\u001b[0m in \u001b[0;36mK\u001b[1;34m(anything, kernel, h)\u001b[0m\n\u001b[0;32m     18\u001b[0m     \u001b[1;32mdef\u001b[0m \u001b[0mK\u001b[0m\u001b[1;33m(\u001b[0m\u001b[0manything\u001b[0m\u001b[1;33m,\u001b[0m \u001b[0mkernel\u001b[0m\u001b[1;33m,\u001b[0m \u001b[0mh\u001b[0m\u001b[1;33m)\u001b[0m\u001b[1;33m:\u001b[0m\u001b[1;33m\u001b[0m\u001b[0m\n\u001b[0;32m     19\u001b[0m         \u001b[1;32mif\u001b[0m \u001b[1;33m(\u001b[0m\u001b[0mkernel\u001b[0m \u001b[1;33m==\u001b[0m \u001b[1;34m\"flat\"\u001b[0m\u001b[1;33m)\u001b[0m\u001b[1;33m:\u001b[0m\u001b[1;33m\u001b[0m\u001b[0m\n\u001b[1;32m---> 20\u001b[1;33m             \u001b[1;32mif\u001b[0m \u001b[1;33m(\u001b[0m\u001b[0manything\u001b[0m \u001b[1;33m<\u001b[0m \u001b[0mh\u001b[0m\u001b[1;33m)\u001b[0m\u001b[1;33m:\u001b[0m\u001b[1;33m\u001b[0m\u001b[0m\n\u001b[0m\u001b[0;32m     21\u001b[0m                 \u001b[1;32mreturn\u001b[0m \u001b[1;36m1\u001b[0m\u001b[1;33m\u001b[0m\u001b[0m\n\u001b[0;32m     22\u001b[0m             \u001b[1;32melse\u001b[0m\u001b[1;33m:\u001b[0m\u001b[1;33m\u001b[0m\u001b[0m\n",
        "\u001b[1;31mValueError\u001b[0m: The truth value of an array with more than one element is ambiguous. Use a.any() or a.all()"
       ]
      }
     ],
     "prompt_number": 174
    }
   ],
   "metadata": {}
  }
 ]
}