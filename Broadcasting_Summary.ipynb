{
 "metadata": {
  "name": "",
  "signature": "sha256:473320571a9817e34aab3808b68c9fcd0e3a835cd50028a128d19289b66b5497"
 },
 "nbformat": 3,
 "nbformat_minor": 0,
 "worksheets": [
  {
   "cells": [
    {
     "cell_type": "heading",
     "level": 1,
     "metadata": {},
     "source": [
      "Broadcasting Summary"
     ]
    },
    {
     "cell_type": "code",
     "collapsed": false,
     "input": [
      "import numpy as np\n",
      "M = np.array([[1,2,3],[4,5,6]])\n",
      "print np.sum((M[None,:] - M[:,None])**2, axis=-1)**0.5\n",
      "print M[None,:].shape\n",
      "print M[:,None].shape"
     ],
     "language": "python",
     "metadata": {},
     "outputs": [
      {
       "output_type": "stream",
       "stream": "stdout",
       "text": [
        "[[ 0.          5.19615242]\n",
        " [ 5.19615242  0.        ]]\n",
        "(1, 2, 3)\n",
        "(2, 1, 3)\n"
       ]
      }
     ],
     "prompt_number": 8
    },
    {
     "cell_type": "code",
     "collapsed": false,
     "input": [
      "print np.sum((M[None,:,:] - M[:,None,:])**2, axis=-1)**0.5\n",
      "print M[None,:,:].shape\n",
      "print M[:,None,:].shape"
     ],
     "language": "python",
     "metadata": {},
     "outputs": [
      {
       "output_type": "stream",
       "stream": "stdout",
       "text": [
        "[[ 0.          5.19615242]\n",
        " [ 5.19615242  0.        ]]\n",
        "(1, 2, 3)\n",
        "(2, 1, 3)\n"
       ]
      }
     ],
     "prompt_number": 13
    },
    {
     "cell_type": "code",
     "collapsed": false,
     "input": [
      "print np.sum((M[:,None,:] - M[:,:,None])**2, axis=0)**0.5\n",
      "print M[:,None,:].shape\n",
      "print M[:,:,None].shape"
     ],
     "language": "python",
     "metadata": {},
     "outputs": [
      {
       "output_type": "stream",
       "stream": "stdout",
       "text": [
        "[[ 0.          1.41421356  2.82842712]\n",
        " [ 1.41421356  0.          1.41421356]\n",
        " [ 2.82842712  1.41421356  0.        ]]\n",
        "(2, 1, 3)\n",
        "(2, 3, 1)\n"
       ]
      }
     ],
     "prompt_number": 12
    }
   ],
   "metadata": {}
  }
 ]
}