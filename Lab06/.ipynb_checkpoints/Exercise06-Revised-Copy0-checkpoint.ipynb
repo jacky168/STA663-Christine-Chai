{
 "metadata": {
  "name": "",
  "signature": "sha256:84fe80f88166f9134c038fab11d00c3e8f4ef72eb897174f7ed4e4e76b01241f"
 },
 "nbformat": 3,
 "nbformat_minor": 0,
 "worksheets": [
  {
   "cells": [
    {
     "cell_type": "code",
     "collapsed": false,
     "input": [
      "from __future__ import division\n",
      "\n",
      "import os\n",
      "import sys\n",
      "import glob\n",
      "import matplotlib.pyplot as plt\n",
      "import numpy as np\n",
      "import pandas as pd\n",
      "%matplotlib inline\n",
      "%precision 4\n",
      "plt.style.use('ggplot')"
     ],
     "language": "python",
     "metadata": {},
     "outputs": [],
     "prompt_number": 51
    },
    {
     "cell_type": "code",
     "collapsed": false,
     "input": [
      "import scipy.optimize as opt\n",
      "import scipy.stats as stats\n",
      "import scipy.linalg as la\n",
      "from IPython.display import Image"
     ],
     "language": "python",
     "metadata": {},
     "outputs": [],
     "prompt_number": 52
    },
    {
     "cell_type": "markdown",
     "metadata": {},
     "source": [
      "**Exercise 1 (10 points)**.\n",
      "\n",
      "A milkmaid is at point A and needs to get to point B. However, she also needs to fill a pail of water from the river en route from A to B. The equation of the river's path is shown in the figure below. \n",
      "\n",
      "- What is the minimum distance she has to travel to do this?\n",
      "- Modify the code below so that the path taken by the milkmaid is shown as a dashed line.\n",
      "\n",
      "```\n",
      "x = np.linspace(0, 10, 100)\n",
      "plt.xlim([0, 10])\n",
      "plt.plot(x, 10.0/(1+x), 'b', linewidth=5)\n",
      "plt.scatter([2,8], [8,4], c=[0,1], s=100)\n",
      "plt.text(8, 5, 'B (8,4)', fontsize=16)\n",
      "plt.text(2, 9, 'A (2,8)', fontsize=16)\n",
      "plt.text(0.5, 2, 'River', fontsize=16)\n",
      "plt.text(0.5, 0.5, 'g(x y) = y - 10/(1+x)', fontsize=16);\n",
      "```"
     ]
    },
    {
     "cell_type": "code",
     "collapsed": false,
     "input": [
      "# Part 1\n",
      "# Using scipy.optimize, same as Sample Midterm Question 4\n",
      "A = np.array([2,8])\n",
      "B = np.array([8,4])\n",
      "\n",
      "def dist(x):\n",
      "    return (np.linalg.norm(x-A)+np.linalg.norm(x-B))\n",
      "    \n",
      "bound1 = ((0,None),(0,None))\n",
      "con1 = ({'type': 'eq', 'fun': lambda x: x[0]*x[1] + x[1] - 10})\n",
      "\n",
      "solution = opt.minimize(dist,(4,8), bounds=bound1, constraints=con1)\n",
      "optimal = solution['x']\n",
      "minDist = solution['fun']\n",
      "print \"Minimum distance:\",minDist,\"\\n\"\n",
      "print \"Solving with scipy.optimize:\\n\",solution"
     ],
     "language": "python",
     "metadata": {},
     "outputs": [
      {
       "output_type": "stream",
       "stream": "stdout",
       "text": [
        "Minimum distance: 9.96339830152 \n",
        "\n",
        "Solving with scipy.optimize:\n",
        "  status: 0\n",
        " success: True\n",
        "    njev: 9\n",
        "    nfev: 37\n",
        "     fun: 9.9633983015155305\n",
        "       x: array([ 0.5323,  6.5263])\n",
        " message: 'Optimization terminated successfully.'\n",
        "     jac: array([-1.6529, -0.3881,  0.    ])\n",
        "     nit: 9\n"
       ]
      }
     ],
     "prompt_number": 114
    },
    {
     "cell_type": "code",
     "collapsed": false,
     "input": [
      "# Part 2\n",
      "x = np.linspace(0, 10, 100)\n",
      "plt.xlim([0, 10])\n",
      "plt.plot(x, 10.0/(1+x), 'b', linewidth=5,zorder=0)\n",
      "plt.scatter([2,8], [8,4], c=[0,1], s=100)\n",
      "\n",
      "# What I added (2 lines)\n",
      "plt.scatter(optimal[0],optimal[1],c='g',s=100,zorder=1)\n",
      "plt.plot([2,optimal[0],8],[8,optimal[1],4],c='g',linestyle='dashed',linewidth=4)\n",
      "\n",
      "plt.text(8, 5, 'B (8,4)', fontsize=16)\n",
      "plt.text(2, 9, 'A (2,8)', fontsize=16)\n",
      "plt.text(3, 6, 'P (0.5323, 6.5263)', fontsize=16, zorder=10)\n",
      "plt.text(0.5, 2, 'River', fontsize=16)\n",
      "plt.text(0.5, 0.5, 'g(x y) = y - 10/(1+x)', fontsize=16);"
     ],
     "language": "python",
     "metadata": {},
     "outputs": [
      {
       "metadata": {},
       "output_type": "display_data",
       "png": "[encoded data removed]",
       "text": [
        "<matplotlib.figure.Figure at 0x7f9e33ac49d0>"
       ]
      }
     ],
     "prompt_number": 115
    },
    {
     "cell_type": "markdown",
     "metadata": {},
     "source": [
      "**Exercise 2 (10 points)**.\n",
      "\n",
      "You are given 5 samples of 100 rolls of a die. The die is chosen at random from one of two dice, either of which may be biased. Given the following counts, estimate the parameters for each die (i.e. the probabilites of getting a 1, 2, 3, 4, 5 or 6).\n",
      "\n",
      "Hint: EM algorithm. You need to estimate the parameter of the two dice - you don't have to say which die generated which sample. What you need is a discrete probability distribution for each die."
     ]
    },
    {
     "cell_type": "code",
     "collapsed": false,
     "input": [
      "df = pd.read_csv('dice.csv', index_col=0)\n",
      "df"
     ],
     "language": "python",
     "metadata": {},
     "outputs": [
      {
       "html": [
        "<div style=\"max-height:1000px;max-width:1500px;overflow:auto;\">\n",
        "<table border=\"1\" class=\"dataframe\">\n",
        "  <thead>\n",
        "    <tr style=\"text-align: right;\">\n",
        "      <th></th>\n",
        "      <th>1</th>\n",
        "      <th>2</th>\n",
        "      <th>3</th>\n",
        "      <th>4</th>\n",
        "      <th>5</th>\n",
        "      <th>6</th>\n",
        "    </tr>\n",
        "  </thead>\n",
        "  <tbody>\n",
        "    <tr>\n",
        "      <th>Sample 1</th>\n",
        "      <td>  2</td>\n",
        "      <td> 14</td>\n",
        "      <td> 10</td>\n",
        "      <td> 20</td>\n",
        "      <td> 26</td>\n",
        "      <td> 28</td>\n",
        "    </tr>\n",
        "    <tr>\n",
        "      <th>Sample 2</th>\n",
        "      <td>  1</td>\n",
        "      <td> 13</td>\n",
        "      <td> 12</td>\n",
        "      <td> 17</td>\n",
        "      <td> 21</td>\n",
        "      <td> 36</td>\n",
        "    </tr>\n",
        "    <tr>\n",
        "      <th>Sample 3</th>\n",
        "      <td> 21</td>\n",
        "      <td> 18</td>\n",
        "      <td> 16</td>\n",
        "      <td> 12</td>\n",
        "      <td> 14</td>\n",
        "      <td> 19</td>\n",
        "    </tr>\n",
        "    <tr>\n",
        "      <th>Sample 4</th>\n",
        "      <td> 15</td>\n",
        "      <td> 20</td>\n",
        "      <td> 20</td>\n",
        "      <td> 15</td>\n",
        "      <td> 12</td>\n",
        "      <td> 18</td>\n",
        "    </tr>\n",
        "    <tr>\n",
        "      <th>Sample 5</th>\n",
        "      <td>  5</td>\n",
        "      <td> 10</td>\n",
        "      <td> 11</td>\n",
        "      <td> 24</td>\n",
        "      <td> 17</td>\n",
        "      <td> 33</td>\n",
        "    </tr>\n",
        "  </tbody>\n",
        "</table>\n",
        "</div>"
       ],
       "metadata": {},
       "output_type": "pyout",
       "prompt_number": 118,
       "text": [
        "           1   2   3   4   5   6\n",
        "Sample 1   2  14  10  20  26  28\n",
        "Sample 2   1  13  12  17  21  36\n",
        "Sample 3  21  18  16  12  14  19\n",
        "Sample 4  15  20  20  15  12  18\n",
        "Sample 5   5  10  11  24  17  33"
       ]
      }
     ],
     "prompt_number": 118
    },
    {
     "cell_type": "code",
     "collapsed": false,
     "input": [
      "# Using the EM_algorithm (Topic 12) class notes\n",
      "def em(xs, thetas, max_iter=100, tol=1e-6):\n",
      "    \"\"\"Expectation-maximization for coin/die sample problem.\"\"\"\n",
      "    \n",
      "    ll_old = -np.infty\n",
      "    for i in range(max_iter):\n",
      "        # E-step: calculate probability distributions over possible completions\n",
      "        ll = np.array([np.sum(xs * np.log(theta), axis=1) for theta in thetas])    \n",
      "        lik = np.exp(ll)\n",
      "        ws = lik/lik.sum(0)\n",
      "        vs = np.array([w[:, None] * xs for w in ws])\n",
      "        # M-step: update values for parameters given current distribution\n",
      "        thetas = np.array([v.sum(0)/v.sum() for v in vs])\n",
      "        ll_new = np.sum([w*l for w, l in zip(ws, ll)])\n",
      "        if np.abs(ll_new - ll_old) < tol:\n",
      "            break\n",
      "        ll_old = ll_new\n",
      "    return i, thetas, ll_new"
     ],
     "language": "python",
     "metadata": {},
     "outputs": [],
     "prompt_number": 119
    },
    {
     "cell_type": "code",
     "collapsed": false,
     "input": [
      "xs = np.array([(df.ix['Sample 1']),(df.ix['Sample 2']),(df.ix['Sample 3']),(df.ix['Sample 4']),(df.ix['Sample 5'])])\n",
      "thetas = np.array([[0.05,0.19,0.19,0.19,0.19,0.19],[1.0/6,1.0/6,1.0/6,1.0/6,1.0/6,1.0/6]]) # starting points (priors)\n",
      "\n",
      "i, thetas, ll = em(xs, thetas)\n",
      "# print i\n",
      "# print ll\n",
      "np.set_printoptions(formatter={'float': '{: 0.3f}'.format})\n",
      "print \"The probabilities of getting 1~6 are as follows:\"  \n",
      "print \"First die: \",thetas[0]\n",
      "print \"Second die:\",thetas[1]"
     ],
     "language": "python",
     "metadata": {},
     "outputs": [
      {
       "output_type": "stream",
       "stream": "stdout",
       "text": [
        "The probabilities of getting 1~6 are as follows:\n",
        "First die:  [ 0.027  0.123  0.110  0.203  0.213  0.323]\n",
        "Second die: [ 0.180  0.190  0.180  0.135  0.130  0.185]\n"
       ]
      }
     ],
     "prompt_number": 120
    },
    {
     "cell_type": "markdown",
     "metadata": {},
     "source": [
      "**Exercise 3 (10 points)**\n",
      "\n",
      "You have some data about the intervals between arrivals (in minutes) of customers to a bank. You want to know how many customers to expect from 9 AM to 5 PM. Simulate 1000 sequences of customer arrivals over an 8 hour period and estimate the mean and variance. \n",
      "\n",
      "Hint: Use the data from arrival_intervals.txt to *construct a new random number generator with the same distribution*, and use that to generate the Monte Carlo samples for the simulation."
     ]
    },
    {
     "cell_type": "code",
     "collapsed": false,
     "input": [
      "data = np.loadtxt('arrival_intervals.txt')\n",
      "# Below are my assumptions, but they are not used in this question:\n",
      "# interval between arrivals: Exponential (lambda)\n",
      "# number of counts/arrivals: Poisson (lambda)\n",
      "# Assume 6 customer arrivals per hour => lambda = 0.1 person per minute\n",
      "# EDA: np.mean(data) = 14.4665 / np.var(data) = 527.5633"
     ],
     "language": "python",
     "metadata": {},
     "outputs": [],
     "prompt_number": 53
    },
    {
     "cell_type": "code",
     "collapsed": false,
     "input": [
      "from scipy.interpolate import interp1d\n",
      "from statsmodels.distributions.empirical_distribution import ECDF\n",
      "\n",
      "ecdf = ECDF(data)\n",
      "inv_cdf = interp1d(ecdf.y, ecdf.x, bounds_error=False, assume_sorted=True)\n",
      "\n",
      "np.random.seed(123)\n",
      "r = np.random.uniform(0, 1, 100000)\n",
      "ys = inv_cdf(r)\n",
      "ys = ys[np.logical_not(np.isnan(ys))] # remove all \"nan\"s \n",
      "# print(len(ys)) # 99645"
     ],
     "language": "python",
     "metadata": {},
     "outputs": [],
     "prompt_number": 72
    },
    {
     "cell_type": "code",
     "collapsed": false,
     "input": [
      "n = 1000\n",
      "time = 0\n",
      "index = 0\n",
      "arrivals1000 = []\n",
      "\n",
      "for i in range(n):\n",
      "    time = 0\n",
      "    arrivals = 0\n",
      "    while (time <= 480): # 8 hours = 480 minutes\n",
      "        time += ys[index]\n",
      "        index += 1\n",
      "        arrivals += 1\n",
      "    arrivals1000.append(arrivals)\n",
      "\n",
      "print \"The number of customer arrivals from 9 AM to 5 PM is estimated using Monte Carlo samples.\"\n",
      "print \"Estimated mean:\",np.mean(arrivals1000)\n",
      "print \"Estimated variance:\",np.var(arrivals1000)\n",
      "# print time # 507.399362754\n",
      "# print index # 35855"
     ],
     "language": "python",
     "metadata": {},
     "outputs": [
      {
       "output_type": "stream",
       "stream": "stdout",
       "text": [
        "The number of customer arrivals from 9 AM to 5 PM is estimated using Monte Carlo samples.\n",
        "Estimated mean: 35.628\n",
        "Estimated variance: 71.433616\n"
       ]
      }
     ],
     "prompt_number": 73
    },
    {
     "cell_type": "code",
     "collapsed": false,
     "input": [
      "np.ones(2).shape"
     ],
     "language": "python",
     "metadata": {},
     "outputs": [
      {
       "metadata": {},
       "output_type": "pyout",
       "prompt_number": 108,
       "text": [
        "(2,)"
       ]
      }
     ],
     "prompt_number": 108
    },
    {
     "cell_type": "markdown",
     "metadata": {},
     "source": [
      "**Exercise 4 (10 points)**\n",
      "\n",
      "The Cauchy distribution is given by \n",
      "$$\n",
      "f(x) = \\frac{1}{\\pi (1 + x^2)}, \\ \\ -\\infty \\lt x \\lt \\infty \n",
      "$$\n",
      "\n",
      "1. Integrate the tail probability $P(X > 2)$ using Monte Carlo\n",
      "    1. Sampling from the Cauchy distribution directly\n",
      "    2. Sampling from the uniform distribution using an appropriate change of variables\n",
      "2. Plot the 95% CI for the Monte Carlo estimates for the number of samples from 1 to 1,000, and using 1,000 reps to estimate the lower and upper bounds:\n",
      "    1. For sampling from the Cauchy distribution using mulitple Monte Carlo sequences\n",
      "    2. For sampling from the uniform distribution using bootstrap samples of a single Monte Carlo sequence\n",
      "\n"
     ]
    },
    {
     "cell_type": "code",
     "collapsed": false,
     "input": [
      "# Part 1 A\n",
      "dist = stats.cauchy()\n",
      "n = 10000\n",
      "np.random.seed(21)\n",
      "part1A = dist.rvs(n)\n",
      "print \"1A. Sampling from the Cauchy distribution directly: P(X > 2) =\",np.sum(part1A > 2)/n\n",
      "\n",
      "# Part 1 B\n",
      "np.random.seed(17)\n",
      "u = stats.uniform().rvs(n)\n",
      "part1B = dist.ppf(u)\n",
      "print \"1B. Sampling from the uniform distribution (Inverse CDF Method): P(X > 2) =\",np.sum(part1B > 2)/n"
     ],
     "language": "python",
     "metadata": {},
     "outputs": [
      {
       "output_type": "stream",
       "stream": "stdout",
       "text": [
        "1A. Sampling from the Cauchy distribution directly: P(X > 2) = 0.1475\n",
        "1B. Sampling from the uniform distribution (Inverse CDF Method): P(X > 2) = 0.1391\n"
       ]
      }
     ],
     "prompt_number": 99
    },
    {
     "cell_type": "code",
     "collapsed": false,
     "input": [
      "# Part 2 A\n",
      "# Sampling from the Cauchy distribution using mulitple Monte Carlo sequences\n",
      "n = 1000\n",
      "reps = 1000\n",
      "# Important: Using numpy broadcasting to integrate all values together\n",
      "# x = dist1(np.random.random((n, reps))) this only samples Cauchy(x values between 0 and 1)\n",
      "np.random.seed(21)\n",
      "# x = dist.rvs(n*reps).reshape(n,reps)\n",
      "x = dist.rvs((n,reps))\n",
      "y = 1/np.arange(1, n+1)[:, None] * np.cumsum(x>2, axis=0)\n",
      "lower, upper = np.percentile(y, [2.5, 97.5], axis=1)"
     ],
     "language": "python",
     "metadata": {},
     "outputs": [],
     "prompt_number": 101
    },
    {
     "cell_type": "code",
     "collapsed": false,
     "input": [
      "plt.plot(np.arange(1,n+1), y, c='grey', alpha=0.02)\n",
      "plt.plot(np.arange(1,n+1), y[:, 0], c='red', linewidth=1);\n",
      "plt.plot(np.arange(1,n+1), upper, 'b', np.arange(1, n+1), lower, 'b');\n",
      "plt.xlabel('Number of samples')\n",
      "plt.ylabel('P(X > 2)')\n",
      "plt.title('95% CI for the Monte Carlo estimates')\n",
      "print \"Part 2 A: Sampling from the Cauchy distribution using mulitple Monte Carlo sequences\""
     ],
     "language": "python",
     "metadata": {},
     "outputs": [
      {
       "output_type": "stream",
       "stream": "stdout",
       "text": [
        "Part 2 A: Sampling from the Cauchy distribution using mulitple Monte Carlo sequences\n"
       ]
      },
      {
       "metadata": {},
       "output_type": "display_data",
       "png": "[encoded data removed]",
       "text": [
        "<matplotlib.figure.Figure at 0x7fe96e18d150>"
       ]
      }
     ],
     "prompt_number": 102
    },
    {
     "cell_type": "code",
     "collapsed": false,
     "input": [
      "# Part 2 B\n",
      "# Sampling from the uniform distribution using bootstrap samples of a single Monte Carlo sequence\n",
      "n = 1000\n",
      "reps = 1000\n",
      "# Important: Using numpy broadcasting to integrate all values together \n",
      "np.random.seed(21)\n",
      "x = dist.ppf(stats.uniform().rvs((n, reps)))\n",
      "\n",
      "np.random.seed(65536)\n",
      "xb = np.random.choice(x[:,0], (n, reps), replace=True)\n",
      "yb = 1/np.arange(1, n+1)[:, None] * np.cumsum(xb>2, axis=0)\n",
      "lower, upper = np.percentile(yb, [2.5, 97.5], axis=1)"
     ],
     "language": "python",
     "metadata": {},
     "outputs": [],
     "prompt_number": 105
    },
    {
     "cell_type": "code",
     "collapsed": false,
     "input": [
      "plt.plot(np.arange(1, n+1)[:, None], yb, c='grey', alpha=0.02)\n",
      "plt.plot(np.arange(1, n+1), yb[:, 0], c='red', linewidth=1)\n",
      "plt.plot(np.arange(1, n+1), upper, 'b', np.arange(1, n+1), lower, 'b');\n",
      "plt.xlabel('Number of samples')\n",
      "plt.ylabel('P(X > 2)')\n",
      "plt.title('95% CI for the bootstrapping estimates')\n",
      "print \"Part 2 B: Sampling from the uniform distribution using bootstrap samples of a single Monte Carlo sequence\""
     ],
     "language": "python",
     "metadata": {},
     "outputs": [
      {
       "output_type": "stream",
       "stream": "stdout",
       "text": [
        "Part 2 B: Sampling from the uniform distribution using bootstrap samples of a single Monte Carlo sequence\n"
       ]
      },
      {
       "metadata": {},
       "output_type": "display_data",
       "png": "[encoded data removed]",
       "text": [
        "<matplotlib.figure.Figure at 0x7fe96e27b390>"
       ]
      }
     ],
     "prompt_number": 106
    },
    {
     "cell_type": "markdown",
     "metadata": {},
     "source": [
      "**Exercise 5 (10 points)**.\n",
      "\n",
      "Estimate the following integral using Monte Carlo integration\n",
      "\n",
      "$$\n",
      "\\int_{-\\infty}^{\\infty} x^2 \\frac{1}{2}e^{-|x|} dx\n",
      "$$\n",
      "\n",
      "Hint: See figure.\n",
      "\n",
      "![Hint](./dexp.png)"
     ]
    },
    {
     "cell_type": "markdown",
     "metadata": {},
     "source": [
      "Importance sampling:\n",
      "$$\n",
      "E_f[h(x)] \\ = \\  \\int_X h(x) \\frac{f(x)}{g(x)} g(x) dx \\ = \\ E_g\\left[ \\frac{h(X) f(X)}{g(X)} \\right]\n",
      "$$"
     ]
    },
    {
     "cell_type": "code",
     "collapsed": false,
     "input": [
      "# Looks like importance sampling\n",
      "def h(x):\n",
      "    return x**2\n",
      "def f(x):\n",
      "    return 0.5*np.exp(-np.abs(x))\n",
      "def g(x):\n",
      "    return stats.norm(0,2).pdf(x)\n",
      "\n",
      "np.random.seed(21)\n",
      "X = stats.norm(0,2).rvs(10000)\n",
      "Y = h(X)*f(X)/g(X)\n",
      "print \"The integration result is\",np.mean(Y)\n",
      "print \"by using Monte Carlo approximation and importance sampling\""
     ],
     "language": "python",
     "metadata": {},
     "outputs": [
      {
       "output_type": "stream",
       "stream": "stdout",
       "text": [
        "The integration result is 2.00401340659\n",
        "by using Monte Carlo approximation and importance sampling\n"
       ]
      }
     ],
     "prompt_number": 128
    },
    {
     "cell_type": "markdown",
     "metadata": {},
     "source": [
      "Exact integration:\n",
      "$$\n",
      "\\int_{-\\infty}^{\\infty} x^2 \\frac{1}{2}e^{-|x|} dx = \\int_{0}^{\\infty} x^2 \\frac{1}{2}e^{-x} dx + \\int_{-\\infty}^{0} x^2 \\frac{1}{2}e^{x} dx = 2 \\int_{0}^{\\infty} x^2 \\frac{1}{2}e^{-x} dx = \\int_{0}^{\\infty} x^2 e^{-x} dx = \\Gamma(3) = 2 $$\n",
      "because  \n",
      "$$x^2 e^{-x} \\propto Ga(3,1)$$\n",
      "Furthermore, $f(x)=\\frac{1}{2}e^{-|x|}$ is the double exponential (Laplace) distribution, i.e. the prior of Bayesian Lasso."
     ]
    },
    {
     "cell_type": "code",
     "collapsed": false,
     "input": [],
     "language": "python",
     "metadata": {},
     "outputs": []
    }
   ],
   "metadata": {}
  }
 ]
}