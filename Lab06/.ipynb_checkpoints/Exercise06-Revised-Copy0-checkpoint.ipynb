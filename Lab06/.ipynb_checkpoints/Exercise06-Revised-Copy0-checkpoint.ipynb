{
 "metadata": {
  "name": "",
  "signature": "sha256:ee09d1ef8d3ca099388568fd7324af987d68e54eb74f635c9a5ad62fa520b070"
 },
 "nbformat": 3,
 "nbformat_minor": 0,
 "worksheets": [
  {
   "cells": [
    {
     "cell_type": "code",
     "collapsed": false,
     "input": [
      "from __future__ import division\n",
      "\n",
      "import os\n",
      "import sys\n",
      "import glob\n",
      "import matplotlib.pyplot as plt\n",
      "import numpy as np\n",
      "import pandas as pd\n",
      "%matplotlib inline\n",
      "%precision 4\n",
      "plt.style.use('ggplot')"
     ],
     "language": "python",
     "metadata": {},
     "outputs": [],
     "prompt_number": 2
    },
    {
     "cell_type": "code",
     "collapsed": false,
     "input": [
      "import scipy.optimize as opt\n",
      "import scipy.stats as stats\n",
      "import scipy.linalg as la\n",
      "from IPython.display import Image"
     ],
     "language": "python",
     "metadata": {},
     "outputs": [],
     "prompt_number": 3
    },
    {
     "cell_type": "markdown",
     "metadata": {},
     "source": [
      "**Exercise 1 (10 points)**.\n",
      "\n",
      "A milkmaid is at point A and needs to get to point B. However, she also needs to fill a pail of water from the river en route from A to B. The equation of the river's path is shown in the figure below. \n",
      "\n",
      "- What is the minimum distance she has to travel to do this?\n",
      "- Modify the code below so that the path taken by the milkmaid is shown as a dashed line.\n",
      "\n",
      "```\n",
      "x = np.linspace(0, 10, 100)\n",
      "plt.xlim([0, 10])\n",
      "plt.plot(x, 10.0/(1+x), 'b', linewidth=5)\n",
      "plt.scatter([2,8], [8,4], c=[0,1], s=100)\n",
      "plt.text(8, 5, 'B (8,4)', fontsize=16)\n",
      "plt.text(2, 9, 'A (2,8)', fontsize=16)\n",
      "plt.text(0.5, 2, 'River', fontsize=16)\n",
      "plt.text(0.5, 0.5, 'g(x y) = y - 10/(1+x)', fontsize=16);\n",
      "```"
     ]
    },
    {
     "cell_type": "code",
     "collapsed": false,
     "input": [
      "# Part 1\n",
      "# Using scipy.optimize, same as Sample Midterm Question 4\n",
      "A = np.array([2,8])\n",
      "B = np.array([8,4])\n",
      "\n",
      "def dist(x):\n",
      "    return (np.linalg.norm(x-A)+np.linalg.norm(x-B))\n",
      "    \n",
      "bound1 = ((0,None),(0,None))\n",
      "con1 = ({'type': 'eq', 'fun': lambda x: x[0]*x[1] + x[1] - 10})\n",
      "\n",
      "solution = opt.minimize(dist,(4,8), bounds=bound1, constraints=con1)\n",
      "optimal = solution['x']\n",
      "minDist = solution['fun']\n",
      "print \"Minimum distance:\",minDist,\"\\n\"\n",
      "print \"Solving with scipy.optimize:\\n\",solution"
     ],
     "language": "python",
     "metadata": {},
     "outputs": [
      {
       "output_type": "stream",
       "stream": "stdout",
       "text": [
        "Minimum distance: 9.96339830152 \n",
        "\n",
        "Solving with scipy.optimize:\n",
        "  status: 0\n",
        " success: True\n",
        "    njev: 9\n",
        "    nfev: 37\n",
        "     fun: 9.9633983015155305\n",
        "       x: array([ 0.5323,  6.5263])\n",
        " message: 'Optimization terminated successfully.'\n",
        "     jac: array([-1.6529, -0.3881,  0.    ])\n",
        "     nit: 9\n"
       ]
      }
     ],
     "prompt_number": 53
    },
    {
     "cell_type": "code",
     "collapsed": false,
     "input": [
      "# Part 2\n",
      "x = np.linspace(0, 10, 100)\n",
      "plt.xlim([0, 10])\n",
      "plt.plot(x, 10.0/(1+x), 'b', linewidth=5,zorder=0)\n",
      "plt.scatter([2,8], [8,4], c=[0,1], s=100)\n",
      "\n",
      "# What I added (2 lines)\n",
      "plt.scatter(optimal[0],optimal[1],c='g',s=100,zorder=1)\n",
      "plt.plot([2,optimal[0],8],[8,optimal[1],4],c='g',linestyle='dashed',linewidth=4)\n",
      "\n",
      "plt.text(8, 5, 'B (8,4)', fontsize=16)\n",
      "plt.text(2, 9, 'A (2,8)', fontsize=16)\n",
      "plt.text(3, 6, 'P (0.5323, 6.5263)', fontsize=16, zorder=10)\n",
      "plt.text(0.5, 2, 'River', fontsize=16)\n",
      "plt.text(0.5, 0.5, 'g(x y) = y - 10/(1+x)', fontsize=16);"
     ],
     "language": "python",
     "metadata": {},
     "outputs": [
      {
       "metadata": {},
       "output_type": "display_data",
       "png": "[encoded data removed]",
       "text": [
        "<matplotlib.figure.Figure at 0x7f6777f1ee50>"
       ]
      }
     ],
     "prompt_number": 54
    },
    {
     "cell_type": "markdown",
     "metadata": {},
     "source": [
      "**Exercise 2 (10 points)**.\n",
      "\n",
      "You are given 5 samples of 100 rolls of a die. The die is chosen at random from one of two dice, either of which may be biased. Given the following counts, estimate the parameters for each die (i.e. the probabilites of getting a 1, 2, 3, 4, 5 or 6)."
     ]
    },
    {
     "cell_type": "code",
     "collapsed": false,
     "input": [
      "df = pd.read_csv('dice.csv', index_col=0)\n",
      "df"
     ],
     "language": "python",
     "metadata": {},
     "outputs": [
      {
       "html": [
        "<div style=\"max-height:1000px;max-width:1500px;overflow:auto;\">\n",
        "<table border=\"1\" class=\"dataframe\">\n",
        "  <thead>\n",
        "    <tr style=\"text-align: right;\">\n",
        "      <th></th>\n",
        "      <th>1</th>\n",
        "      <th>2</th>\n",
        "      <th>3</th>\n",
        "      <th>4</th>\n",
        "      <th>5</th>\n",
        "      <th>6</th>\n",
        "    </tr>\n",
        "  </thead>\n",
        "  <tbody>\n",
        "    <tr>\n",
        "      <th>Sample 1</th>\n",
        "      <td>  2</td>\n",
        "      <td> 14</td>\n",
        "      <td> 10</td>\n",
        "      <td> 20</td>\n",
        "      <td> 26</td>\n",
        "      <td> 28</td>\n",
        "    </tr>\n",
        "    <tr>\n",
        "      <th>Sample 2</th>\n",
        "      <td>  1</td>\n",
        "      <td> 13</td>\n",
        "      <td> 12</td>\n",
        "      <td> 17</td>\n",
        "      <td> 21</td>\n",
        "      <td> 36</td>\n",
        "    </tr>\n",
        "    <tr>\n",
        "      <th>Sample 3</th>\n",
        "      <td> 21</td>\n",
        "      <td> 18</td>\n",
        "      <td> 16</td>\n",
        "      <td> 12</td>\n",
        "      <td> 14</td>\n",
        "      <td> 19</td>\n",
        "    </tr>\n",
        "    <tr>\n",
        "      <th>Sample 4</th>\n",
        "      <td> 15</td>\n",
        "      <td> 20</td>\n",
        "      <td> 20</td>\n",
        "      <td> 15</td>\n",
        "      <td> 12</td>\n",
        "      <td> 18</td>\n",
        "    </tr>\n",
        "    <tr>\n",
        "      <th>Sample 5</th>\n",
        "      <td>  5</td>\n",
        "      <td> 10</td>\n",
        "      <td> 11</td>\n",
        "      <td> 24</td>\n",
        "      <td> 17</td>\n",
        "      <td> 33</td>\n",
        "    </tr>\n",
        "  </tbody>\n",
        "</table>\n",
        "</div>"
       ],
       "metadata": {},
       "output_type": "pyout",
       "prompt_number": 6,
       "text": [
        "           1   2   3   4   5   6\n",
        "Sample 1   2  14  10  20  26  28\n",
        "Sample 2   1  13  12  17  21  36\n",
        "Sample 3  21  18  16  12  14  19\n",
        "Sample 4  15  20  20  15  12  18\n",
        "Sample 5   5  10  11  24  17  33"
       ]
      }
     ],
     "prompt_number": 6
    },
    {
     "cell_type": "code",
     "collapsed": false,
     "input": [
      "# stats.ks_2samp(df.ix['Sample 1',], df.ix['Sample 3',])"
     ],
     "language": "python",
     "metadata": {},
     "outputs": [
      {
       "metadata": {},
       "output_type": "pyout",
       "prompt_number": 10,
       "text": [
        "(0.3333, 0.8096)"
       ]
      }
     ],
     "prompt_number": 10
    },
    {
     "cell_type": "code",
     "collapsed": false,
     "input": [
      "# Looks like an EM algorithm question\n",
      "print df.sum()/500\n",
      "\n",
      "df.ix['Sample 1',] # retrieve Sample 1\n",
      "\n",
      "\n",
      "# Question: The samples may come from different dies?\n",
      "# Do we need to justify our reason of deciding which sample is which one?\n",
      "# Answer:\n",
      "# You need to estimate the parameter of the two dice - you don't have to say which die generated which sample. \n",
      "# What you need is a discrete probability distribution for each die.\n",
      "\n"
     ],
     "language": "python",
     "metadata": {},
     "outputs": [
      {
       "output_type": "stream",
       "stream": "stdout",
       "text": [
        "1    0.088\n",
        "2    0.150\n",
        "3    0.138\n",
        "4    0.176\n",
        "5    0.180\n",
        "6    0.268\n",
        "dtype: float64\n"
       ]
      },
      {
       "metadata": {},
       "output_type": "pyout",
       "prompt_number": 68,
       "text": [
        "1     2\n",
        "2    14\n",
        "3    10\n",
        "4    20\n",
        "5    26\n",
        "6    28\n",
        "Name: Sample 1, dtype: int64"
       ]
      }
     ],
     "prompt_number": 68
    },
    {
     "cell_type": "markdown",
     "metadata": {},
     "source": [
      "**Exercise 3 (10 points)**\n",
      "\n",
      "You have some data about the intervals between arrivals (in minutes) of customers to a bank. You want to know how many customers to expect from 9 AM to 5 PM. Simulate 1000 sequences of customer arrivals over an 8 hour period and estimate the mean and variance. \n",
      "\n",
      "Hint: Use the data from arrival_intervals.txt to *construct a new random number generator with the same distribution*, and use that to generate the Monte Carlo samples for the simulation."
     ]
    },
    {
     "cell_type": "code",
     "collapsed": false,
     "input": [
      "data = np.loadtxt('arrival_intervals.txt')\n",
      "type(data)\n",
      "len(data)\n",
      "np.mean(data)"
     ],
     "language": "python",
     "metadata": {},
     "outputs": [
      {
       "metadata": {},
       "output_type": "pyout",
       "prompt_number": 13,
       "text": [
        "14.4665"
       ]
      }
     ],
     "prompt_number": 13
    },
    {
     "cell_type": "code",
     "collapsed": false,
     "input": [
      "ecdf = ECDF(data)\n",
      "inv_cdf = interp1d(ecdf.y, ecdf.x, bounds_error=False, assume_sorted=True)\n",
      "r = np.random.uniform(0, 1, 1000)\n",
      "ys = inv_cdf(r)\n",
      "np.max(r)"
     ],
     "language": "python",
     "metadata": {},
     "outputs": [
      {
       "metadata": {},
       "output_type": "pyout",
       "prompt_number": 32,
       "text": [
        "0.9997"
       ]
      }
     ],
     "prompt_number": 32
    },
    {
     "cell_type": "code",
     "collapsed": false,
     "input": [
      "from scipy.interpolate import interp1d\n",
      "from statsmodels.distributions.empirical_distribution import ECDF\n",
      "\n",
      "# Make up some random data\n",
      "x = np.concatenate([np.random.normal(0, 1, 10000), \n",
      "                    np.random.normal(4, 1, 10000)])\n",
      "\n",
      "ecdf = ECDF(x)\n",
      "inv_cdf = interp1d(ecdf.y, ecdf.x, bounds_error=False, assume_sorted=True)\n",
      "r = np.random.uniform(0, 1, 1000)\n",
      "ys = inv_cdf(r)\n",
      "\n",
      "plt.hist(x, 25, histtype='step', color='red', normed=True, linewidth=1)\n",
      "plt.hist(ys, 25, histtype='step', color='blue', normed=True, linewidth=1);"
     ],
     "language": "python",
     "metadata": {},
     "outputs": [
      {
       "metadata": {},
       "output_type": "display_data",
       "png": "[encoded data removed]",
       "text": [
        "<matplotlib.figure.Figure at 0x7fdf5261d190>"
       ]
      }
     ],
     "prompt_number": 15
    },
    {
     "cell_type": "code",
     "collapsed": false,
     "input": [
      "ecdf.y?"
     ],
     "language": "python",
     "metadata": {},
     "outputs": [],
     "prompt_number": 22
    },
    {
     "cell_type": "code",
     "collapsed": false,
     "input": [
      "# interval between arrivals: Exponential (lambda)\n",
      "# number of counts/arrivals: Poisson (lambda)\n",
      "# Assume 6 customer arrivals per hour => lambda = 0.1 person per minute\n",
      "\n",
      "\n",
      "# Question: Where are the data about the intervals between arrivals?\n",
      "\n",
      "\n",
      "\n",
      "lmabd = 0.1\n",
      "\n",
      "\n",
      "simulate = stats.poisson(6)\n",
      "np.random.seed(21)\n",
      "results = simulate.rvs(1000)\n",
      "print np.mean(results)\n",
      "print np.var(results)\n",
      "\n",
      "\n",
      "\n"
     ],
     "language": "python",
     "metadata": {},
     "outputs": [
      {
       "output_type": "stream",
       "stream": "stdout",
       "text": [
        "6.002\n",
        "5.379996\n"
       ]
      }
     ],
     "prompt_number": 14
    },
    {
     "cell_type": "markdown",
     "metadata": {},
     "source": [
      "**Exercise 4 (10 points)**\n",
      "\n",
      "The Cauchy distribution is given by \n",
      "$$\n",
      "f(x) = \\frac{1}{\\pi (1 + x^2)}, \\ \\ -\\infty \\lt x \\lt \\infty \n",
      "$$\n",
      "\n",
      "1. Integrate the tail probability $P(X > 2)$ using Monte Carlo\n",
      "    1. Sampling from the Cauchy distribution directly\n",
      "    2. Sampling from the uniform distribution using an appropriate change of variables\n",
      "2. Plot the 95% CI for the Monte Carlo estimates for the number of samples from 1 to 1,000, and using 1,000 reps to estimate the lower and upper bounds:\n",
      "    1. For sampling from the Cauchy distribution using mulitple Monte Carlo sequences\n",
      "    2. For sampling from the uniform distribution using bootstrap samples of a single Monte Carlo sequence\n",
      "\n"
     ]
    },
    {
     "cell_type": "code",
     "collapsed": false,
     "input": [
      "# Part 1 A\n",
      "dist = stats.cauchy()\n",
      "n = 10000\n",
      "np.random.seed(21)\n",
      "part1A = dist.rvs(n)\n",
      "print \"1A. Sampling from the Cauchy distribution directly: P(X > 2) =\",np.sum(part1A > 2)/n\n",
      "\n",
      "# Part 1 B\n",
      "np.random.seed(17)\n",
      "u = stats.uniform().rvs(n)\n",
      "part1B = dist.ppf(u)\n",
      "print \"1B. Sampling from the uniform distribution (Inverse CDF Method): P(X > 2) =\",np.sum(part1B > 2)/n"
     ],
     "language": "python",
     "metadata": {},
     "outputs": [
      {
       "output_type": "stream",
       "stream": "stdout",
       "text": [
        "1A. Sampling from the Cauchy distribution directly: P(X > 2) = 0.1475\n",
        "1B. Sampling from the uniform distribution (Inverse CDF Method): P(X > 2) = 0.1391\n"
       ]
      }
     ],
     "prompt_number": 14
    },
    {
     "cell_type": "code",
     "collapsed": false,
     "input": [
      "# Part 2 A\n",
      "# Sampling from the Cauchy distribution using mulitple Monte Carlo sequences\n",
      "def dist1(x):\n",
      "    return np.reciprocal(np.pi*(1+x**2))\n",
      "\n",
      "n = 1000\n",
      "reps = 1000\n",
      "\n",
      "# Important: Using numpy broadcasting to integrate all values together \n",
      "np.random.seed(21)\n",
      "x = dist1(np.random.random((n, reps)))\n",
      "y = 1/np.arange(1, n+1)[:, None] * np.cumsum(x, axis=0)\n",
      "lower, upper = np.percentile(y, [2.5, 97.5], axis=1)"
     ],
     "language": "python",
     "metadata": {},
     "outputs": [],
     "prompt_number": 83
    },
    {
     "cell_type": "code",
     "collapsed": false,
     "input": [
      "plt.plot(np.arange(1, n+1), y, c='grey', alpha=0.02)\n",
      "plt.plot(np.arange(1, n+1), y[:, 0], c='red', linewidth=1);\n",
      "plt.plot(np.arange(1, n+1), upper, 'b', np.arange(1, n+1), lower, 'b');\n",
      "plt.xlabel('Number of samples')\n",
      "plt.ylabel('P(X > 2)')\n",
      "plt.title('95% CI for the Monte Carlo estimates')\n",
      "print \"Part 2 A: Sampling from the Cauchy distribution using mulitple Monte Carlo sequences\""
     ],
     "language": "python",
     "metadata": {},
     "outputs": [
      {
       "output_type": "stream",
       "stream": "stdout",
       "text": [
        "Part 2 A: Sampling from the Cauchy distribution using mulitple Monte Carlo sequences\n"
       ]
      },
      {
       "metadata": {},
       "output_type": "display_data",
       "png": "[encoded data removed]",
       "text": [
        "<matplotlib.figure.Figure at 0x7fdf4fd47b50>"
       ]
      }
     ],
     "prompt_number": 84
    },
    {
     "cell_type": "code",
     "collapsed": false,
     "input": [
      "# Part 2 B\n",
      "# Sampling from the uniform distribution using bootstrap samples of a single Monte Carlo sequence\n",
      "n = 1000\n",
      "reps = 1000\n",
      "# Important: Using numpy broadcasting to integrate all values together \n",
      "np.random.seed(21)\n",
      "x = dist.ppf(stats.uniform().rvs((n, reps)))\n",
      "\n",
      "np.random.seed(65536)\n",
      "xb = np.random.choice(x[:,0], (n, reps), replace=True)\n",
      "yb = 1/np.arange(1, n+1)[:, None] * np.cumsum(xb, axis=0)\n",
      "lower, upper = np.percentile(yb, [2.5, 97.5], axis=1)"
     ],
     "language": "python",
     "metadata": {},
     "outputs": [],
     "prompt_number": 106
    },
    {
     "cell_type": "code",
     "collapsed": false,
     "input": [
      "plt.plot(np.arange(1, n+1)[:, None], yb, c='grey', alpha=0.02)\n",
      "plt.plot(np.arange(1, n+1), yb[:, 0], c='red', linewidth=1)\n",
      "plt.plot(np.arange(1, n+1), upper, 'b', np.arange(1, n+1), lower, 'b');\n",
      "plt.xlabel('Number of samples')\n",
      "plt.ylabel('P(X > 2)')\n",
      "plt.title('95% CI for the bootstrapping estimates')\n",
      "print \"Part 2 B: Sampling from the uniform distribution using bootstrap samples of a single Monte Carlo sequence\""
     ],
     "language": "python",
     "metadata": {},
     "outputs": [
      {
       "output_type": "stream",
       "stream": "stdout",
       "text": [
        "Part 2 B: Sampling from the uniform distribution using bootstrap samples of a single Monte Carlo sequence\n"
       ]
      },
      {
       "metadata": {},
       "output_type": "display_data",
       "png": "[encoded data removed]",
       "text": [
        "<matplotlib.figure.Figure at 0x7fdf50f1f0d0>"
       ]
      }
     ],
     "prompt_number": 107
    },
    {
     "cell_type": "markdown",
     "metadata": {},
     "source": [
      "**Exercise 5 (10 points)**.\n",
      "\n",
      "Estimate the following integral using Monte Carlo integration\n",
      "\n",
      "$$\n",
      "\\int_{-\\infty}^{\\infty} x^2 \\frac{1}{2}e^{-|x|} dx\n",
      "$$\n",
      "\n",
      "Hint: See figure.\n",
      "\n",
      "![Hint](./dexp.png)"
     ]
    },
    {
     "cell_type": "markdown",
     "metadata": {},
     "source": [
      "Importance sampling:\n",
      "$$\n",
      "E_f[h(x)] \\ = \\  \\int_X h(x) \\frac{f(x)}{g(x)} g(x) dx \\ = \\ E_g\\left[ \\frac{h(X) f(X)}{g(X)} \\right]\n",
      "$$"
     ]
    },
    {
     "cell_type": "code",
     "collapsed": false,
     "input": [
      "# Looks like importance sampling\n",
      "def h(x):\n",
      "    return x**2\n",
      "def f(x):\n",
      "    return 0.5*np.exp(-np.abs(x))\n",
      "def g(x):\n",
      "    return stats.norm(0,2).pdf(x)\n",
      "\n",
      "np.random.seed(21)\n",
      "X = stats.norm(0,2).rvs(10000)\n",
      "Y = h(X)*f(X)/g(X)\n",
      "print \"The integration result is\",np.mean(Y)\n",
      "print \"by using Monte Carlo approximation and importance sampling\""
     ],
     "language": "python",
     "metadata": {},
     "outputs": [
      {
       "output_type": "stream",
       "stream": "stdout",
       "text": [
        "The integration result is 2.00401340659\n",
        "by using Monte Carlo approximation and importance sampling\n"
       ]
      }
     ],
     "prompt_number": 48
    },
    {
     "cell_type": "markdown",
     "metadata": {},
     "source": [
      "Exact integration:\n",
      "$$\n",
      "\\int_{-\\infty}^{\\infty} x^2 \\frac{1}{2}e^{-|x|} dx = \\int_{0}^{\\infty} x^2 \\frac{1}{2}e^{-x} dx + \\int_{-\\infty}^{0} x^2 \\frac{1}{2}e^{x} dx = 2 \\int_{0}^{\\infty} x^2 \\frac{1}{2}e^{-x} dx = \\int_{0}^{\\infty} x^2 e^{-x} dx = \\Gamma(3) = 2 $$\n",
      "because  \n",
      "$$x^2 e^{-x} \\propto Ga(3,1)$$\n"
     ]
    }
   ],
   "metadata": {}
  }
 ]
}