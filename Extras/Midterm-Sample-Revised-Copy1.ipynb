{
 "metadata": {
  "name": "",
  "signature": "sha256:5d55196d36387854b3f800a47185a7980697adfa6d77f8787ad7f76afe2e9f8b"
 },
 "nbformat": 3,
 "nbformat_minor": 0,
 "worksheets": [
  {
   "cells": [
    {
     "cell_type": "markdown",
     "metadata": {},
     "source": [
      "Instructions\n",
      "----\n",
      "\n",
      "This is a \"closed book\" examination - in particular, you are not to use any resources outside of this notebook (except possibly pen and paper). You may consult help from within the notebook using ? but not any online references.\n",
      "\n",
      "You have 1 hour and 45 minutes to complete the exam. Note that the maximum score is 60 points.\n",
      "\n",
      "**Please make a copy of the notebook (File | Make a copy), and rename it to be `midterm-firstanme-lastname`. At the end of the exam, save to your Sakai Dropbox - any files with modification date beyond the end-of-exam time will not be graded.**"
     ]
    },
    {
     "cell_type": "code",
     "collapsed": false,
     "input": [
      "import os\n",
      "import sys\n",
      "import glob\n",
      "import matplotlib.pyplot as plt\n",
      "import numpy as np\n",
      "import pandas as pd\n",
      "%matplotlib inline\n",
      "plt.style.use('ggplot')"
     ],
     "language": "python",
     "metadata": {},
     "outputs": [],
     "prompt_number": 1
    },
    {
     "cell_type": "code",
     "collapsed": false,
     "input": [
      "np.set_printoptions(formatter={'float': '{: 0.3f}'.format})"
     ],
     "language": "python",
     "metadata": {},
     "outputs": [],
     "prompt_number": 2
    },
    {
     "cell_type": "code",
     "collapsed": false,
     "input": [
      "%load_ext rpy2.ipython"
     ],
     "language": "python",
     "metadata": {},
     "outputs": [],
     "prompt_number": 3
    },
    {
     "cell_type": "markdown",
     "metadata": {},
     "source": [
      "**Question 1 (10 points)**. \n",
      "\n",
      "Euclid's algorithm for finding the greatest common divisor of two numbers is\n",
      "\n",
      "```python\n",
      "gcd(a, 0) = a\n",
      "gcd(a, b) = gcd(b, a modulo b)\n",
      "```\n",
      "\n",
      "1. Write a function to find the greatest common divisor in Python (4 poinst)\n",
      "2. What is the greatest common divisor of 17384 and 1928? (1 point)\n",
      "3. Write a function to calculate the least common multiple (4 points)\n",
      "4. What is the least common multiple of 17384 and 1928? (1 point)"
     ]
    },
    {
     "cell_type": "code",
     "collapsed": false,
     "input": [
      "# Part 1\n",
      "def gcd(a, b):\n",
      "    if a >= b:\n",
      "        if b == 0:\n",
      "            return a\n",
      "        else:\n",
      "            return gcd(b, a % b)\n",
      "            \n",
      "    else:\n",
      "        return gcd(b, a)"
     ],
     "language": "python",
     "metadata": {},
     "outputs": [],
     "prompt_number": 5
    },
    {
     "cell_type": "code",
     "collapsed": false,
     "input": [
      "# Part 2\n",
      "gcd(17384,1928)"
     ],
     "language": "python",
     "metadata": {},
     "outputs": [
      {
       "metadata": {},
       "output_type": "pyout",
       "prompt_number": 9,
       "text": [
        "8"
       ]
      }
     ],
     "prompt_number": 9
    },
    {
     "cell_type": "code",
     "collapsed": false,
     "input": [
      "# Part 3\n",
      "def lcm(a, b):\n",
      "    return a * b / gcd(a,b)"
     ],
     "language": "python",
     "metadata": {},
     "outputs": [],
     "prompt_number": 11
    },
    {
     "cell_type": "code",
     "collapsed": false,
     "input": [
      "# Part 4\n",
      "lcm(17384,1928)"
     ],
     "language": "python",
     "metadata": {},
     "outputs": [
      {
       "metadata": {},
       "output_type": "pyout",
       "prompt_number": 16,
       "text": [
        "4189544"
       ]
      }
     ],
     "prompt_number": 16
    },
    {
     "cell_type": "markdown",
     "metadata": {},
     "source": [
      "**Question 2 (10 points)**. \n",
      "\n",
      "Consider the following matrix $A$ with dimensions (4,6), to be interpreted as 4 rows of the measurements of 6 features.\n",
      "```python\n",
      "np.array([[5, 5, 2, 6, 2, 0],\n",
      "          [8, 6, 7, 8, 9, 7],\n",
      "          [9, 5, 0, 4, 6, 8],\n",
      "          [8, 7, 9, 3, 6, 1]])\n",
      "```\n",
      "\n",
      "1. Add 1 to the first row, 2 to the second row, 3 to the third row and 4 to the fourth row using a vector `v = np.array([1,2,3,4])` and broadcasting. (2 points)\n",
      "2. Normalize A so that its row means are all 0 and call it A1. (2 points)\n",
      "3. What are the singular values of A1? (2 points)\n",
      "4. What are the eigenvalues of the covariance matrix of A1? (2 points)\n",
      "5. Find the least squares solution vector $x$ if $Ax = y$ where `y = np.array([1,2,3,4]).T` (2 points)"
     ]
    },
    {
     "cell_type": "code",
     "collapsed": false,
     "input": [
      "# Part 1\n",
      "A = np.array([[5, 5, 2, 6, 2, 0],\n",
      "              [8, 6, 7, 8, 9, 7],\n",
      "              [9, 5, 0, 4, 6, 8],\n",
      "              [8, 7, 9, 3, 6, 1]])\n",
      "v = np.array([1,2,3,4])\n",
      "# print v[None,:].shape # (1,4)\n",
      "# print v[:,None].shape # (4,1)\n",
      "print A + v[:,None]"
     ],
     "language": "python",
     "metadata": {},
     "outputs": [
      {
       "output_type": "stream",
       "stream": "stdout",
       "text": [
        "[[ 6  6  3  7  3  1]\n",
        " [10  8  9 10 11  9]\n",
        " [12  8  3  7  9 11]\n",
        " [12 11 13  7 10  5]]\n"
       ]
      }
     ],
     "prompt_number": 22
    },
    {
     "cell_type": "code",
     "collapsed": false,
     "input": [
      "# Part 2\n",
      "A1 = A - np.mean(A,axis=1)[:,None] # normalize with row means\n",
      "# A - np.mean(A,axis=0)[None,:] # normalize with column means\n",
      "print A1\n",
      "# np.mean(A1,axis=1)"
     ],
     "language": "python",
     "metadata": {},
     "outputs": [
      {
       "output_type": "stream",
       "stream": "stdout",
       "text": [
        "[[ 1.667  1.667 -1.333  2.667 -1.333 -3.333]\n",
        " [ 0.500 -1.500 -0.500  0.500  1.500 -0.500]\n",
        " [ 3.667 -0.333 -5.333 -1.333  0.667  2.667]\n",
        " [ 2.333  1.333  3.333 -2.667  0.333 -4.667]]\n"
       ]
      }
     ],
     "prompt_number": 31
    },
    {
     "cell_type": "code",
     "collapsed": false,
     "input": [
      "# Part 3: the singular values of A1\n",
      "U, s, V = np.linalg.svd(A1)\n",
      "print s"
     ],
     "language": "python",
     "metadata": {},
     "outputs": [
      {
       "output_type": "stream",
       "stream": "stdout",
       "text": [
        "[ 8.317  5.975  4.635  2.268]\n"
       ]
      }
     ],
     "prompt_number": 34
    },
    {
     "cell_type": "code",
     "collapsed": false,
     "input": [
      "# Part 4\n",
      "np.linalg.eigvals(np.cov(A))"
     ],
     "language": "python",
     "metadata": {},
     "outputs": [
      {
       "metadata": {},
       "output_type": "pyout",
       "prompt_number": 39,
       "text": [
        "array([ 13.833,  7.141,  4.297,  1.029])"
       ]
      }
     ],
     "prompt_number": 39
    },
    {
     "cell_type": "code",
     "collapsed": false,
     "input": [
      "# Part 5: Solve Ax = y\n",
      "y = np.array([1,2,3,4]).T\n",
      "np.linalg.lstsq(A1,y)"
     ],
     "language": "python",
     "metadata": {},
     "outputs": [
      {
       "metadata": {},
       "output_type": "pyout",
       "prompt_number": 41,
       "text": [
        "(array([ 0.721, -0.366, -0.159, -0.274,  0.593, -0.516]),\n",
        " array([], dtype=float64),\n",
        " 4,\n",
        " array([ 8.317,  5.975,  4.635,  2.268]))"
       ]
      }
     ],
     "prompt_number": 41
    },
    {
     "cell_type": "markdown",
     "metadata": {},
     "source": [
      "**Question 3 (10 points)**.\n",
      "\n",
      "1. Prove that $e^{x^2 + y^2}$ is a convex function. (5 points)\n",
      "2. Using `scipy.optimize`, find the values of $x$ and $y$ that minimize $e^{x^2 + y^2}$ in the unconstrained case and in the presence of the constraint that $x + y = 3$. Use (1,1) as a starting guess (5 points)"
     ]
    },
    {
     "cell_type": "code",
     "collapsed": false,
     "input": [
      "# Part 1\n",
      "from sympy import *\n",
      "x,y = symbols('x,y')\n",
      "f = symbols('f', cls=Function)\n",
      "f = exp(x**2 + y**2)\n",
      "f_H = hessian(f, (x,y))\n",
      "print \"To prove f = exp(x**2+y**2) is convex, we need the Hessian to be positive definite.\"\n",
      "print \"Hessian:\\n\",f_H\n",
      "print \"Eigenvalues a1 and a2:\\n\",f_H.eigenvals()\n",
      "print \"Determinant = a1*a2 (positive):\\n\",f_H.det()\n",
      "print \"Trace = a1+a2 (positive):\\n\",f_H.trace()\n",
      "print \"Therefore all eigenvalues positive => Hessian is positive definite\""
     ],
     "language": "python",
     "metadata": {},
     "outputs": [
      {
       "output_type": "stream",
       "stream": "stdout",
       "text": [
        "To prove f = exp(x**2+y**2) is convex, we need the Hessian to be positive definite.\n",
        "Hessian:\n",
        "Matrix([[4*x**2*exp(x**2 + y**2) + 2*exp(x**2 + y**2), 4*x*y*exp(x**2 + y**2)], [4*x*y*exp(x**2 + y**2), 4*y**2*exp(x**2 + y**2) + 2*exp(x**2 + y**2)]])\n",
        "Eigenvalues a1 and a2:\n",
        "{2*sqrt((x**4 + 2*x**2*y**2 + y**4)*exp(2*x**2 + 2*y**2)) + 2*(x**2 + y**2 + 1)*exp(x**2 + y**2): 1, -2*sqrt((x**4 + 2*x**2*y**2 + y**4)*exp(2*x**2 + 2*y**2)) + 2*(x**2 + y**2 + 1)*exp(x**2 + y**2): 1}"
       ]
      },
      {
       "output_type": "stream",
       "stream": "stdout",
       "text": [
        "\n",
        "Determinant = a1*a2 (positive):\n",
        "8*x**2*exp(2*x**2)*exp(2*y**2) + 8*y**2*exp(2*x**2)*exp(2*y**2) + 4*exp(2*x**2)*exp(2*y**2)\n",
        "Trace = a1+a2 (positive):\n",
        "4*x**2*exp(x**2 + y**2) + 4*y**2*exp(x**2 + y**2) + 4*exp(x**2 + y**2)\n",
        "Therefore all eigenvalues positive => Hessian is positive definite\n"
       ]
      }
     ],
     "prompt_number": 4
    },
    {
     "cell_type": "code",
     "collapsed": false,
     "input": [
      "# Part 2\n",
      "import scipy.optimize as opt\n",
      "\n",
      "def f1(x):\n",
      "    return np.exp(x[0]**2+x[1]**2)\n",
      "\n",
      "con1 = ({'type':'eq','fun': lambda x: x[0] + x[1] - 3})\n",
      "\n",
      "print opt.minimize(f1, (1,1), bounds=((0, None), (0, None)), constraints=con1)"
     ],
     "language": "python",
     "metadata": {},
     "outputs": [
      {
       "output_type": "stream",
       "stream": "stdout",
       "text": [
        "  status: 0\n",
        " success: True\n",
        "    njev: 7\n",
        "    nfev: 34\n",
        "     fun: 90.017131300521896\n",
        "       x: array([ 1.500,  1.500])\n",
        " message: 'Optimization terminated successfully.'\n",
        "     jac: array([ 270.051,  270.051,  0.000])\n",
        "     nit: 7\n"
       ]
      }
     ],
     "prompt_number": 6
    },
    {
     "cell_type": "markdown",
     "metadata": {},
     "source": [
      "**Question 4 (10 points)**.\n",
      "\n",
      "A milkmaid is at point A and needs to get to point B. However, she also needs to fill a pail of water from the river en route from A to B. The equation of the river's path is shown in the figure below. What is the minimum distance she has to travel to do this?\n",
      "\n",
      "1. Solve using `scipy.optimize` and constrained minimization.\n",
      "2. Solve without using `scipy.optimize`. Hint: Use Lagrange \n",
      "\n",
      "![Milkmaid problem](milkmaid.png)"
     ]
    },
    {
     "cell_type": "code",
     "collapsed": false,
     "input": [
      "# Part 1\n",
      "import scipy.optimize as opt\n",
      "A = np.array([2,8])\n",
      "B = np.array([8,4])\n",
      "\n",
      "def dist(x):\n",
      "    return (np.linalg.norm(x-A)+np.linalg.norm(x-B))\n",
      "    \n",
      "bound1 = ((0,None),(0,None))\n",
      "con1 = ({'type': 'eq', 'fun': lambda x: x[0]*x[1] + x[1] - 10})\n",
      "\n",
      "print \"Restricted, [x y]:\",opt.minimize(dist,(4,8), bounds=bound1, constraints=con1)['x']\n",
      "opt.minimize(dist,(4,8), bounds=bound1, constraints=con1)"
     ],
     "language": "python",
     "metadata": {},
     "outputs": [
      {
       "output_type": "stream",
       "stream": "stdout",
       "text": [
        "Restricted, [x y]: [ 0.532  6.526]\n"
       ]
      },
      {
       "metadata": {},
       "output_type": "pyout",
       "prompt_number": 7,
       "text": [
        "  status: 0\n",
        " success: True\n",
        "    njev: 9\n",
        "    nfev: 37\n",
        "     fun: 9.9633983015155305\n",
        "       x: array([ 0.532,  6.526])\n",
        " message: 'Optimization terminated successfully.'\n",
        "     jac: array([-1.653, -0.388,  0.000])\n",
        "     nit: 9"
       ]
      }
     ],
     "prompt_number": 7
    },
    {
     "cell_type": "code",
     "collapsed": false,
     "input": [
      "# Part 2"
     ],
     "language": "python",
     "metadata": {},
     "outputs": [],
     "prompt_number": 3
    },
    {
     "cell_type": "markdown",
     "metadata": {},
     "source": [
      "**Question 5 (10 points)**. \n",
      "\n",
      "Find the minimum of the following quadratic function on $\\mathbb{R}^4$ \n",
      "\n",
      "$$f(x) = x^TAx +b^Tx +c$$\n",
      "where\n",
      "$$A = \\left(\\begin{matrix}13&5&0&0\\\\5&7&0&0\\\\0&0&20&-7\\\\0&0&-7&12\\end{matrix}\\right), b = \\left(\\begin{matrix}1\\\\1\\\\1\\\\1\\end{matrix}\\right) \\textrm {and } c = 2$$\n",
      "\n",
      "and $x$ is a column vector.\n",
      "\n",
      "a. Using scipy.optimize (4 points)\n",
      "\n",
      "b. Using a matrix decomposition method (library functions - no need to code your own).  Note: for full credit you should exploit matrix structure. (4 points)\n",
      "\n",
      "c. Find the minimum under the constraint $||x||^2 = 1$ (i.e. on the unit sphere in $\\mathbb{R}^4$). (2 points)\n",
      "\n",
      "**Note: Do not be overly concerned if your values for $x$ at the minimum do not match exactly **\n"
     ]
    },
    {
     "cell_type": "code",
     "collapsed": false,
     "input": [],
     "language": "python",
     "metadata": {},
     "outputs": [],
     "prompt_number": 3
    },
    {
     "cell_type": "code",
     "collapsed": false,
     "input": [],
     "language": "python",
     "metadata": {},
     "outputs": [],
     "prompt_number": 3
    },
    {
     "cell_type": "code",
     "collapsed": false,
     "input": [],
     "language": "python",
     "metadata": {},
     "outputs": [],
     "prompt_number": 3
    },
    {
     "cell_type": "markdown",
     "metadata": {},
     "source": [
      "**Question 6 (10 points)**.\n",
      "\n",
      "Given the set of vectors\n",
      "\n",
      "```\n",
      "v1 = np.array([1,2,3])\n",
      "v2 = np.array([2,4,7])\n",
      "v3 = np.array([1,0,1])\n",
      "```\n",
      "\n",
      "1. Calculate the pairwise Euclidean distance matrix using nested for loops. (2 points)\n",
      "2. Calculate the pairwise Euclidean distance matrix using numpy broadcasting. (3 points)\n",
      "3. Find an orthogonal basis for the space spanned by these vectors without using any functions from `numpy.linag` or `scipy.linalg` (5 points)"
     ]
    },
    {
     "cell_type": "code",
     "collapsed": false,
     "input": [
      "# Part 1\n",
      "v1 = np.array([1,2,3])\n",
      "v2 = np.array([2,4,7])\n",
      "v3 = np.array([1,0,1])\n",
      "\n",
      "vmat = np.array([v1,v2,v3])\n",
      "\n",
      "dist1 = np.zeros((3,3))\n",
      "for i in range(3):\n",
      "    for j in range(3):\n",
      "        dist1[i,j] = np.linalg.norm(vmat[i,:]-vmat[j,:])\n",
      "dist1\n"
     ],
     "language": "python",
     "metadata": {},
     "outputs": [
      {
       "metadata": {},
       "output_type": "pyout",
       "prompt_number": 8,
       "text": [
        "array([[ 0.000,  4.583,  2.828],\n",
        "       [ 4.583,  0.000,  7.280],\n",
        "       [ 2.828,  7.280,  0.000]])"
       ]
      }
     ],
     "prompt_number": 8
    },
    {
     "cell_type": "code",
     "collapsed": false,
     "input": [
      "# Part 2\n",
      "np.linalg.norm(vmat[:,None] - vmat[None,:],axis=-1)"
     ],
     "language": "python",
     "metadata": {},
     "outputs": [
      {
       "metadata": {},
       "output_type": "pyout",
       "prompt_number": 9,
       "text": [
        "array([[ 0.000,  4.583,  2.828],\n",
        "       [ 4.583,  0.000,  7.280],\n",
        "       [ 2.828,  7.280,  0.000]])"
       ]
      }
     ],
     "prompt_number": 9
    },
    {
     "cell_type": "code",
     "collapsed": false,
     "input": [
      "# Part 3\n",
      "def proj(v,u):\n",
      "    \"\"\"Projection of v onto u\"\"\"\n",
      "    return (np.dot(v,u)/np.float(np.dot(u,u)))*u\n",
      "\n",
      "u1 = v1\n",
      "u2 = v2 - proj(v2,u1)\n",
      "u3 = v3 - proj(v3,u1) - proj(v3,u2)\n",
      "\n",
      "print u1\n",
      "print u2\n",
      "print u3"
     ],
     "language": "python",
     "metadata": {},
     "outputs": [
      {
       "output_type": "stream",
       "stream": "stdout",
       "text": [
        "[1 2 3]\n",
        "[-0.214 -0.429  0.357]\n",
        "[ 0.800 -0.400  0.000]\n"
       ]
      }
     ],
     "prompt_number": 10
    }
   ],
   "metadata": {}
  }
 ]
}