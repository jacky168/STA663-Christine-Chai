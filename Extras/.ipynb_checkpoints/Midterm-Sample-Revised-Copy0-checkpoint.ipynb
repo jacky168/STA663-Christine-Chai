{
 "metadata": {
  "name": "",
  "signature": "sha256:17a94f3cb9af0e784f1cff57c749a4df6ab7ac10398e76c769953bcb1e5c3c2b"
 },
 "nbformat": 3,
 "nbformat_minor": 0,
 "worksheets": [
  {
   "cells": [
    {
     "cell_type": "markdown",
     "metadata": {},
     "source": [
      "Instructions\n",
      "----\n",
      "\n",
      "This is a \"closed book\" examination - in particular, you are not to use any resources outside of this notebook (except possibly pen and paper). You may consult help from within the notebook using ? but not any online references. You should turn wireless off or set your laptop in \"Airplane\" mode prior to taking the exam. \n",
      "\n",
      "You have 1 hour and 45 minutes to complete the exam. Note that the maximum score is 60 points.\n",
      "\n",
      "**Please make a copy of the notebook (File | Make a copy), and rename it to be `midterm-firstanme-lastname`. At the end of the exam, save to your Sakai Dropbox - any files with modification date beyond the end-of-exam time will not be graded.**"
     ]
    },
    {
     "cell_type": "code",
     "collapsed": false,
     "input": [
      "import os\n",
      "import sys\n",
      "import glob\n",
      "import matplotlib.pyplot as plt\n",
      "import numpy as np\n",
      "import pandas as pd\n",
      "%matplotlib inline\n",
      "plt.style.use('ggplot')"
     ],
     "language": "python",
     "metadata": {},
     "outputs": [],
     "prompt_number": 1
    },
    {
     "cell_type": "code",
     "collapsed": false,
     "input": [
      "np.set_printoptions(formatter={'float': '{: 0.3f}'.format})"
     ],
     "language": "python",
     "metadata": {},
     "outputs": [],
     "prompt_number": 2
    },
    {
     "cell_type": "code",
     "collapsed": false,
     "input": [
      "%load_ext rpy2.ipython"
     ],
     "language": "python",
     "metadata": {},
     "outputs": [],
     "prompt_number": 3
    },
    {
     "cell_type": "markdown",
     "metadata": {},
     "source": [
      "**Question 1 (10 points)**. \n",
      "\n",
      "Euclid's algorithm for finding the greatest common divisor of two numbers is\n",
      "\n",
      "```python\n",
      "gcd(a, 0) = a\n",
      "gcd(a, b) = gcd(b, a modulo b)\n",
      "```\n",
      "\n",
      "1. Write a function to find the greatest common divisor in Python (4 points)\n",
      "2. What is the greatest common divisor of 17384 and 1928? (1 point)\n",
      "3. Write a function to calculate the least common multiple (4 points)\n",
      "4. What is the least common multiple of 17384 and 1928? (1 point)"
     ]
    },
    {
     "cell_type": "code",
     "collapsed": false,
     "input": [
      "# Part 1\n",
      "def gcd(a, b):\n",
      "    if (a >= b):\n",
      "        if (b == 0):\n",
      "            return a\n",
      "        else:\n",
      "            return gcd(b, a % b)\n",
      "    else:\n",
      "        return gcd(b, a)\n",
      "        "
     ],
     "language": "python",
     "metadata": {},
     "outputs": [],
     "prompt_number": 24
    },
    {
     "cell_type": "code",
     "collapsed": false,
     "input": [
      "# Part 2\n",
      "gcd(17384,1928)"
     ],
     "language": "python",
     "metadata": {},
     "outputs": [
      {
       "metadata": {},
       "output_type": "pyout",
       "prompt_number": 29,
       "text": [
        "8"
       ]
      }
     ],
     "prompt_number": 29
    },
    {
     "cell_type": "code",
     "collapsed": false,
     "input": [
      "# Part 3\n",
      "# a * b = gcd(a,b) * lcm(a,b)\n",
      "def lcm(a, b):\n",
      "    return (a * b / gcd(a, b))"
     ],
     "language": "python",
     "metadata": {},
     "outputs": [],
     "prompt_number": 30
    },
    {
     "cell_type": "code",
     "collapsed": false,
     "input": [
      "# Part 4\n",
      "lcm(17384,1928)"
     ],
     "language": "python",
     "metadata": {},
     "outputs": [
      {
       "metadata": {},
       "output_type": "pyout",
       "prompt_number": 31,
       "text": [
        "4189544"
       ]
      }
     ],
     "prompt_number": 31
    },
    {
     "cell_type": "markdown",
     "metadata": {},
     "source": [
      "**Question 2 (10 points)**. \n",
      "\n",
      "Consider the following matrix $A$ with dimensions (4,6), to be interpreted as 4 rows of the measurements of 6 features.\n",
      "```python\n",
      "np.array([[5, 5, 2, 6, 2, 0],\n",
      "          [8, 6, 7, 8, 9, 7],\n",
      "          [9, 5, 0, 4, 6, 8],\n",
      "          [8, 7, 9, 3, 6, 1]])\n",
      "```\n",
      "\n",
      "1. Add 1 to the first row, 2 to the second row, 3 to the third row and 4 to the fourth row using a vector `v = np.array([1,2,3,4])` and broadcasting. (2 points)\n",
      "2. Normalize A so that its row means are all 0 and call it A1. (2 points)\n",
      "3. What are the singular values of A1? (2 points)\n",
      "4. What are the eigenvalues of the covariance matrix of A1? (2 points)\n",
      "5. Find the least squares solution vector $x$ if $Ax = y$ where `y = np.array([1,2,3,4]).T` (2 points)"
     ]
    },
    {
     "cell_type": "code",
     "collapsed": false,
     "input": [
      "# Part 1\n",
      "A = np.array([[5, 5, 2, 6, 2, 0],\n",
      "              [8, 6, 7, 8, 9, 7],\n",
      "              [9, 5, 0, 4, 6, 8],\n",
      "              [8, 7, 9, 3, 6, 1]])\n",
      "\n",
      "v = np.array([1,2,3,4])\n",
      "print np.add(A,v[:,None]) # A + v won't work, but A + v[:,None] works"
     ],
     "language": "python",
     "metadata": {},
     "outputs": [
      {
       "output_type": "stream",
       "stream": "stdout",
       "text": [
        "[[ 6  6  3  7  3  1]\n",
        " [10  8  9 10 11  9]\n",
        " [12  8  3  7  9 11]\n",
        " [12 11 13  7 10  5]]\n"
       ]
      }
     ],
     "prompt_number": 5
    },
    {
     "cell_type": "code",
     "collapsed": false,
     "input": [
      "# Part 2\n",
      "# Make row means all zero <=> centralize\n",
      "A1 = np.subtract(A,np.mean(A,axis=1)[:,None])\n",
      "print A1\n",
      "# np.mean(A1,axis=1)"
     ],
     "language": "python",
     "metadata": {},
     "outputs": [
      {
       "output_type": "stream",
       "stream": "stdout",
       "text": [
        "[[ 1.667  1.667 -1.333  2.667 -1.333 -3.333]\n",
        " [ 0.500 -1.500 -0.500  0.500  1.500 -0.500]\n",
        " [ 3.667 -0.333 -5.333 -1.333  0.667  2.667]\n",
        " [ 2.333  1.333  3.333 -2.667  0.333 -4.667]]\n"
       ]
      }
     ],
     "prompt_number": 6
    },
    {
     "cell_type": "code",
     "collapsed": false,
     "input": [
      "# Part 3\n",
      "U, s, V = np.linalg.svd(A1)\n",
      "print \"Singular values of A1:\",s"
     ],
     "language": "python",
     "metadata": {},
     "outputs": [
      {
       "output_type": "stream",
       "stream": "stdout",
       "text": [
        "Singular values of A1: [ 8.317  5.975  4.635  2.268]\n"
       ]
      }
     ],
     "prompt_number": 122
    },
    {
     "cell_type": "code",
     "collapsed": false,
     "input": [
      "# Part 4\n",
      "np.cov?\n",
      "covariance = np.cov(A1)\n",
      "print covariance\n",
      "print \"Eigenvalues of the covariance matrix of A1:\"\n",
      "np.linalg.eigvals(covariance)"
     ],
     "language": "python",
     "metadata": {},
     "outputs": [
      {
       "output_type": "stream",
       "stream": "stdout",
       "text": [
        "[[ 5.467  0.000 -0.133  1.933]\n",
        " [ 0.000  1.100  0.800 -0.200]\n",
        " [-0.133  0.800  10.267 -3.667]\n",
        " [ 1.933 -0.200 -3.667  9.467]]\n",
        "Eigenvalues of the covariance matrix of A1:\n"
       ]
      },
      {
       "metadata": {},
       "output_type": "pyout",
       "prompt_number": 8,
       "text": [
        "array([ 13.833,  7.141,  4.297,  1.029])"
       ]
      }
     ],
     "prompt_number": 8
    },
    {
     "cell_type": "code",
     "collapsed": false,
     "input": [
      "# Part 5\n",
      "# Solve Ax = y by least squares (np.linalg.lstsq)\n",
      "# A: 4*6, x: 6*1, y: 4*1\n",
      "y = np.array([1,2,3,4]).T\n",
      "np.linalg.lstsq(A1,y)[0]"
     ],
     "language": "python",
     "metadata": {},
     "outputs": [
      {
       "metadata": {},
       "output_type": "pyout",
       "prompt_number": 133,
       "text": [
        "array([ 0.721, -0.366, -0.159, -0.274,  0.593, -0.516])"
       ]
      }
     ],
     "prompt_number": 133
    },
    {
     "cell_type": "markdown",
     "metadata": {},
     "source": [
      "**Question 3 (10 points)**.\n",
      "\n",
      "1. Prove that $e^{x^2 + y^2}$ is a convex function. (5 points)\n",
      "2. Using `scipy.optimize`, find the values of $x$ and $y$ that minimize $e^{x^2 + y^2}$ in the unconstrained case and in the presence of the constraint that $x + y = 3$. Use (1,1) as a starting guess (5 points)"
     ]
    },
    {
     "cell_type": "code",
     "collapsed": false,
     "input": [
      "# Part 1\n",
      "from sympy import symbols, hessian, Function, N, exp\n",
      "x, y = symbols(['x', 'y'])\n",
      "f = symbols('f', cls = Function)\n",
      "f = exp(x**2+y**2)\n",
      "f_H = hessian(f,(x,y))\n",
      "\n",
      "print \"f is convex <=> hessian (2nd derivative matrix) is positive definite <=> hessian has all eigenvalues positive\"\n",
      "print \"Eigenvalues:\",f_H.eigenvals(),'\\n'\n",
      "print \"Determinant:\",f_H.det(),\"positive, product of eigenvalues\"\n",
      "print \"Trace:\",f_H.trace(),\"positive, sum of eigenvalues\""
     ],
     "language": "python",
     "metadata": {},
     "outputs": [
      {
       "output_type": "stream",
       "stream": "stdout",
       "text": [
        "f is convex <=> hessian (2nd derivative matrix) is positive definite <=> hessian has all eigenvalues positive\n",
        "Eigenvalues: "
       ]
      },
      {
       "output_type": "stream",
       "stream": "stdout",
       "text": [
        "{2*sqrt((x**4 + 2*x**2*y**2 + y**4)*exp(2*x**2 + 2*y**2)) + 2*(x**2 + y**2 + 1)*exp(x**2 + y**2): 1, -2*sqrt((x**4 + 2*x**2*y**2 + y**4)*exp(2*x**2 + 2*y**2)) + 2*(x**2 + y**2 + 1)*exp(x**2 + y**2): 1} \n",
        "\n",
        "Determinant: 8*x**2*exp(2*x**2)*exp(2*y**2) + 8*y**2*exp(2*x**2)*exp(2*y**2) + 4*exp(2*x**2)*exp(2*y**2) positive, product of eigenvalues\n",
        "Trace: 4*x**2*exp(x**2 + y**2) + 4*y**2*exp(x**2 + y**2) + 4*exp(x**2 + y**2) positive, sum of eigenvalues\n"
       ]
      }
     ],
     "prompt_number": 12
    },
    {
     "cell_type": "code",
     "collapsed": false,
     "input": [
      "# Part 2\n",
      "import scipy.optimize as opt\n",
      "# opt.minimize can only pass x = (x[0],x[1]) one object, not two!\n",
      "def f1(x):\n",
      "    return exp(x[0]**2+x[1]**2)\n",
      "\n",
      "print \"Unrestricted, [x y]:\",opt.minimize(f1,(1,1))['x']\n",
      "print opt.minimize(f1,(1,1)),'\\n'\n",
      "\n",
      "con1 = ({'type': 'eq', 'fun': lambda x: x[0] + x[1] - 3})\n",
      "# c.f 'ineq': always \"larger than 0\"\n",
      "print \"Restricted, [x y]:\",opt.minimize(f1,(1,1), constraints = con1)['x']\n",
      "print opt.minimize(f1,(1,1), constraints = con1)\n",
      "\n",
      "# opt.minimize_scalar(f1,bounds=(-1, 1), method='bounded')"
     ],
     "language": "python",
     "metadata": {},
     "outputs": [
      {
       "output_type": "stream",
       "stream": "stdout",
       "text": [
        "Unrestricted, [x y]: [-0.000 -0.000]\n",
        "   status: 0\n",
        "  success: True\n",
        "     njev: 10\n",
        "     nfev: 40\n",
        " hess_inv: array([[ 0.750, -0.250],\n",
        "       [-0.250,  0.750]])\n",
        "      fun: 1.000000000000002\n",
        "        x: array([-0.000, -0.000])\n",
        "  message: 'Optimization terminated successfully.'\n",
        "      jac: array([-0.000, -0.000]) \n",
        "\n",
        "Restricted, [x y]: [ 1.500  1.500]\n",
        "  status: 0\n",
        " success: True\n",
        "    njev: 7\n",
        "    nfev: 34\n",
        "     fun: 90.0171313005219\n",
        "       x: array([ 1.500,  1.500])\n",
        " message: 'Optimization terminated successfully.'\n",
        "     jac: array([ 270.051,  270.051,  0.000])\n",
        "     nit: 7\n"
       ]
      }
     ],
     "prompt_number": 146
    },
    {
     "cell_type": "markdown",
     "metadata": {},
     "source": [
      "**Question 4 (10 points)**.\n",
      "\n",
      "A milkmaid is at point A and needs to get to point B. However, she also needs to fill a pail of water from the river en route from A to B. The equation of the river's path is shown in the figure below. What is the minimum distance she has to travel to do this?\n",
      "\n",
      "1. Solve using `scipy.optimize` and constrained minimization.\n",
      "2. Solve without using `scipy.optimize`. Hint: Use Lagrange \n",
      "\n",
      "![Milkmaid problem](milkmaid.png)"
     ]
    },
    {
     "cell_type": "code",
     "collapsed": false,
     "input": [
      "# Part 1\n",
      "import scipy.optimize as opt\n",
      "A = np.array([2,8])\n",
      "B = np.array([8,4])\n",
      "\n",
      "def dist(x):\n",
      "    return (np.linalg.norm(x-A)+np.linalg.norm(x-B))\n",
      "    \n",
      "bound1 = ((0,None),(0,None))\n",
      "con1 = ({'type': 'eq', 'fun': lambda x: x[0]*x[1] + x[1] - 10})\n",
      "\n",
      "print \"Restricted, [x y]:\",opt.minimize(dist,(4,8), bounds=bound1, constraints=con1)['x']\n",
      "opt.minimize(dist,(4,8), bounds=bound1, constraints=con1)\n",
      "\n"
     ],
     "language": "python",
     "metadata": {},
     "outputs": [
      {
       "output_type": "stream",
       "stream": "stdout",
       "text": [
        "Restricted, [x y]: [ 0.532  6.526]\n"
       ]
      },
      {
       "metadata": {},
       "output_type": "pyout",
       "prompt_number": 4,
       "text": [
        "  status: 0\n",
        " success: True\n",
        "    njev: 9\n",
        "    nfev: 37\n",
        "     fun: 9.9633983015155305\n",
        "       x: array([ 0.532,  6.526])\n",
        " message: 'Optimization terminated successfully.'\n",
        "     jac: array([-1.653, -0.388,  0.000])\n",
        "     nit: 9"
       ]
      }
     ],
     "prompt_number": 4
    },
    {
     "cell_type": "code",
     "collapsed": false,
     "input": [
      "# Part 2\n",
      "# Currently no idea!\n",
      "from sympy import *\n",
      "# from sympy import symbols, hessian, Function, N, exp, diff, nsolve\n",
      "x, y, c = symbols('x, y, c')\n",
      "f, g = symbols('f, g', cls = Function)\n",
      "f = ((x-2)**2+(y-8)**2)**0.5 + ((x-8)**2+(y-4)**2)**0.5\n",
      "g = y - 10.0/(1+x)\n",
      "# print diff(f, 'x')\n",
      "# print diff(f, 'y')\n",
      "# print diff(g, 'x')\n",
      "# print diff(g, 'y')\n",
      "\n",
      "# gradient f = lambda gradient g\n",
      "eq1 = diff(f, 'x') - c*diff(g,'x')\n",
      "eq2 = diff(f, 'y') - c*diff(g,'y')\n",
      "eq3 = g\n",
      "\n",
      "init = solve([eq1,eq2])\n",
      "print init\n",
      "# print solve([eq1,eq2,eq3]), this gives an empty list[]"
     ],
     "language": "python",
     "metadata": {},
     "outputs": [
      {
       "output_type": "stream",
       "stream": "stdout",
       "text": [
        "[{c: ((y - 8.0)*sqrt((-1.5*y + 6.0)**2 + (y - 4.0)**2) + (y - 4.0)*sqrt((-1.5*y + 12.0)**2 + (y - 8.0)**2))/(sqrt((-1.5*y + 6.0)**2 + (y - 4.0)**2)*sqrt((-1.5*y + 12.0)**2 + (y - 8.0)**2)), x: -1.5*y + 14.0}]\n"
       ]
      }
     ],
     "prompt_number": 44
    },
    {
     "cell_type": "code",
     "collapsed": false,
     "input": [
      "eq4 = x + 1.5*y - 14.0\n",
      "eq5 = g\n",
      "print solve([eq4,eq5])\n",
      "print \"Select the one with x,y between 0 and 10:\",solve([eq4,eq5])[0]\n",
      "print dist([0.532,6.526])\n",
      "print dist([0.077,9.28])"
     ],
     "language": "python",
     "metadata": {},
     "outputs": [
      {
       "output_type": "stream",
       "stream": "stdout",
       "text": [
        "[{x: 0.0773837106674355, y: 9.28174419288838}, {x: 12.9226162893326, y: 0.718255807111624}]\n",
        "Select the one with x,y between 0 and 10: {x: 0.0773837106674355, y: 9.28174419288838}\n",
        "9.96394742495\n",
        "11.8312012301\n",
        "19.0395298748\n"
       ]
      }
     ],
     "prompt_number": 41
    },
    {
     "cell_type": "markdown",
     "metadata": {},
     "source": [
      "**Question 5 (10 points)**. \n",
      "\n",
      "Find the minimum of the following quadratic function on $\\mathbb{R}^4$ \n",
      "\n",
      "$$f(x) = x^TAx +b^Tx +c$$\n",
      "where\n",
      "$$A = \\left(\\begin{matrix}13&5&0&0\\\\5&7&0&0\\\\0&0&20&-7\\\\0&0&-7&12\\end{matrix}\\right), b = \\left(\\begin{matrix}1\\\\1\\\\1\\\\1\\end{matrix}\\right) \\textrm {and } c = 2$$\n",
      "\n",
      "and $x$ is a column vector.\n",
      "\n",
      "a. Using scipy.optimize (4 points)\n",
      "\n",
      "b. Using a matrix decomposition method (library functions - no need to code your own).  Note: for full credit you should exploit matrix structure. (4 points)\n",
      "\n",
      "c. Find the minimum under the constraint $||x||^2 = 1$ (i.e. on the unit sphere in $\\mathbb{R}^4$). (2 points)\n",
      "\n",
      "**Note: Do not be overly concerned if your values for $x$ at the minimum do not match exactly **\n"
     ]
    },
    {
     "cell_type": "code",
     "collapsed": false,
     "input": [
      "# Part 1\n",
      "import scipy.optimize as opt\n",
      "A = np.array([[13,5,0,0],[5,7,0,0],[0,0,20,-7],[0,0,-7,12]])\n",
      "b = np.array([[1,1,1,1]]).T\n",
      "c = 2\n",
      "\n",
      "def f(x):\n",
      "    return (np.dot(x.T,np.dot(A,x)) + np.dot(b.T,x) + c)\n",
      "\n",
      "start = np.array([[1,2,-3,4]]).T\n",
      "opt.minimize(f,start)"
     ],
     "language": "python",
     "metadata": {},
     "outputs": [
      {
       "metadata": {},
       "output_type": "pyout",
       "prompt_number": 20,
       "text": [
        "   status: 0\n",
        "  success: True\n",
        "     njev: 9\n",
        "     nfev: 54\n",
        " hess_inv: array([[ 0.226, -0.387,  0.061,  0.108],\n",
        "       [-0.387,  0.801, -0.123, -0.217],\n",
        "       [ 0.061, -0.123,  0.053,  0.056],\n",
        "       [ 0.108, -0.217,  0.056,  0.119]])\n",
        "      fun: 1.901911788037547\n",
        "        x: array([-0.015, -0.061, -0.050, -0.071])\n",
        "  message: 'Optimization terminated successfully.'\n",
        "      jac: array([-0.000, -0.000, -0.000, -0.000])"
       ]
      }
     ],
     "prompt_number": 20
    },
    {
     "cell_type": "code",
     "collapsed": false,
     "input": [
      "# Part 2\n",
      "# Conjugate gradient?!"
     ],
     "language": "python",
     "metadata": {},
     "outputs": [],
     "prompt_number": 3
    },
    {
     "cell_type": "code",
     "collapsed": false,
     "input": [
      "# Part 3\n",
      "start1 = np.array([[1,0,0,0]]).T\n",
      "start2 = np.array([[1,2,-3,4]]).T\n",
      "con1 = ({'type': 'eq', 'fun': lambda x: np.linalg.norm(x) - 1})\n",
      "print opt.minimize(f,start1,constraints=con1)\n",
      "print opt.minimize(f,start2,constraints=con1)"
     ],
     "language": "python",
     "metadata": {},
     "outputs": [
      {
       "output_type": "stream",
       "stream": "stdout",
       "text": [
        "  status: 0\n",
        " success: True\n",
        "    njev: 10\n",
        "    nfev: 67\n",
        "     fun: array([ 5.633])\n",
        "       x: array([ 0.434, -0.884, -0.094, -0.145])\n",
        " message: 'Optimization terminated successfully.'\n",
        "     jac: array([ 3.456, -7.031, -0.751, -1.151,  0.000])\n",
        "     nit: 10\n",
        "  status: 0\n",
        " success: True\n",
        "    njev: 15\n",
        "    nfev: 98\n",
        "     fun: array([ 6.374])\n",
        "       x: array([-0.534,  0.823, -0.104, -0.161])\n",
        " message: 'Optimization terminated successfully.'\n",
        "     jac: array([-4.662,  7.182, -0.906, -1.402,  0.000])\n",
        "     nit: 15\n"
       ]
      }
     ],
     "prompt_number": 23
    },
    {
     "cell_type": "markdown",
     "metadata": {},
     "source": [
      "**Question 6 (10 points)**.\n",
      "\n",
      "Given the set of vectors\n",
      "\n",
      "```\n",
      "v1 = np.array([1,2,3])\n",
      "v2 = np.array([2,4,7])\n",
      "v3 = np.array([1,0,1])\n",
      "```\n",
      "\n",
      "1. Calculate the pairwise Euclidean distance matrix using nested for loops. (2 points)\n",
      "2. Calculate the pairwise Euclidean distance matrix using numpy broadcasting. (3 points)\n",
      "3. Find an orthogonal basis for the space spanned by these vectors without using any functions from `numpy.linalg` or `scipy.linalg` (5 points)"
     ]
    },
    {
     "cell_type": "code",
     "collapsed": false,
     "input": [
      "# Part 1\n",
      "v1 = np.array([1,2,3])\n",
      "v2 = np.array([2,4,7])\n",
      "v3 = np.array([1,0,1])\n",
      "\n",
      "vmat = np.array([v1,v2,v3])\n",
      "\n",
      "dist1 = np.zeros((3,3))\n",
      "for i in range(3):\n",
      "    for j in range(3):\n",
      "        dist1[i,j] = np.linalg.norm(vmat[i,:]-vmat[j,:])\n",
      "dist1\n"
     ],
     "language": "python",
     "metadata": {},
     "outputs": [
      {
       "metadata": {},
       "output_type": "pyout",
       "prompt_number": 176,
       "text": [
        "array([[ 0.000,  4.583,  2.828],\n",
        "       [ 4.583,  0.000,  7.280],\n",
        "       [ 2.828,  7.280,  0.000]])"
       ]
      }
     ],
     "prompt_number": 176
    },
    {
     "cell_type": "code",
     "collapsed": false,
     "input": [
      "# Part 2\n",
      "print np.linalg.norm(vmat[:,None]-vmat[None,:],axis=-1)\n",
      "\n",
      "# print np.linalg.norm(vmat[None,:,:]-vmat[:,None,:],axis=-1)"
     ],
     "language": "python",
     "metadata": {},
     "outputs": [
      {
       "output_type": "stream",
       "stream": "stdout",
       "text": [
        "[[ 0.000  4.583  2.828]\n",
        " [ 4.583  0.000  7.280]\n",
        " [ 2.828  7.280  0.000]]\n"
       ]
      }
     ],
     "prompt_number": 195
    },
    {
     "cell_type": "code",
     "collapsed": false,
     "input": [
      "# Part 3\n",
      "def proj(v,u):\n",
      "    \"\"\"Projection of v onto u\"\"\"\n",
      "    return (np.dot(v,u)/np.float(np.dot(u,u)))*u\n",
      "\n",
      "u1 = v1\n",
      "u2 = v2 - proj(v2,u1)\n",
      "u3 = v3 - proj(v3,u1) - proj(v3,u2)\n",
      "\n",
      "print u1\n",
      "print u2\n",
      "print u3"
     ],
     "language": "python",
     "metadata": {},
     "outputs": [
      {
       "output_type": "stream",
       "stream": "stdout",
       "text": [
        "[1 2 3]\n",
        "[-0.214 -0.429  0.357]\n",
        "[ 0.800 -0.400  0.000]\n"
       ]
      }
     ],
     "prompt_number": 206
    },
    {
     "cell_type": "code",
     "collapsed": false,
     "input": [
      "np.ones((2,3,4)).sum(axis=-1)\n",
      "#np.ones(2,3,4).sum(axis=-1) \n",
      "#np.ones((2,3,4)).shape"
     ],
     "language": "python",
     "metadata": {},
     "outputs": [
      {
       "metadata": {},
       "output_type": "pyout",
       "prompt_number": 9,
       "text": [
        "array([[ 4.000,  4.000,  4.000],\n",
        "       [ 4.000,  4.000,  4.000]])"
       ]
      }
     ],
     "prompt_number": 9
    }
   ],
   "metadata": {}
  }
 ]
}