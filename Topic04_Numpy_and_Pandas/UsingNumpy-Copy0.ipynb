{
 "metadata": {
  "name": "",
  "signature": "sha256:70e47ff817e09a6953b29fd38ce5ee005d79c6085d6e28f613148ed6ea969cc0"
 },
 "nbformat": 3,
 "nbformat_minor": 0,
 "worksheets": [
  {
   "cells": [
    {
     "cell_type": "code",
     "collapsed": false,
     "input": [
      "import os\n",
      "import sys\n",
      "import glob\n",
      "import matplotlib.pyplot as plt\n",
      "import numpy as np\n",
      "import pandas as pd\n",
      "%matplotlib inline\n",
      "%precision 4\n",
      "plt.style.use('ggplot')"
     ],
     "language": "python",
     "metadata": {},
     "outputs": [],
     "prompt_number": 2
    },
    {
     "cell_type": "code",
     "collapsed": false,
     "input": [
      "%install_ext http://raw.github.com/jrjohansson/version_information/master/version_information.py"
     ],
     "language": "python",
     "metadata": {},
     "outputs": [
      {
       "output_type": "stream",
       "stream": "stdout",
       "text": [
        "Installed version_information.py. To use it, type:\n",
        "  %load_ext version_information\n"
       ]
      }
     ],
     "prompt_number": 3
    },
    {
     "cell_type": "markdown",
     "metadata": {},
     "source": [
      "References\n",
      "----\n",
      "\n",
      "- [Basics of numpy](http://scipy-lectures.github.io/intro/numpy/index.html)\n",
      "- [Advanced numpy](http://scipy-lectures.github.io/advanced/advanced_numpy/)\n",
      "- [Some numpy exercises](http://scipy-lectures.github.io/intro/numpy/exercises.html)\n",
      "- [Numpy reference](http://docs.scipy.org/doc/numpy/reference/)\n",
      "- [Numpy for Matlab users](http://wiki.scipy.org/NumPy_for_Matlab_Users)\n",
      "- [Numpy for R users](http://mathesaurus.sourceforge.net/r-numpy.html)\n",
      "- [Tutorials on Pandas](http://pandas.pydata.org/pandas-docs/stable/tutorials.html)\n",
      "- [Blaze documentation](http://blaze.pydata.org/docs/dev/index.html)"
     ]
    },
    {
     "cell_type": "markdown",
     "metadata": {},
     "source": [
      "Why is `numpy` important?\n",
      "----\n",
      "\n",
      "1. Speed - `numpy` calculations are based on C\n",
      "2. Convenient for working with arrays - extended indexing and sliciing, broadcasting, ufuncs\n",
      "2. Numpy provides very useful libraries - e.g. `random`, `linalg`\n",
      "3. Foundation for essentialy all Python numerical libraries - e.g. pandas, scipy, pymc"
     ]
    },
    {
     "cell_type": "code",
     "collapsed": false,
     "input": [
      "x = np.arange(1000000)\n",
      "print x.dtype\n",
      "\n",
      "def my_sum(x):\n",
      "    s = 0\n",
      "    for _ in x:\n",
      "        s += _\n",
      "    return s\n",
      "\n",
      "%timeit -n3 my_sum(x) # explicit for loops are slow\n",
      "%timeit -n3 sum(x) # built-in sum() cannot assume all values in x have same data type\n",
      "%timeit -n3 np.sum(x) # numpy sum() knows that the dataytpe of x is np.int64"
     ],
     "language": "python",
     "metadata": {},
     "outputs": [
      {
       "output_type": "stream",
       "stream": "stdout",
       "text": [
        "int64\n",
        "3 loops, best of 3: 172 ms per loop"
       ]
      },
      {
       "output_type": "stream",
       "stream": "stdout",
       "text": [
        "\n",
        "3 loops, best of 3: 105 ms per loop"
       ]
      },
      {
       "output_type": "stream",
       "stream": "stdout",
       "text": [
        "\n",
        "3 loops, best of 3: 626 \u00b5s per loop\n"
       ]
      }
     ],
     "prompt_number": 3
    },
    {
     "cell_type": "markdown",
     "metadata": {},
     "source": [
      "Example using `numpy`\n",
      "----\n",
      "\n",
      "From <http://scipy-lectures.github.io/intro/numpy/exercises.html#data-statistics>\n",
      "\n",
      "The data in [populations.txt](http://scipy-lectures.github.io/_downloads/populations.txt) describes the populations of hares and lynxes (and carrots) in northern Canada during 20 years:\n",
      "\n",
      "Computes and print, based on the data in populations.txt...\n",
      "\n",
      "- The mean and std of the populations of each species for the years in the period.\n",
      "- Which year each species had the largest population.\n",
      "- Which species has the largest population for each year. (Hint: argsort & fancy indexing of np.array(['H', 'L', 'C']))\n",
      "- Which years any of the populations is above 50000. (Hint: comparisons and np.any)\n",
      "- The top 2 years for each species when they had the lowest populations. (Hint: argsort, fancy indexing)\n",
      "- Compare (plot) the change in hare population (see help(np.gradient)) and the number of lynxes - Check correlation (see help(np.corrcoef)).\n",
      "\n",
      "... all without for-loops."
     ]
    },
    {
     "cell_type": "code",
     "collapsed": false,
     "input": [
      "# download the data locally\n",
      "if not os.path.exists('populations.txt'):\n",
      "    ! wget http://scipy-lectures.github.io/_downloads/populations.txt"
     ],
     "language": "python",
     "metadata": {},
     "outputs": [],
     "prompt_number": 4
    },
    {
     "cell_type": "code",
     "collapsed": false,
     "input": [
      "# peek at the file to see its structure \n",
      "! head -n 6 populations.txt"
     ],
     "language": "python",
     "metadata": {},
     "outputs": [
      {
       "output_type": "stream",
       "stream": "stdout",
       "text": [
        "# year\thare\tlynx\tcarrot\r\n",
        "1900\t30e3\t4e3\t48300\r\n",
        "1901\t47.2e3\t6.1e3\t48200\r\n",
        "1902\t70.2e3\t9.8e3\t41500\r\n",
        "1903\t77.4e3\t35.2e3\t38200\r\n",
        "1904\t36.3e3\t59.4e3\t40600\r\n"
       ]
      }
     ],
     "prompt_number": 5
    },
    {
     "cell_type": "code",
     "collapsed": false,
     "input": [
      "# load data into a numpy array (text I/O convenience functions)\n",
      "data = np.loadtxt('populations.txt').astype('int')\n",
      "data[:5, :]"
     ],
     "language": "python",
     "metadata": {},
     "outputs": [
      {
       "metadata": {},
       "output_type": "pyout",
       "prompt_number": 6,
       "text": [
        "array([[ 1900, 30000,  4000, 48300],\n",
        "       [ 1901, 47200,  6100, 48200],\n",
        "       [ 1902, 70200,  9800, 41500],\n",
        "       [ 1903, 77400, 35200, 38200],\n",
        "       [ 1904, 36300, 59400, 40600]])"
       ]
      }
     ],
     "prompt_number": 6
    },
    {
     "cell_type": "code",
     "collapsed": false,
     "input": [
      "# provide convenient named variables (indexing and slicing)\n",
      "populations = data[:, 1:]\n",
      "year, hare, lynx, carrot = data.T"
     ],
     "language": "python",
     "metadata": {},
     "outputs": [],
     "prompt_number": 7
    },
    {
     "cell_type": "code",
     "collapsed": false,
     "input": [
      "# The mean and std of the populations of each species for the years in the period (use of axis argument)\n",
      "print \"Mean (hare, lynx, carrot):\", populations.mean(axis=0)\n",
      "print \"Std (hare, lynx, carrot):\", populations.std(axis=0)"
     ],
     "language": "python",
     "metadata": {},
     "outputs": [
      {
       "output_type": "stream",
       "stream": "stdout",
       "text": [
        "Mean (hare, lynx, carrot): [ 34080.9524  20166.6667  42400.    ]\n",
        "Std (hare, lynx, carrot): [ 20897.9065  16254.5915   3322.5062]\n"
       ]
      }
     ],
     "prompt_number": 8
    },
    {
     "cell_type": "code",
     "collapsed": false,
     "input": [
      "# Which year each species had the largest population. (argmax and axis)\n",
      "print \"Year with largest population (hare, lynx, carrot)\", \n",
      "print year[np.argmax(populations, axis=0)]"
     ],
     "language": "python",
     "metadata": {},
     "outputs": [
      {
       "output_type": "stream",
       "stream": "stdout",
       "text": [
        "Year with largest population (hare, lynx, carrot) [1903 1904 1900]\n"
       ]
      }
     ],
     "prompt_number": 70
    },
    {
     "cell_type": "code",
     "collapsed": false,
     "input": [
      "# Which species has the largest population for each year. (subsetting)\n",
      "species = ['hare', 'lynx', 'carrot']\n",
      "zip(year, np.take(species, np.argmax(populations, axis=1)))"
     ],
     "language": "python",
     "metadata": {},
     "outputs": [
      {
       "metadata": {},
       "output_type": "pyout",
       "prompt_number": 71,
       "text": [
        "[(1900, 'carrot'),\n",
        " (1901, 'carrot'),\n",
        " (1902, 'hare'),\n",
        " (1903, 'hare'),\n",
        " (1904, 'lynx'),\n",
        " (1905, 'lynx'),\n",
        " (1906, 'carrot'),\n",
        " (1907, 'carrot'),\n",
        " (1908, 'carrot'),\n",
        " (1909, 'carrot'),\n",
        " (1910, 'carrot'),\n",
        " (1911, 'carrot'),\n",
        " (1912, 'hare'),\n",
        " (1913, 'hare'),\n",
        " (1914, 'hare'),\n",
        " (1915, 'lynx'),\n",
        " (1916, 'carrot'),\n",
        " (1917, 'carrot'),\n",
        " (1918, 'carrot'),\n",
        " (1919, 'carrot'),\n",
        " (1920, 'carrot')]"
       ]
      }
     ],
     "prompt_number": 71
    },
    {
     "cell_type": "code",
     "collapsed": false,
     "input": [
      "# Which years any of the populations is above 50000 (logical indexing)\n",
      "print year[np.any(populations > 50000, axis=1)]"
     ],
     "language": "python",
     "metadata": {},
     "outputs": [
      {
       "output_type": "stream",
       "stream": "stdout",
       "text": [
        "[1902 1903 1904 1912 1913 1914 1915]\n"
       ]
      }
     ],
     "prompt_number": 72
    },
    {
     "cell_type": "code",
     "collapsed": false,
     "input": [
      "# The top 2 years for each species when they had the lowest populations. (sorting)\n",
      "print year[np.argsort(populations, axis=0)[:2]]"
     ],
     "language": "python",
     "metadata": {},
     "outputs": [
      {
       "output_type": "stream",
       "stream": "stdout",
       "text": [
        "[[1917 1900 1916]\n",
        " [1916 1901 1903]]\n"
       ]
      }
     ],
     "prompt_number": 73
    },
    {
     "cell_type": "code",
     "collapsed": false,
     "input": [
      "# works with plotting routines; numeritcal differencing to find gradient\n",
      "plt.plot(year, lynx, 'r-', year, np.gradient(hare), 'b--')\n",
      "plt.legend(['lynx', 'grad(hare)'], loc='best')\n",
      "print np.corrcoef(lynx, np.gradient(hare))"
     ],
     "language": "python",
     "metadata": {},
     "outputs": [
      {
       "output_type": "stream",
       "stream": "stdout",
       "text": [
        "[[ 1.     -0.9179]\n",
        " [-0.9179  1.    ]]\n"
       ]
      },
      {
       "metadata": {},
       "output_type": "display_data",
       "png": "[encoded data removed]",
       "text": [
        "<matplotlib.figure.Figure at 0x112f72d10>"
       ]
      }
     ],
     "prompt_number": 74
    },
    {
     "cell_type": "markdown",
     "metadata": {},
     "source": [
      "Numerical computing in Python \n",
      "===="
     ]
    },
    {
     "cell_type": "markdown",
     "metadata": {},
     "source": [
      "### Numpy data types"
     ]
    },
    {
     "cell_type": "markdown",
     "metadata": {},
     "source": [
      "| Data type\t| Description |\n",
      "|---|---|\n",
      "| bool\\_ | Boolean (True or False) stored as a byte |\n",
      "| int\\_ | Default integer type (same as C long; normally either int64 or int32) |\n",
      "| intc | Identical to C int (normally int32 or int64) |\n",
      "| intp | Integer used for indexing (same as C ssize_t; normally either int32 or int64) |\n",
      "| int8 | Byte (-128 to 127) |\n",
      "| int16 | Integer (-32768 to 32767) |\n",
      "| int32 | Integer (-2147483648 to 2147483647) |\n",
      "| int64 | Integer (-9223372036854775808 to 9223372036854775807) |\n",
      "| uint8 | Unsigned integer (0 to 255) |\n",
      "| uint16 | Unsigned integer (0 to 65535) |\n",
      "| uint32 | Unsigned integer (0 to 4294967295) |\n",
      "| uint64 | Unsigned integer (0 to 18446744073709551615) | \n",
      "| float\\_ | Shorthand for float64. |\n",
      "| float16 | Half precision float: sign bit, 5 bits exponent, 10 bits mantissa |\n",
      "| float32 | Single precision float: sign bit, 8 bits exponent, 23 bits mantissa |\n",
      "| float64 | Double precision float: sign bit, 11 bits exponent, 52 bits mantissa |\n",
      "| complex\\_ | Shorthand for complex128. |\n",
      "| complex64 | Complex number, represented by two 32-bit floats (real and imaginary components) |\n",
      "| complex128 | Complex number, represented by two 64-bit floats (real and imaginary components) |\n",
      "\n",
      "Numpy does not have a *bit* data type - the bool\\_ data type takes up 1 byte or 8 bits. If you need to work with very large bit arrays, you can use the [bitarray](https://pypi.python.org/pypi/bitarray/) package."
     ]
    },
    {
     "cell_type": "code",
     "collapsed": false,
     "input": [
      "np.sctypes"
     ],
     "language": "python",
     "metadata": {},
     "outputs": [
      {
       "metadata": {},
       "output_type": "pyout",
       "prompt_number": 75,
       "text": [
        "{'complex': [numpy.complex64, numpy.complex128, numpy.complex256],\n",
        " 'float': [numpy.float16, numpy.float32, numpy.float64, numpy.float128],\n",
        " 'int': [numpy.int8, numpy.int16, numpy.int32, numpy.int64],\n",
        " 'others': [bool, object, str, unicode, numpy.void],\n",
        " 'uint': [numpy.uint8, numpy.uint16, numpy.uint32, numpy.uint64]}"
       ]
      }
     ],
     "prompt_number": 75
    },
    {
     "cell_type": "markdown",
     "metadata": {},
     "source": [
      "### Using character codes\n",
      "\n",
      "There are also some possibly cryptic typecodes you can uase as a shorthand, but these are discouraged because, well, they are cryptic."
     ]
    },
    {
     "cell_type": "code",
     "collapsed": false,
     "input": [
      "np.typecodes"
     ],
     "language": "python",
     "metadata": {},
     "outputs": [
      {
       "metadata": {},
       "output_type": "pyout",
       "prompt_number": 76,
       "text": [
        "{'All': '?bhilqpBHILQPefdgFDGSUVOMm',\n",
        " 'AllFloat': 'efdgFDG',\n",
        " 'AllInteger': 'bBhHiIlLqQpP',\n",
        " 'Character': 'c',\n",
        " 'Complex': 'FDG',\n",
        " 'Datetime': 'Mm',\n",
        " 'Float': 'efdg',\n",
        " 'Integer': 'bhilqp',\n",
        " 'UnsignedInteger': 'BHILQP'}"
       ]
      }
     ],
     "prompt_number": 76
    },
    {
     "cell_type": "code",
     "collapsed": false,
     "input": [
      "# Example use of typecode to specify dtype\n",
      "x = np.zeros(1, dtype='f8')\n",
      "# f = float, 8 = 8 bytes\n",
      "print x.dtype\n",
      "print np.sctypeDict['f8']"
     ],
     "language": "python",
     "metadata": {},
     "outputs": [
      {
       "output_type": "stream",
       "stream": "stdout",
       "text": [
        "float64\n",
        "<type 'numpy.float64'>\n"
       ]
      }
     ],
     "prompt_number": 77
    },
    {
     "cell_type": "markdown",
     "metadata": {},
     "source": [
      "### NDArray\n",
      "\n",
      "The base structure in `numpy` is `ndarray`, used to represent vectors, matrices and higher-dimensional arrays. Each `ndarray` has the following attributes:\n",
      "\n",
      "- dtype = correspond to data types in C\n",
      "- shape = dimensionns of array\n",
      "- strides = number of bytes to step in each direction when traversing the array\n",
      "\n",
      "**Notes**\n",
      "\n",
      "1. That a 3-vector is most ofen specified with a shape (3,) rather than as an explicit column vector with shape (3,1) or row vector with shape (1,3). Most of the time, this will \"just work\", but if necessary, you can coerce to a desired shape with the `resahpe` method or function or by directly modifying the `shape` attribute.\n",
      "2. Numpy arrays are created in row-order - the first row is filled up first, then the second and so on. For R users, this is like setting `byrow=TRUE` in a call to `matrix()`.\n"
     ]
    },
    {
     "cell_type": "code",
     "collapsed": false,
     "input": [
      "np.array([1,2,3,4,5,6], order='F').reshape(2,3)\n",
      "# order: can leave it out by default"
     ],
     "language": "python",
     "metadata": {},
     "outputs": [
      {
       "metadata": {},
       "output_type": "pyout",
       "prompt_number": 78,
       "text": [
        "array([[1, 2, 3],\n",
        "       [4, 5, 6]])"
       ]
      }
     ],
     "prompt_number": 78
    },
    {
     "cell_type": "code",
     "collapsed": false,
     "input": [
      "x = np.array([1,2,3,4,5,6]) # create array from list\n",
      "print x\n",
      "print 'dytpe', x.dtype\n",
      "print 'shape', x.shape\n",
      "print 'strides', x.strides"
     ],
     "language": "python",
     "metadata": {},
     "outputs": [
      {
       "output_type": "stream",
       "stream": "stdout",
       "text": [
        "[1 2 3 4 5 6]\n",
        "dytpe int64\n",
        "shape (6,)\n",
        "strides (8,)\n"
       ]
      }
     ],
     "prompt_number": 79
    },
    {
     "cell_type": "code",
     "collapsed": false,
     "input": [
      "x.shape = (2,3)\n",
      "print x\n",
      "print 'dytpe', x.dtype\n",
      "print 'shape', x.shape\n",
      "print 'strides', x.strides"
     ],
     "language": "python",
     "metadata": {},
     "outputs": [
      {
       "output_type": "stream",
       "stream": "stdout",
       "text": [
        "[[1 2 3]\n",
        " [4 5 6]]\n",
        "dytpe int64\n",
        "shape (2, 3)\n",
        "strides (24, 8)\n"
       ]
      }
     ],
     "prompt_number": 80
    },
    {
     "cell_type": "code",
     "collapsed": false,
     "input": [
      "x = x.astype('complex')\n",
      "print x\n",
      "print 'dytpe', x.dtype\n",
      "print 'shape', x.shape\n",
      "print 'strides', x.strides"
     ],
     "language": "python",
     "metadata": {},
     "outputs": [
      {
       "output_type": "stream",
       "stream": "stdout",
       "text": [
        "[[ 1.+0.j  2.+0.j  3.+0.j]\n",
        " [ 4.+0.j  5.+0.j  6.+0.j]]\n",
        "dytpe complex128\n",
        "shape (2, 3)\n",
        "strides (48, 16)\n"
       ]
      }
     ],
     "prompt_number": 81
    },
    {
     "cell_type": "markdown",
     "metadata": {},
     "source": [
      "### Creating arrays"
     ]
    },
    {
     "cell_type": "code",
     "collapsed": false,
     "input": [
      "# from lists\n",
      "x_list = [(i,j) for i in range(2) for j in range(3)]\n",
      "print x_list, '\\n'\n",
      "x_array = np.array(x_list)\n",
      "print x_array"
     ],
     "language": "python",
     "metadata": {},
     "outputs": [
      {
       "output_type": "stream",
       "stream": "stdout",
       "text": [
        "[(0, 0), (0, 1), (0, 2), (1, 0), (1, 1), (1, 2)] \n",
        "\n",
        "[[0 0]\n",
        " [0 1]\n",
        " [0 2]\n",
        " [1 0]\n",
        " [1 1]\n",
        " [1 2]]\n"
       ]
      }
     ],
     "prompt_number": 82
    },
    {
     "cell_type": "code",
     "collapsed": false,
     "input": [
      "# Using convenience functions\n",
      "\n",
      "print np.ones((3,2)), '\\n'\n",
      "print np.zeros((3,2)), '\\n'\n",
      "print np.eye(3), '\\n' # identity matrix\n",
      "print np.diag([1,2,3]), '\\n'\n",
      "print np.fromfunction(lambda i, j: (i-2)**2+(j-2)**2, (5,5))"
     ],
     "language": "python",
     "metadata": {},
     "outputs": [
      {
       "output_type": "stream",
       "stream": "stdout",
       "text": [
        "[[ 1.  1.]\n",
        " [ 1.  1.]\n",
        " [ 1.  1.]] \n",
        "\n",
        "[[ 0.  0.]\n",
        " [ 0.  0.]\n",
        " [ 0.  0.]] \n",
        "\n",
        "[[ 1.  0.  0.]\n",
        " [ 0.  1.  0.]\n",
        " [ 0.  0.  1.]] \n",
        "\n",
        "[[1 0 0]\n",
        " [0 2 0]\n",
        " [0 0 3]] \n",
        "\n",
        "[[ 8.  5.  4.  5.  8.]\n",
        " [ 5.  2.  1.  2.  5.]\n",
        " [ 4.  1.  0.  1.  4.]\n",
        " [ 5.  2.  1.  2.  5.]\n",
        " [ 8.  5.  4.  5.  8.]]\n"
       ]
      }
     ],
     "prompt_number": 9
    },
    {
     "cell_type": "markdown",
     "metadata": {},
     "source": [
      "### Array indexing"
     ]
    },
    {
     "cell_type": "code",
     "collapsed": false,
     "input": [
      "# Create a 10 by 6 array from normal deviates and convert to ints\n",
      "n, nrows, ncols = 100, 10, 6\n",
      "xs = np.random.normal(n, 15, size=(nrows, ncols)).astype('int')\n",
      "xs"
     ],
     "language": "python",
     "metadata": {},
     "outputs": [
      {
       "metadata": {},
       "output_type": "pyout",
       "prompt_number": 11,
       "text": [
        "array([[109,  97,  90, 106,  93, 106],\n",
        "       [103,  66,  88, 121,  70, 109],\n",
        "       [ 87, 104,  81, 117, 113,  88],\n",
        "       [105, 109,  85,  86, 120,  96],\n",
        "       [116,  91,  61,  96, 113, 107],\n",
        "       [ 78,  99, 119, 117,  94,  87],\n",
        "       [ 81,  80, 105,  78, 107,  69],\n",
        "       [ 67, 125, 104,  95, 100,  97],\n",
        "       [ 90, 116,  78, 141, 108,  83],\n",
        "       [ 94, 104,  83, 107, 100,  81]])"
       ]
      }
     ],
     "prompt_number": 11
    },
    {
     "cell_type": "code",
     "collapsed": false,
     "input": [
      "# Use slice notation\n",
      "print(xs[0,0])\n",
      "print(xs[-1,-1]) # minus sign: count from the last row/column (backwards)\n",
      "print(xs[3,:])\n",
      "print(xs[:,0])\n",
      "print(xs[::2,::2])\n",
      "print(xs[2:5,2:5])"
     ],
     "language": "python",
     "metadata": {},
     "outputs": [
      {
       "output_type": "stream",
       "stream": "stdout",
       "text": [
        "109\n",
        "81\n",
        "[105 109  85  86 120  96]\n",
        "[109 103  87 105 116  78  81  67  90  94]\n",
        "[[109  90  93]\n",
        " [ 87  81 113]\n",
        " [116  61 113]\n",
        " [ 81 105 107]\n",
        " [ 90  78 108]]\n",
        "[[ 81 117 113]\n",
        " [ 85  86 120]\n",
        " [ 61  96 113]]\n"
       ]
      }
     ],
     "prompt_number": 12
    },
    {
     "cell_type": "code",
     "collapsed": false,
     "input": [
      "#  Indexing with list of integers\n",
      "print(xs[0, [1,2,4,5]])"
     ],
     "language": "python",
     "metadata": {},
     "outputs": [
      {
       "output_type": "stream",
       "stream": "stdout",
       "text": [
        "[ 82  94 111  84]\n"
       ]
      }
     ],
     "prompt_number": 86
    },
    {
     "cell_type": "code",
     "collapsed": false,
     "input": [
      "# Boolean indexing\n",
      "print(xs[xs % 2 == 0])\n",
      "xs[xs % 2 == 0] = 0 # set even entries to zero\n",
      "print(xs)"
     ],
     "language": "python",
     "metadata": {},
     "outputs": [
      {
       "output_type": "stream",
       "stream": "stdout",
       "text": [
        "[ 90 106 106  66  88  70 104  88  86 120  96 116  96  78  94  80  78 104\n",
        " 100  90 116  78 108  94 104 100]\n",
        "[[109  97   0   0  93   0]\n",
        " [103   0   0 121   0 109]\n",
        " [ 87   0  81 117 113   0]\n",
        " [105 109  85   0   0   0]\n",
        " [  0  91  61   0 113 107]\n",
        " [  0  99 119 117   0  87]\n",
        " [ 81   0 105   0 107  69]\n",
        " [ 67 125   0  95   0  97]\n",
        " [  0   0   0 141   0  83]\n",
        " [  0   0  83 107   0  81]]\n"
       ]
      }
     ],
     "prompt_number": 13
    },
    {
     "cell_type": "code",
     "collapsed": false,
     "input": [
      "# Extracting lower triangular, diagonal and upper triangular matrices\n",
      "\n",
      "a = np.arange(16).reshape(4,4)\n",
      "print a, '\\n'\n",
      "print np.tril(a, -1), '\\n'\n",
      "print np.diag(np.diag(a)), '\\n'\n",
      "print np.triu(a, 1)"
     ],
     "language": "python",
     "metadata": {},
     "outputs": [
      {
       "output_type": "stream",
       "stream": "stdout",
       "text": [
        "[[ 0  1  2  3]\n",
        " [ 4  5  6  7]\n",
        " [ 8  9 10 11]\n",
        " [12 13 14 15]] \n",
        "\n",
        "[[ 0  0  0  0]\n",
        " [ 4  0  0  0]\n",
        " [ 8  9  0  0]\n",
        " [12 13 14  0]] \n",
        "\n",
        "[[ 0  0  0  0]\n",
        " [ 0  5  0  0]\n",
        " [ 0  0 10  0]\n",
        " [ 0  0  0 15]] \n",
        "\n",
        "[[ 0  1  2  3]\n",
        " [ 0  0  6  7]\n",
        " [ 0  0  0 11]\n",
        " [ 0  0  0  0]]\n"
       ]
      }
     ],
     "prompt_number": 88
    },
    {
     "cell_type": "markdown",
     "metadata": {},
     "source": [
      "### Broadcasting, row, column and matrix operations"
     ]
    },
    {
     "cell_type": "code",
     "collapsed": false,
     "input": [
      "# operations across rows, cols or entire matrix - xs has shape (10,6)\n",
      "print(xs.max())\n",
      "print(xs.max(axis=0)) # max of each col\n",
      "print(xs.max(axis=1)) # max of each row"
     ],
     "language": "python",
     "metadata": {},
     "outputs": [
      {
       "output_type": "stream",
       "stream": "stdout",
       "text": [
        "127\n",
        "[107 115 123 117 127 113]\n",
        "[111 107  99 115 109  93 117 117 127 123]\n"
       ]
      }
     ],
     "prompt_number": 89
    },
    {
     "cell_type": "code",
     "collapsed": false,
     "input": [
      "# A functional rather than object-oriented approacha also wokrs\n",
      "print(np.max(xs, axis=0))\n",
      "print(np.max(xs, axis=1))"
     ],
     "language": "python",
     "metadata": {},
     "outputs": [
      {
       "output_type": "stream",
       "stream": "stdout",
       "text": [
        "[107 115 123 117 127 113]\n",
        "[111 107  99 115 109  93 117 117 127 123]\n"
       ]
      }
     ],
     "prompt_number": 90
    },
    {
     "cell_type": "markdown",
     "metadata": {},
     "source": [
      "#### Broadcasting\n",
      "\n"
     ]
    },
    {
     "cell_type": "code",
     "collapsed": false,
     "input": [
      "from IPython.display import Image"
     ],
     "language": "python",
     "metadata": {},
     "outputs": [],
     "prompt_number": 91
    },
    {
     "cell_type": "code",
     "collapsed": false,
     "input": [
      "Image(url=\"https://scipy-lectures.github.io/_images/numpy_broadcasting.png\")"
     ],
     "language": "python",
     "metadata": {},
     "outputs": [
      {
       "html": [
        "<img src=\"https://scipy-lectures.github.io/_images/numpy_broadcasting.png\"/>"
       ],
       "metadata": {},
       "output_type": "pyout",
       "prompt_number": 92,
       "text": [
        "<IPython.core.display.Image at 0x114039290>"
       ]
      }
     ],
     "prompt_number": 92
    },
    {
     "cell_type": "code",
     "collapsed": false,
     "input": [
      "x1 = np.repeat([0,10,20,30], 3).reshape((4,3))\n",
      "print x1\n",
      "y1 = np.tile([0,1,2], 4).reshape((4,3))\n",
      "print y1\n",
      "y2 = y1[[0], :]\n",
      "print y2\n",
      "x2 = x1[:, [0]]\n",
      "print x2"
     ],
     "language": "python",
     "metadata": {},
     "outputs": [
      {
       "output_type": "stream",
       "stream": "stdout",
       "text": [
        "[[ 0  0  0]\n",
        " [10 10 10]\n",
        " [20 20 20]\n",
        " [30 30 30]]\n",
        "[[0 1 2]\n",
        " [0 1 2]\n",
        " [0 1 2]\n",
        " [0 1 2]]\n",
        "[[0 1 2]]\n",
        "[[ 0]\n",
        " [10]\n",
        " [20]\n",
        " [30]]\n"
       ]
      }
     ],
     "prompt_number": 93
    },
    {
     "cell_type": "code",
     "collapsed": false,
     "input": [
      "print x1 + y1\n",
      "print\n",
      "print x1 + y2\n",
      "print\n",
      "print x2 + y2"
     ],
     "language": "python",
     "metadata": {},
     "outputs": [
      {
       "output_type": "stream",
       "stream": "stdout",
       "text": [
        "[[ 0  1  2]\n",
        " [10 11 12]\n",
        " [20 21 22]\n",
        " [30 31 32]]\n",
        "\n",
        "[[ 0  1  2]\n",
        " [10 11 12]\n",
        " [20 21 22]\n",
        " [30 31 32]]\n",
        "\n",
        "[[ 0  1  2]\n",
        " [10 11 12]\n",
        " [20 21 22]\n",
        " [30 31 32]]\n"
       ]
      }
     ],
     "prompt_number": 94
    },
    {
     "cell_type": "markdown",
     "metadata": {},
     "source": [
      "### Adding a new axis to meet broadcasting rules"
     ]
    },
    {
     "cell_type": "code",
     "collapsed": false,
     "input": [
      "xs = np.arange(12).reshape(2,6)\n",
      "print(xs, '\\n')\n",
      "print(xs * 10, '\\n')\n",
      "\n",
      "# broadcasting just works when doing column-wise operations\n",
      "# xs is (2, 6)\n",
      "# col_meeans is (6,) -> this works because the 6s line up\n",
      "col_means = xs.mean(axis=0)\n",
      "print(col_means, '\\n')\n",
      "print(xs + col_means, '\\n')\n",
      "\n",
      "# but needs a little more work for row-wise operations\n",
      "# xs is (2, 6)\n",
      "# row means is (2,) -> we want (2,1) for broadcasting\n",
      "row_means = xs.mean(axis=1)[:, np.newaxis]\n",
      "# fake it to be broadcasting\n",
      "print(row_means)\n",
      "print(xs + row_means)"
     ],
     "language": "python",
     "metadata": {},
     "outputs": [
      {
       "output_type": "stream",
       "stream": "stdout",
       "text": [
        "(array([[ 0,  1,  2,  3,  4,  5],\n",
        "       [ 6,  7,  8,  9, 10, 11]]), '\\n')\n",
        "(array([[  0,  10,  20,  30,  40,  50],\n",
        "       [ 60,  70,  80,  90, 100, 110]]), '\\n')\n",
        "(array([ 3.,  4.,  5.,  6.,  7.,  8.]), '\\n')\n",
        "(array([[  3.,   5.,   7.,   9.,  11.,  13.],\n",
        "       [  9.,  11.,  13.,  15.,  17.,  19.]]), '\\n')\n",
        "[[ 2.5]\n",
        " [ 8.5]]\n",
        "[[  2.5   3.5   4.5   5.5   6.5   7.5]\n",
        " [ 14.5  15.5  16.5  17.5  18.5  19.5]]\n"
       ]
      }
     ],
     "prompt_number": 14
    },
    {
     "cell_type": "code",
     "collapsed": false,
     "input": [
      "# convert matrix to have zero mean and unit standard deviation using col summary statistics\n",
      "mu = xs.mean(axis=0)\n",
      "sd = xs.std(axis=0)\n",
      "print (xs - mu)/sd"
     ],
     "language": "python",
     "metadata": {},
     "outputs": [
      {
       "output_type": "stream",
       "stream": "stdout",
       "text": [
        "[[-1. -1. -1. -1. -1. -1.]\n",
        " [ 1.  1.  1.  1.  1.  1.]]\n"
       ]
      }
     ],
     "prompt_number": 151
    },
    {
     "cell_type": "code",
     "collapsed": false,
     "input": [
      "# convert matrix to have zero mean and unit standard deviation using row summary statistics\n",
      "mu = xs.mean(axis=1)[:, np.newaxis]\n",
      "sd = xs.mean(axis=1)[:, np.newaxis]\n",
      "print (xs - mu)/sd"
     ],
     "language": "python",
     "metadata": {},
     "outputs": [
      {
       "output_type": "stream",
       "stream": "stdout",
       "text": [
        "[[-1.     -0.6    -0.2     0.2     0.6     1.    ]\n",
        " [-0.2941 -0.1765 -0.0588  0.0588  0.1765  0.2941]]\n"
       ]
      }
     ],
     "prompt_number": 152
    },
    {
     "cell_type": "code",
     "collapsed": false,
     "input": [
      "# broadcasting for outer product\n",
      "# e.g. create the 12x12 multiplication toable\n",
      "u = np.arange(1, 13)\n",
      "u[:,None] * u[None,:]"
     ],
     "language": "python",
     "metadata": {},
     "outputs": [
      {
       "metadata": {},
       "output_type": "pyout",
       "prompt_number": 15,
       "text": [
        "array([[  1,   2,   3,   4,   5,   6,   7,   8,   9,  10,  11,  12],\n",
        "       [  2,   4,   6,   8,  10,  12,  14,  16,  18,  20,  22,  24],\n",
        "       [  3,   6,   9,  12,  15,  18,  21,  24,  27,  30,  33,  36],\n",
        "       [  4,   8,  12,  16,  20,  24,  28,  32,  36,  40,  44,  48],\n",
        "       [  5,  10,  15,  20,  25,  30,  35,  40,  45,  50,  55,  60],\n",
        "       [  6,  12,  18,  24,  30,  36,  42,  48,  54,  60,  66,  72],\n",
        "       [  7,  14,  21,  28,  35,  42,  49,  56,  63,  70,  77,  84],\n",
        "       [  8,  16,  24,  32,  40,  48,  56,  64,  72,  80,  88,  96],\n",
        "       [  9,  18,  27,  36,  45,  54,  63,  72,  81,  90,  99, 108],\n",
        "       [ 10,  20,  30,  40,  50,  60,  70,  80,  90, 100, 110, 120],\n",
        "       [ 11,  22,  33,  44,  55,  66,  77,  88,  99, 110, 121, 132],\n",
        "       [ 12,  24,  36,  48,  60,  72,  84,  96, 108, 120, 132, 144]])"
       ]
      }
     ],
     "prompt_number": 15
    },
    {
     "cell_type": "markdown",
     "metadata": {},
     "source": [
      "#### Example: Calculating pairwise distance matrix using broadcasting and vectorization\n",
      "\n",
      "Calculate the pairwise distance matrix between the following points\n",
      "\n",
      "- (0,0)\n",
      "- (4,0)\n",
      "- (4,3)\n",
      "- (0,3)"
     ]
    },
    {
     "cell_type": "code",
     "collapsed": false,
     "input": [
      "def distance_matrix_py(pts):\n",
      "    \"\"\"Returns matrix of pairwise Euclidean distances. Pure Python version.\"\"\"\n",
      "    n = len(pts)\n",
      "    p = len(pts[0])\n",
      "    m = np.zeros((n, n))\n",
      "    for i in range(n):\n",
      "        for j in range(n):\n",
      "            s = 0\n",
      "            for k in range(p):\n",
      "                s += (pts[i,k] - pts[j,k])**2\n",
      "            m[i, j] = s**0.5\n",
      "    return m"
     ],
     "language": "python",
     "metadata": {},
     "outputs": [],
     "prompt_number": 21
    },
    {
     "cell_type": "code",
     "collapsed": false,
     "input": [
      "def distance_matrix_np(pts):\n",
      "    \"\"\"Returns matrix of pairwise Euclidean distances. Vectorized numpy version.\"\"\"\n",
      "    return np.sum((pts[None,:] - pts[:, None])**2, -1)**0.5"
     ],
     "language": "python",
     "metadata": {},
     "outputs": [],
     "prompt_number": 19
    },
    {
     "cell_type": "code",
     "collapsed": false,
     "input": [
      "pts = np.array([(0,0), (4,0), (4,3), (0,3)])"
     ],
     "language": "python",
     "metadata": {},
     "outputs": [],
     "prompt_number": 17
    },
    {
     "cell_type": "code",
     "collapsed": false,
     "input": [
      "distance_matrix_py(pts)"
     ],
     "language": "python",
     "metadata": {},
     "outputs": [
      {
       "metadata": {},
       "output_type": "pyout",
       "prompt_number": 22,
       "text": [
        "array([[ 0.,  4.,  5.,  3.],\n",
        "       [ 4.,  0.,  3.,  5.],\n",
        "       [ 5.,  3.,  0.,  4.],\n",
        "       [ 3.,  5.,  4.,  0.]])"
       ]
      }
     ],
     "prompt_number": 22
    },
    {
     "cell_type": "code",
     "collapsed": false,
     "input": [
      "distance_matrix_np(pts)"
     ],
     "language": "python",
     "metadata": {},
     "outputs": [
      {
       "metadata": {},
       "output_type": "pyout",
       "prompt_number": 23,
       "text": [
        "array([[ 0.,  4.,  5.,  3.],\n",
        "       [ 4.,  0.,  3.,  5.],\n",
        "       [ 5.,  3.,  0.,  4.],\n",
        "       [ 3.,  5.,  4.,  0.]])"
       ]
      }
     ],
     "prompt_number": 23
    },
    {
     "cell_type": "code",
     "collapsed": false,
     "input": [
      "# Broaccasting and vectorization is faster than looping\n",
      "%timeit distance_matrix_py(pts)\n",
      "%timeit distance_matrix_np(pts)"
     ],
     "language": "python",
     "metadata": {},
     "outputs": [
      {
       "output_type": "stream",
       "stream": "stdout",
       "text": [
        "1000 loops, best of 3: 197 \u00b5s per loop\n",
        "10000 loops, best of 3: 30.7 \u00b5s per loop"
       ]
      },
      {
       "output_type": "stream",
       "stream": "stdout",
       "text": [
        "\n"
       ]
      }
     ],
     "prompt_number": 104
    },
    {
     "cell_type": "markdown",
     "metadata": {},
     "source": [
      "### Universal functions (Ufuncs)\n",
      "\n",
      "Functions that work on both scalars and arrays are known as ufuncs. For arrays, ufuncs apply the function in an element-wise fashion. Use of ufuncs is an esssential aspect of vectorization and typically much more computtionally efficient than using an explicit loop over each element."
     ]
    },
    {
     "cell_type": "code",
     "collapsed": false,
     "input": [
      "xs = np.linspace(0, 2*np.pi, 100)\n",
      "ys = np.sin(xs) # np.sin is a universal function\n",
      "plt.plot(xs, ys);"
     ],
     "language": "python",
     "metadata": {},
     "outputs": [
      {
       "metadata": {},
       "output_type": "display_data",
       "png": "[encoded data removed]",
       "text": [
        "<matplotlib.figure.Figure at 0x7f5c91e816d0>"
       ]
      }
     ],
     "prompt_number": 24
    },
    {
     "cell_type": "code",
     "collapsed": false,
     "input": [
      "# operators also perform elementwise operations by default\n",
      "\n",
      "xs = np.arange(10)\n",
      "print xs\n",
      "print -xs\n",
      "print xs+xs\n",
      "print xs*xs\n",
      "print xs**3\n",
      "print xs < 5"
     ],
     "language": "python",
     "metadata": {},
     "outputs": [
      {
       "output_type": "stream",
       "stream": "stdout",
       "text": [
        "[0 1 2 3 4 5 6 7 8 9]\n",
        "[ 0 -1 -2 -3 -4 -5 -6 -7 -8 -9]\n",
        "[ 0  2  4  6  8 10 12 14 16 18]\n",
        "[ 0  1  4  9 16 25 36 49 64 81]\n",
        "[  0   1   8  27  64 125 216 343 512 729]\n",
        "[ True  True  True  True  True False False False False False]\n"
       ]
      }
     ],
     "prompt_number": 106
    },
    {
     "cell_type": "markdown",
     "metadata": {},
     "source": [
      "### Generalized ufucns\n",
      "\n",
      "A universal function performs vectorized looping over scalars. A generalized ufucn performs looping over vectors or arrays. Currently, numpy only ships with a single generalized ufunc. However, they play an important role for JIT compilation with `numba`, a topic we will cover in future lectures."
     ]
    },
    {
     "cell_type": "code",
     "collapsed": false,
     "input": [
      "from numpy.core.umath_tests import matrix_multiply\n",
      "\n",
      "print matrix_multiply.signature"
     ],
     "language": "python",
     "metadata": {},
     "outputs": [
      {
       "output_type": "stream",
       "stream": "stdout",
       "text": [
        "(m,n),(n,p)->(m,p)\n"
       ]
      }
     ],
     "prompt_number": 107
    },
    {
     "cell_type": "code",
     "collapsed": false,
     "input": [
      "us = np.random.random((5, 2, 3)) # 5 2x3 matrics\n",
      "vs = np.random.random((5, 3, 4)) # 5 3x4 matrices\n",
      "# perform matrix multiplication for each of the 5 sets of matrices\n",
      "ws = matrix_multiply(us, vs) \n",
      "print ws.shape\n",
      "print ws"
     ],
     "language": "python",
     "metadata": {},
     "outputs": [
      {
       "output_type": "stream",
       "stream": "stdout",
       "text": [
        "(5, 2, 4)\n",
        "[[[ 0.6287  0.3012  0.9293  0.5439]\n",
        "  [ 0.7728  0.6826  1.6712  0.8018]]\n",
        "\n",
        " [[ 0.4425  0.7135  0.9703  0.9812]\n",
        "  [ 0.2253  0.7995  0.8728  0.8934]]\n",
        "\n",
        " [[ 1.2528  0.917   0.2512  0.7338]\n",
        "  [ 2.0581  1.4807  0.3652  1.0819]]\n",
        "\n",
        " [[ 0.2102  0.4713  0.4547  0.2371]\n",
        "  [ 0.0925  0.1447  0.1473  0.0707]]\n",
        "\n",
        " [[ 1.1039  0.5479  1.3152  1.0523]\n",
        "  [ 1.3219  0.6746  1.596   1.2698]]]\n"
       ]
      }
     ],
     "prompt_number": 108
    },
    {
     "cell_type": "markdown",
     "metadata": {},
     "source": [
      "### Random numbers\n",
      "\n",
      "There are two modules for (pseudo) random numbers that are commonly used. When all you need is to generate random numbers from some distribtuion, the `numpy.random` moodule is the simplest to use. When you need more information realted to a disttribution such as quantiles or the PDF, you can use the `scipy.stats` module."
     ]
    },
    {
     "cell_type": "markdown",
     "metadata": {},
     "source": [
      "#### Using `numpy.random`\n",
      "\n",
      "[Module Reference](http://docs.scipy.org/doc/numpy/reference/routines.random.html)"
     ]
    },
    {
     "cell_type": "code",
     "collapsed": false,
     "input": [
      "import numpy.random as npr\n",
      "npr.seed(123) # fix seed for reproducible results"
     ],
     "language": "python",
     "metadata": {},
     "outputs": [],
     "prompt_number": 109
    },
    {
     "cell_type": "code",
     "collapsed": false,
     "input": [
      "# 10 trials of rolling a fair 6-sided 100 times\n",
      "roll = 1.0/6\n",
      "x = npr.multinomial(100, [roll]*6, 10)\n",
      "x"
     ],
     "language": "python",
     "metadata": {},
     "outputs": [
      {
       "metadata": {},
       "output_type": "pyout",
       "prompt_number": 110,
       "text": [
        "array([[18, 14, 14, 18, 20, 16],\n",
        "       [16, 25, 16, 14, 14, 15],\n",
        "       [15, 19, 16, 12, 18, 20],\n",
        "       [19, 13, 14, 18, 18, 18],\n",
        "       [18, 20, 17, 16, 16, 13],\n",
        "       [15, 16, 15, 16, 20, 18],\n",
        "       [12, 17, 17, 18, 17, 19],\n",
        "       [15, 16, 22, 21, 13, 13],\n",
        "       [18, 12, 16, 17, 22, 15],\n",
        "       [14, 17, 25, 15, 15, 14]])"
       ]
      }
     ],
     "prompt_number": 110
    },
    {
     "cell_type": "code",
     "collapsed": false,
     "input": [
      "# uniformly distributed numbers in 2D\n",
      "x = npr.uniform(-1, 1, (100, 2))\n",
      "plt.scatter(x[:,0], x[:,1], s=50)\n",
      "plt.axis([-1.05, 1.05, -1.05, 1.05]);"
     ],
     "language": "python",
     "metadata": {},
     "outputs": [
      {
       "metadata": {},
       "output_type": "display_data",
       "png": "[encoded data removed]",
       "text": [
        "<matplotlib.figure.Figure at 0x11562b610>"
       ]
      }
     ],
     "prompt_number": 111
    },
    {
     "cell_type": "code",
     "collapsed": false,
     "input": [
      "# ranodmly shuffling a vector\n",
      "x = np.arange(10)\n",
      "npr.shuffle(x)\n",
      "x"
     ],
     "language": "python",
     "metadata": {},
     "outputs": [
      {
       "metadata": {},
       "output_type": "pyout",
       "prompt_number": 112,
       "text": [
        "array([5, 8, 6, 4, 3, 9, 1, 7, 2, 0])"
       ]
      }
     ],
     "prompt_number": 112
    },
    {
     "cell_type": "code",
     "collapsed": false,
     "input": [
      "# radnom permutations\n",
      "npr.permutation(10)"
     ],
     "language": "python",
     "metadata": {},
     "outputs": [
      {
       "metadata": {},
       "output_type": "pyout",
       "prompt_number": 113,
       "text": [
        "array([1, 4, 9, 8, 6, 5, 3, 2, 0, 7])"
       ]
      }
     ],
     "prompt_number": 113
    },
    {
     "cell_type": "code",
     "collapsed": false,
     "input": [
      "# radnom selection without replacement\n",
      "x = np.arange(10,20)\n",
      "npr.choice(x, 10, replace=False)"
     ],
     "language": "python",
     "metadata": {},
     "outputs": [
      {
       "metadata": {},
       "output_type": "pyout",
       "prompt_number": 114,
       "text": [
        "array([14, 16, 15, 12, 19, 11, 13, 10, 18, 17])"
       ]
      }
     ],
     "prompt_number": 114
    },
    {
     "cell_type": "code",
     "collapsed": false,
     "input": [
      "# radnom selection with replacement\n",
      "npr.choice(x, (5, 10), replace=True) # this is default"
     ],
     "language": "python",
     "metadata": {},
     "outputs": [
      {
       "metadata": {},
       "output_type": "pyout",
       "prompt_number": 115,
       "text": [
        "array([[15, 13, 10, 14, 18, 14, 19, 13, 15, 11],\n",
        "       [18, 10, 19, 11, 15, 18, 18, 14, 16, 18],\n",
        "       [17, 19, 12, 10, 10, 19, 19, 15, 13, 15],\n",
        "       [15, 12, 12, 17, 13, 11, 13, 19, 13, 16],\n",
        "       [12, 13, 11, 19, 18, 10, 12, 13, 17, 19]])"
       ]
      }
     ],
     "prompt_number": 115
    },
    {
     "cell_type": "code",
     "collapsed": false,
     "input": [
      "# toy example - estimating pi inefficiently\n",
      "n = 1e6\n",
      "x = npr.uniform(-1,1,(n,2))\n",
      "4.0*np.sum(x[:,0]**2 + x[:,1]**2 < 1)/n"
     ],
     "language": "python",
     "metadata": {},
     "outputs": [
      {
       "metadata": {},
       "output_type": "pyout",
       "prompt_number": 116,
       "text": [
        "3.1416"
       ]
      }
     ],
     "prompt_number": 116
    },
    {
     "cell_type": "markdown",
     "metadata": {},
     "source": [
      "#### Using scipy.stats\n",
      "\n",
      "[Module refernce](http://docs.scipy.org/doc/scipy-0.14.0/reference/stats.html)"
     ]
    },
    {
     "cell_type": "code",
     "collapsed": false,
     "input": [
      "import scipy.stats as stats"
     ],
     "language": "python",
     "metadata": {},
     "outputs": [],
     "prompt_number": 117
    },
    {
     "cell_type": "code",
     "collapsed": false,
     "input": [
      "# Create a \"frozen\" distribution - i.e. a partially applied function\n",
      "dist = stats.norm(10, 2)"
     ],
     "language": "python",
     "metadata": {},
     "outputs": [],
     "prompt_number": 118
    },
    {
     "cell_type": "code",
     "collapsed": false,
     "input": [
      "#  same a rnorm\n",
      "dist.rvs(10)"
     ],
     "language": "python",
     "metadata": {},
     "outputs": [
      {
       "metadata": {},
       "output_type": "pyout",
       "prompt_number": 119,
       "text": [
        "array([ 11.629 ,   9.5777,   8.5607,   8.5777,   8.6464,  11.5398,\n",
        "        10.8751,  11.8244,  10.1772,   9.3056])"
       ]
      }
     ],
     "prompt_number": 119
    },
    {
     "cell_type": "code",
     "collapsed": false,
     "input": [
      "# same as pnorm\n",
      "dist.pdf(np.linspace(5, 15, 10))"
     ],
     "language": "python",
     "metadata": {},
     "outputs": [
      {
       "metadata": {},
       "output_type": "pyout",
       "prompt_number": 120,
       "text": [
        "array([ 0.0088,  0.0301,  0.076 ,  0.141 ,  0.1919,  0.1919,  0.141 ,\n",
        "        0.076 ,  0.0301,  0.0088])"
       ]
      }
     ],
     "prompt_number": 120
    },
    {
     "cell_type": "code",
     "collapsed": false,
     "input": [
      "# same as dnorm\n",
      "dist.cdf(np.linspace(5, 15, 11))"
     ],
     "language": "python",
     "metadata": {},
     "outputs": [
      {
       "metadata": {},
       "output_type": "pyout",
       "prompt_number": 121,
       "text": [
        "array([ 0.0062,  0.0228,  0.0668,  0.1587,  0.3085,  0.5   ,  0.6915,\n",
        "        0.8413,  0.9332,  0.9772,  0.9938])"
       ]
      }
     ],
     "prompt_number": 121
    },
    {
     "cell_type": "code",
     "collapsed": false,
     "input": [
      "# same as qnorm\n",
      "dist.ppf(dist.cdf(np.linspace(5, 15, 11)))"
     ],
     "language": "python",
     "metadata": {},
     "outputs": [
      {
       "metadata": {},
       "output_type": "pyout",
       "prompt_number": 122,
       "text": [
        "array([  5.,   6.,   7.,   8.,   9.,  10.,  11.,  12.,  13.,  14.,  15.])"
       ]
      }
     ],
     "prompt_number": 122
    },
    {
     "cell_type": "markdown",
     "metadata": {},
     "source": [
      "### Linear algebra\n",
      "\n",
      "In general, the linear algebra functions can be found in scipy.linalg. You can also get access to BLAS and LAPACK function via scipy.linagl.blas and scipy.linalg.lapack."
     ]
    },
    {
     "cell_type": "code",
     "collapsed": false,
     "input": [
      "import scipy.linalg as la"
     ],
     "language": "python",
     "metadata": {},
     "outputs": [],
     "prompt_number": 123
    },
    {
     "cell_type": "code",
     "collapsed": false,
     "input": [
      "A = np.array([[1,2],[3,4]])\n",
      "b = np.array([1,4])\n",
      "print(A)\n",
      "print(b)"
     ],
     "language": "python",
     "metadata": {},
     "outputs": [
      {
       "output_type": "stream",
       "stream": "stdout",
       "text": [
        "[[1 2]\n",
        " [3 4]]\n",
        "[1 4]\n"
       ]
      }
     ],
     "prompt_number": 124
    },
    {
     "cell_type": "code",
     "collapsed": false,
     "input": [
      "# Matrix operations\n",
      "import numpy as np\n",
      "import scipy.linalg as la\n",
      "from functools import reduce\n",
      "\n",
      "A = np.array([[1,2],[3,4]])\n",
      "print(np.dot(A, A))\n",
      "print(A)\n",
      "print(la.inv(A))\n",
      "print(A.T)"
     ],
     "language": "python",
     "metadata": {},
     "outputs": [
      {
       "output_type": "stream",
       "stream": "stdout",
       "text": [
        "[[ 7 10]\n",
        " [15 22]]\n",
        "[[1 2]\n",
        " [3 4]]\n",
        "[[-2.   1. ]\n",
        " [ 1.5 -0.5]]\n",
        "[[1 3]\n",
        " [2 4]]\n"
       ]
      }
     ],
     "prompt_number": 125
    },
    {
     "cell_type": "code",
     "collapsed": false,
     "input": [
      "x = la.solve(A, b) # do not use x = dot(inv(A), b) as it is inefficient and numerically unstable\n",
      "print(x)\n",
      "print(np.dot(A, x) - b)"
     ],
     "language": "python",
     "metadata": {},
     "outputs": [
      {
       "output_type": "stream",
       "stream": "stdout",
       "text": [
        "[ 2.  -0.5]\n",
        "[ 0.  0.]\n"
       ]
      }
     ],
     "prompt_number": 126
    },
    {
     "cell_type": "markdown",
     "metadata": {},
     "source": [
      "### Matrix decompositions"
     ]
    },
    {
     "cell_type": "code",
     "collapsed": false,
     "input": [
      "A = np.floor(npr.normal(100, 15, (6, 10)))\n",
      "print(A)"
     ],
     "language": "python",
     "metadata": {},
     "outputs": [
      {
       "output_type": "stream",
       "stream": "stdout",
       "text": [
        "[[  94.   82.  125.  108.  105.   88.   99.   82.   97.  112.]\n",
        " [  83.  124.   67.  103.   73.  111.  125.   81.  122.   62.]\n",
        " [  93.   84.  107.  107.   80.   85.   96.   89.   85.  102.]\n",
        " [ 116.  116.   64.   98.   82.   98.  121.   70.  122.   98.]\n",
        " [ 118.  108.  103.  102.   68.   98.   88.   78.  103.   95.]\n",
        " [ 112.  115.   74.   80.  106.  104.  114.  105.   80.   99.]]\n"
       ]
      }
     ],
     "prompt_number": 127
    },
    {
     "cell_type": "code",
     "collapsed": false,
     "input": [
      "P, L, U = la.lu(A)\n",
      "print(np.dot(P.T, A))\n",
      "print\n",
      "print(np.dot(L, U))"
     ],
     "language": "python",
     "metadata": {},
     "outputs": [
      {
       "output_type": "stream",
       "stream": "stdout",
       "text": [
        "[[ 118.  108.  103.  102.   68.   98.   88.   78.  103.   95.]\n",
        " [  83.  124.   67.  103.   73.  111.  125.   81.  122.   62.]\n",
        " [  94.   82.  125.  108.  105.   88.   99.   82.   97.  112.]\n",
        " [ 116.  116.   64.   98.   82.   98.  121.   70.  122.   98.]\n",
        " [ 112.  115.   74.   80.  106.  104.  114.  105.   80.   99.]\n",
        " [  93.   84.  107.  107.   80.   85.   96.   89.   85.  102.]]\n",
        "\n",
        "[[ 118.  108.  103.  102.   68.   98.   88.   78.  103.   95.]\n",
        " [  83.  124.   67.  103.   73.  111.  125.   81.  122.   62.]\n",
        " [  94.   82.  125.  108.  105.   88.   99.   82.   97.  112.]\n",
        " [ 116.  116.   64.   98.   82.   98.  121.   70.  122.   98.]\n",
        " [ 112.  115.   74.   80.  106.  104.  114.  105.   80.   99.]\n",
        " [  93.   84.  107.  107.   80.   85.   96.   89.   85.  102.]]\n"
       ]
      }
     ],
     "prompt_number": 128
    },
    {
     "cell_type": "code",
     "collapsed": false,
     "input": [
      "Q, R = la.qr(A)\n",
      "print(A)\n",
      "print\n",
      "print(np.dot(Q, R))"
     ],
     "language": "python",
     "metadata": {},
     "outputs": [
      {
       "output_type": "stream",
       "stream": "stdout",
       "text": [
        "[[  94.   82.  125.  108.  105.   88.   99.   82.   97.  112.]\n",
        " [  83.  124.   67.  103.   73.  111.  125.   81.  122.   62.]\n",
        " [  93.   84.  107.  107.   80.   85.   96.   89.   85.  102.]\n",
        " [ 116.  116.   64.   98.   82.   98.  121.   70.  122.   98.]\n",
        " [ 118.  108.  103.  102.   68.   98.   88.   78.  103.   95.]\n",
        " [ 112.  115.   74.   80.  106.  104.  114.  105.   80.   99.]]\n",
        "\n",
        "[[  94.   82.  125.  108.  105.   88.   99.   82.   97.  112.]\n",
        " [  83.  124.   67.  103.   73.  111.  125.   81.  122.   62.]\n",
        " [  93.   84.  107.  107.   80.   85.   96.   89.   85.  102.]\n",
        " [ 116.  116.   64.   98.   82.   98.  121.   70.  122.   98.]\n",
        " [ 118.  108.  103.  102.   68.   98.   88.   78.  103.   95.]\n",
        " [ 112.  115.   74.   80.  106.  104.  114.  105.   80.   99.]]\n"
       ]
      }
     ],
     "prompt_number": 129
    },
    {
     "cell_type": "code",
     "collapsed": false,
     "input": [
      "U, s, V = la.svd(A)\n",
      "m, n = A.shape\n",
      "S =  np.zeros((m, n))\n",
      "for i, _s in enumerate(s):\n",
      "    S[i,i] = _s\n",
      "print(reduce(np.dot, [U, S, V]))"
     ],
     "language": "python",
     "metadata": {},
     "outputs": [
      {
       "output_type": "stream",
       "stream": "stdout",
       "text": [
        "[[  94.   82.  125.  108.  105.   88.   99.   82.   97.  112.]\n",
        " [  83.  124.   67.  103.   73.  111.  125.   81.  122.   62.]\n",
        " [  93.   84.  107.  107.   80.   85.   96.   89.   85.  102.]\n",
        " [ 116.  116.   64.   98.   82.   98.  121.   70.  122.   98.]\n",
        " [ 118.  108.  103.  102.   68.   98.   88.   78.  103.   95.]\n",
        " [ 112.  115.   74.   80.  106.  104.  114.  105.   80.   99.]]\n"
       ]
      }
     ],
     "prompt_number": 130
    },
    {
     "cell_type": "code",
     "collapsed": false,
     "input": [
      "B = np.cov(A)\n",
      "print(B)"
     ],
     "language": "python",
     "metadata": {},
     "outputs": [
      {
       "output_type": "stream",
       "stream": "stdout",
       "text": [
        "[[ 187.7333 -182.4667   94.9333 -105.4444    1.2    -137.2   ]\n",
        " [-182.4667  609.6556  -83.3111  371.0556   90.8778   70.5667]\n",
        " [  94.9333  -83.3111   97.2889  -48.8889   45.0222  -79.8   ]\n",
        " [-105.4444  371.0556  -48.8889  438.5     145.5     109.0556]\n",
        " [   1.2      90.8778   45.0222  145.5     215.4333  -39.7667]\n",
        " [-137.2      70.5667  -79.8     109.0556  -39.7667  234.1   ]]\n"
       ]
      }
     ],
     "prompt_number": 131
    },
    {
     "cell_type": "code",
     "collapsed": false,
     "input": [
      "u, V = la.eig(B)\n",
      "print(np.dot(B, V))\n",
      "print\n",
      "print(np.real(np.dot(V, np.diag(u))))"
     ],
     "language": "python",
     "metadata": {},
     "outputs": [
      {
       "output_type": "stream",
       "stream": "stdout",
       "text": [
        "[[-280.8911  157.1032   12.1003  -60.7161    8.8142   -1.5134]\n",
        " [ 739.1179   34.4268    3.8974    4.3778   14.9092 -122.8749]\n",
        " [-134.1449  128.3162  -11.0569   -6.6382   37.3675   13.4467]\n",
        " [ 598.7992   77.4348   -5.3372  -52.7843  -14.996    94.553 ]\n",
        " [ 170.8339  193.7335    5.8732   67.6135    1.1042   90.1451]\n",
        " [ 199.7105 -218.1547    6.1467   -5.6295   26.3372  101.0444]]\n",
        "\n",
        "[[-280.8911  157.1032   12.1003  -60.7161    8.8142   -1.5134]\n",
        " [ 739.1179   34.4268    3.8974    4.3778   14.9092 -122.8749]\n",
        " [-134.1449  128.3162  -11.0569   -6.6382   37.3675   13.4467]\n",
        " [ 598.7992   77.4348   -5.3372  -52.7843  -14.996    94.553 ]\n",
        " [ 170.8339  193.7335    5.8732   67.6135    1.1042   90.1451]\n",
        " [ 199.7105 -218.1547    6.1467   -5.6295   26.3372  101.0444]]\n"
       ]
      }
     ],
     "prompt_number": 132
    },
    {
     "cell_type": "code",
     "collapsed": false,
     "input": [
      "C = la.cholesky(B)\n",
      "print(np.dot(C.T, C))\n",
      "print\n",
      "print(B)"
     ],
     "language": "python",
     "metadata": {},
     "outputs": [
      {
       "output_type": "stream",
       "stream": "stdout",
       "text": [
        "[[ 187.7333 -182.4667   94.9333 -105.4444    1.2    -137.2   ]\n",
        " [-182.4667  609.6556  -83.3111  371.0556   90.8778   70.5667]\n",
        " [  94.9333  -83.3111   97.2889  -48.8889   45.0222  -79.8   ]\n",
        " [-105.4444  371.0556  -48.8889  438.5     145.5     109.0556]\n",
        " [   1.2      90.8778   45.0222  145.5     215.4333  -39.7667]\n",
        " [-137.2      70.5667  -79.8     109.0556  -39.7667  234.1   ]]\n",
        "\n",
        "[[ 187.7333 -182.4667   94.9333 -105.4444    1.2    -137.2   ]\n",
        " [-182.4667  609.6556  -83.3111  371.0556   90.8778   70.5667]\n",
        " [  94.9333  -83.3111   97.2889  -48.8889   45.0222  -79.8   ]\n",
        " [-105.4444  371.0556  -48.8889  438.5     145.5     109.0556]\n",
        " [   1.2      90.8778   45.0222  145.5     215.4333  -39.7667]\n",
        " [-137.2      70.5667  -79.8     109.0556  -39.7667  234.1   ]]\n"
       ]
      }
     ],
     "prompt_number": 133
    },
    {
     "cell_type": "markdown",
     "metadata": {},
     "source": [
      "### Least squares solution"
     ]
    },
    {
     "cell_type": "markdown",
     "metadata": {},
     "source": [
      "Suppose we want to solve a system of noisy linear equations\n",
      "\n",
      "$$\n",
      "y_1 = b_0 x_1 + b_1 \\\\\n",
      "y_2 = b_0 x_2 + b_1 \\\\\n",
      "y_3 = b_0 x_2 + b_1 \\\\\n",
      "y_4 = b_0 x_4 + b_1 \\\\\n",
      "$$\n",
      "\n",
      "Since the system is noisy (implies full rank) and overdetermined, we cannot find an exact solution. Instead, we will look for the least squares solution. First we can rewrrite in matrix notation $Y = AB$, treating $b_1$ as the coefficient of $x^0 = 1$:\n",
      "\n",
      "$$\n",
      "\\left(\n",
      "\\begin{array}{c}\n",
      "y_1 \\\\\n",
      "y_2 \\\\\n",
      "y_3 \\\\\n",
      "y_4 \n",
      "\\end{array} \n",
      "\\right) = \\left( \\begin{array}{cc}\n",
      "x_1 & 1 \\\\\n",
      "x_2 & 1 \\\\\n",
      "x_3 & 1 \\\\\n",
      "x_4 & 1 \\end{array} \\right)\n",
      "\\left( \n",
      "\\begin{array}{cc}\n",
      "b_0 & b_1 \n",
      "\\end{array}\n",
      "\\right)\n",
      "$$\n",
      "\n",
      "The solution of this (i.e. the $B$ matrix) is solved by multipling the psudoinverse of $A$ (the Vandermonde matrix) with $Y$\n",
      "\n",
      "$$\n",
      "(A^\\text{T}A)^{-1}A^\\text{T} Y\n",
      "$$\n",
      "\n",
      "Note that higher order polynomials have the same structure and can be solved in the same way\n",
      "\n",
      "$$\n",
      "\\left(\n",
      "\\begin{array}{c}\n",
      "y_1 \\\\\n",
      "y_2 \\\\\n",
      "y_3 \\\\\n",
      "y_4 \n",
      "\\end{array} \n",
      "\\right) = \\left( \\begin{array}{ccc}\n",
      "x_1^2 & x_1 & 1 \\\\\n",
      "x_2^2 & x_2 & 1 \\\\\n",
      "x_3^2 & x_3 & 1 \\\\\n",
      "x_4^2 & x_4 & 1 \\end{array} \\right)\n",
      "\\left( \n",
      "\\begin{array}{ccc}\n",
      "b_0 & b_1 & b_2\n",
      "\\end{array}\n",
      "\\right)\n",
      "$$"
     ]
    },
    {
     "cell_type": "code",
     "collapsed": false,
     "input": [
      "# Set up a system of 11 linear equations\n",
      "x = np.linspace(1,2,11)\n",
      "y = 6*x - 2 + npr.normal(0, 0.3, len(x))\n",
      "\n",
      "# Form the VanderMonde matrix\n",
      "A = np.vstack([x, np.ones(len(x))]).T\n",
      "\n",
      "# The linear algebra librayr has a lstsq() function \n",
      "# that will do the above calculaitons for us\n",
      "\n",
      "b, resids, rank, sv = la.lstsq(A, y)\n",
      "\n",
      "# Check against pseudoinverse and the normal equation\n",
      "print(\"lstsq solution\".ljust(30), b)\n",
      "print(\"pseudoinverse solution\".ljust(30), np.dot(la.pinv(A), y))\n",
      "print(\"normal euqation solution\".ljust(30), np.dot(np.dot(la.inv(np.dot(A.T, A)), A.T), y))\n",
      "\n",
      "# Now plot the solution\n",
      "xi = np.linspace(1,2,11)\n",
      "yi = b[0]*xi + b[1]\n",
      "\n",
      "plt.plot(x, y, 'o')\n",
      "plt.plot(xi, yi, 'r-');"
     ],
     "language": "python",
     "metadata": {},
     "outputs": [
      {
       "output_type": "stream",
       "stream": "stdout",
       "text": [
        "('lstsq solution                ', array([ 5.5899, -1.4177]))\n",
        "('pseudoinverse solution        ', array([ 5.5899, -1.4177]))\n",
        "('normal euqation solution      ', array([ 5.5899, -1.4177]))\n"
       ]
      },
      {
       "metadata": {},
       "output_type": "display_data",
       "png": "[encoded data removed]",
       "text": [
        "<matplotlib.figure.Figure at 0x118bb1d90>"
       ]
      }
     ],
     "prompt_number": 135
    },
    {
     "cell_type": "code",
     "collapsed": false,
     "input": [
      "# As advertised, this works for finding coeefficeints of a polynomial too\n",
      "\n",
      "x = np.linspace(0,2,11)\n",
      "y = 6*x*x + .5*x + 2 + npr.normal(0, 0.6, len(x))\n",
      "plt.plot(x, y, 'o')\n",
      "A = np.vstack([x*x, x, np.ones(len(x))]).T\n",
      "b = la.lstsq(A, y)[0]\n",
      "\n",
      "xi = np.linspace(0,2,11)\n",
      "yi = b[0]*xi*xi + b[1]*xi + b[2]\n",
      "plt.plot(xi, yi, 'r-');"
     ],
     "language": "python",
     "metadata": {},
     "outputs": [
      {
       "metadata": {},
       "output_type": "display_data",
       "png": "[encoded data removed]",
       "text": [
        "<matplotlib.figure.Figure at 0x1155f0b10>"
       ]
      }
     ],
     "prompt_number": 136
    },
    {
     "cell_type": "code",
     "collapsed": false,
     "input": [
      "# It is important to understand what is going on,\n",
      "# but we don't have to work so hard to fit a polynomial\n",
      "\n",
      "b = np.random.randint(0, 10, 6)\n",
      "x = np.linspace(0, 1, 25)\n",
      "y = np.poly1d(b)(x) \n",
      "y += np.random.normal(0, 5, y.shape)\n",
      "\n",
      "p = np.poly1d(np.polyfit(x, y, len(b)-1))\n",
      "plt.plot(x, y, 'bo')\n",
      "plt.plot(x, p(x), 'r-')\n",
      "list(zip(b, p.coeffs))"
     ],
     "language": "python",
     "metadata": {},
     "outputs": [
      {
       "metadata": {},
       "output_type": "pyout",
       "prompt_number": 137,
       "text": [
        "[(6, -250.9964),\n",
        " (7, 819.7606),\n",
        " (1, -909.5724),\n",
        " (5, 449.7862),\n",
        " (7, -91.2660),\n",
        " (9, 15.5274)]"
       ]
      },
      {
       "metadata": {},
       "output_type": "display_data",
       "png": "[encoded data removed]",
       "text": [
        "<matplotlib.figure.Figure at 0x112f879d0>"
       ]
      }
     ],
     "prompt_number": 137
    },
    {
     "cell_type": "markdown",
     "metadata": {},
     "source": [
      "<font color=red>Exercises</font>\n",
      "----"
     ]
    },
    {
     "cell_type": "markdown",
     "metadata": {},
     "source": [
      "**1**. Find the row, column and overall means for the following matrix:\n",
      "\n",
      "```python\n",
      "m = np.arange(12).reshape((3,4))\n",
      "```"
     ]
    },
    {
     "cell_type": "code",
     "collapsed": false,
     "input": [
      "# YOUR CODE HERE\n",
      "m = np.arange(12).reshape((3,4))\n",
      "print m\n",
      "print(\"---------------------\")\n",
      "\n",
      "row_means = m.mean(axis=1)\n",
      "print(row_means)\n",
      "print(\"---------------------\")\n",
      "\n",
      "col_means = m.mean(axis=0)\n",
      "print(col_means)\n",
      "print(\"---------------------\")\n",
      "\n",
      "# overall means\n",
      "np.mean(m)"
     ],
     "language": "python",
     "metadata": {},
     "outputs": [
      {
       "output_type": "stream",
       "stream": "stdout",
       "text": [
        "[[ 0  1  2  3]\n",
        " [ 4  5  6  7]\n",
        " [ 8  9 10 11]]\n",
        "---------------------\n",
        "[ 1.5  5.5  9.5]\n",
        "---------------------\n",
        "[ 4.  5.  6.  7.]\n",
        "---------------------\n"
       ]
      },
      {
       "metadata": {},
       "output_type": "pyout",
       "prompt_number": 4,
       "text": [
        "5.5000"
       ]
      }
     ],
     "prompt_number": 4
    },
    {
     "cell_type": "markdown",
     "metadata": {},
     "source": [
      "**2**. Find the outer product of the following two vecotrs\n",
      "\n",
      "```python\n",
      "u = np.array([1,3,5,7])\n",
      "v = np.array([2,4,6,8])\n",
      "```\n",
      "\n",
      "Do this in the following ways:\n",
      "\n",
      "- Using the function `outer` in numpy\n",
      "- Using a nested for loop or list comprehension\n",
      "- Using numpy broadcasting operatoins"
     ]
    },
    {
     "cell_type": "code",
     "collapsed": false,
     "input": [
      "from IPython.display import Image\n",
      "Image(url=\"http://upload.wikimedia.org/math/3/d/4/3d4264bebf01107de5cc26beb52817a6.png\")"
     ],
     "language": "python",
     "metadata": {},
     "outputs": [
      {
       "html": [
        "<img src=\"http://upload.wikimedia.org/math/3/d/4/3d4264bebf01107de5cc26beb52817a6.png\"/>"
       ],
       "metadata": {},
       "output_type": "pyout",
       "prompt_number": 30,
       "text": [
        "<IPython.core.display.Image at 0x7fcbb7014590>"
       ]
      }
     ],
     "prompt_number": 30
    },
    {
     "cell_type": "code",
     "collapsed": false,
     "input": [
      "# YOUR CODE HERE\n",
      "u = np.array([1,3,5,7])\n",
      "v = np.array([2,4,6,8])\n",
      "\n",
      "# Method 1\n",
      "np.outer(u, v)\n",
      "\n",
      "# Method 2 \n",
      "def forOuter(u, v):\n",
      "    \"\"\"Calculate the outer product by using for loops\"\"\"\n",
      "    dest = np.zeros((len(u),len(v)))\n",
      "    i = 0\n",
      "    for ui in u:\n",
      "        j = 0\n",
      "        for vj in v:\n",
      "            dest[i, j] = ui*vj\n",
      "            j += 1\n",
      "        i += 1    \n",
      "    return dest\n",
      "\n",
      "# Method 3\n",
      "def vectOuter(u, v):\n",
      "    \"\"\"Calculate the outer product by broadcasting\"\"\"\n",
      "    return (u[:,None] * v[None,:])\n",
      "\n",
      "print np.outer(u, v)\n",
      "print(\"---------------------\")\n",
      "print forOuter(u, v)\n",
      "print(\"---------------------\")\n",
      "print vectOuter(u, v)\n",
      "\n",
      "print(\"---------------------\")\n",
      "%timeit -n3 np.outer(u, v)\n",
      "%timeit -n3 forOuter(u, v) # for loops are super slow\n",
      "%timeit -n3 vectOuter(u, v) # vectorized/broadcasting is fast"
     ],
     "language": "python",
     "metadata": {},
     "outputs": [
      {
       "output_type": "stream",
       "stream": "stdout",
       "text": [
        "[[ 2  4  6  8]\n",
        " [ 6 12 18 24]\n",
        " [10 20 30 40]\n",
        " [14 28 42 56]]\n",
        "---------------------\n",
        "[[  2.   4.   6.   8.]\n",
        " [  6.  12.  18.  24.]\n",
        " [ 10.  20.  30.  40.]\n",
        " [ 14.  28.  42.  56.]]\n",
        "---------------------\n",
        "[[ 2  4  6  8]\n",
        " [ 6 12 18 24]\n",
        " [10 20 30 40]\n",
        " [14 28 42 56]]\n",
        "---------------------\n",
        "3 loops, best of 3: 7.31 \u00b5s per loop\n",
        "3 loops, best of 3: 13.7 \u00b5s per loop\n",
        "3 loops, best of 3: 3.97 \u00b5s per loop\n"
       ]
      }
     ],
     "prompt_number": 51
    },
    {
     "cell_type": "markdown",
     "metadata": {},
     "source": [
      "**3**. Create a 10 by 6 matrix of random uniform numbers. Set all rows with *any* entry less than 0.1 to be zero. For example, here is a 4 by 10 version:\n",
      "\n",
      "```python\n",
      "array([[ 0.49722235,  0.88833973,  0.07289358,  0.12375223,  0.39659254,\n",
      "         0.70267114],\n",
      "       [ 0.3954172 ,  0.889077  ,  0.71286225,  0.06353112,  0.68107965,\n",
      "         0.17186995],\n",
      "       [ 0.74821206,  0.92692111,  0.24871227,  0.26904958,  0.80410194,\n",
      "         0.22304055],\n",
      "       [ 0.22582605,  0.37671244,  0.96510957,  0.88819053,  0.14654176,\n",
      "         0.33987323]])\n",
      "```\n",
      "\n",
      "becomes\n",
      "\n",
      "```python\n",
      "array([[ 0.        ,  0.        ,  0.        ,  0.        ,  0.        ,\n",
      "         0.        ],\n",
      "       [ 0.        ,  0.        ,  0.        ,  0.        ,  0.        ,\n",
      "         0.        ],\n",
      "       [ 0.74821206,  0.92692111,  0.24871227,  0.26904958,  0.80410194,\n",
      "         0.22304055],\n",
      "       [ 0.22582605,  0.37671244,  0.96510957,  0.88819053,  0.14654176,\n",
      "         0.33987323]])\n",
      "```\n",
      "\n",
      "Hint: Use the following numpy functions - `np.random.random`, `np.any` as well as Boolean indexing and the axis argument."
     ]
    },
    {
     "cell_type": "code",
     "collapsed": false,
     "input": [
      "# YOUR CODE HERE\n",
      "np.random.seed(21)\n",
      "original = np.random.random_sample((10, 6))\n",
      "print original\n",
      "print(\"----------------------------------------------------\")\n",
      "\n",
      "original[np.ndarray.any(original[:,:] < 0.1, axis=1),:] = 0\n",
      "print original"
     ],
     "language": "python",
     "metadata": {},
     "outputs": [
      {
       "output_type": "stream",
       "stream": "stdout",
       "text": [
        "[[ 0.0487  0.2891  0.721   0.0216  0.2059  0.0508]\n",
        " [ 0.3023  0.6639  0.3081  0.5836  0.0696  0.8674]\n",
        " [ 0.1332  0.1781  0.4959  0.8637  0.7589  0.9705]\n",
        " [ 0.7593  0.3843  0.4087  0.7134  0.2707  0.8541]\n",
        " [ 0.9132  0.7608  0.5167  0.1678  0.2987  0.2839]\n",
        " [ 0.3272  0.4601  0.5444  0.2174  0.7999  0.7267]\n",
        " [ 0.8493  0.2675  0.6148  0.6528  0.3868  0.4104]\n",
        " [ 0.8102  0.6004  0.8983  0.49    0.8283  0.8589]\n",
        " [ 0.7884  0.8877  0.6989  0.4544  0.3059  0.8201]\n",
        " [ 0.1397  0.4013  0.2312  0.5905  0.8863  0.3277]]\n",
        "----------------------------------------------------\n",
        "[[ 0.      0.      0.      0.      0.      0.    ]\n",
        " [ 0.      0.      0.      0.      0.      0.    ]\n",
        " [ 0.1332  0.1781  0.4959  0.8637  0.7589  0.9705]\n",
        " [ 0.7593  0.3843  0.4087  0.7134  0.2707  0.8541]\n",
        " [ 0.9132  0.7608  0.5167  0.1678  0.2987  0.2839]\n",
        " [ 0.3272  0.4601  0.5444  0.2174  0.7999  0.7267]\n",
        " [ 0.8493  0.2675  0.6148  0.6528  0.3868  0.4104]\n",
        " [ 0.8102  0.6004  0.8983  0.49    0.8283  0.8589]\n",
        " [ 0.7884  0.8877  0.6989  0.4544  0.3059  0.8201]\n",
        " [ 0.1397  0.4013  0.2312  0.5905  0.8863  0.3277]]\n"
       ]
      }
     ],
     "prompt_number": 138
    },
    {
     "cell_type": "markdown",
     "metadata": {},
     "source": [
      "**4**. Use `np.linspace` to create an array of 100 numbers between 0 and $2\\pi$ (includsive). \n",
      "\n",
      "- Extract every 10th element using slice notation\n",
      "- Reverse the array using slice notation\n",
      "- Extract elements where the absolute difference between the sine and cosine functions evaluated at that element is less than 0.1\n",
      "- Make a plot of the array"
     ]
    },
    {
     "cell_type": "code",
     "collapsed": false,
     "input": [
      "# YOUR CODE HERE\n",
      "# np.linspace?\n",
      "import math\n",
      "# math.pi = 3.1416\n",
      "interval = np.linspace(0,2*math.pi,num=100)\n",
      "print(interval)\n",
      "print(\"----------------------------------------------------\")\n",
      "\n",
      "tenth = interval[9:99:10]\n",
      "print(tenth)\n",
      "print(\"----------------------------------------------------\")\n",
      "\n",
      "reverse = interval[99:0:-1]\n",
      "#print(reverse)\n",
      "#print(\"----------------------------------------------------\")\n",
      "\n",
      "# print np.sin(interval)\n",
      "# print np.cos(interval)\n",
      "closeSinCos = interval[np.abs(np.sin(interval) - np.cos(interval)) < 0.1]\n",
      "print(closeSinCos)\n",
      "\n",
      "plt.plot(interval,'.')\n",
      "\n",
      "# interval[math.fabs(np.sin(interval[:])-math.cos(interval[:])) < 0.1]"
     ],
     "language": "python",
     "metadata": {},
     "outputs": [
      {
       "output_type": "stream",
       "stream": "stdout",
       "text": [
        "[ 0.      0.0635  0.1269  0.1904  0.2539  0.3173  0.3808  0.4443  0.5077\n",
        "  0.5712  0.6347  0.6981  0.7616  0.8251  0.8885  0.952   1.0155  1.0789\n",
        "  1.1424  1.2059  1.2693  1.3328  1.3963  1.4597  1.5232  1.5867  1.6501\n",
        "  1.7136  1.7771  1.8405  1.904   1.9675  2.0309  2.0944  2.1579  2.2213\n",
        "  2.2848  2.3483  2.4117  2.4752  2.5387  2.6021  2.6656  2.7291  2.7925\n",
        "  2.856   2.9195  2.9829  3.0464  3.1099  3.1733  3.2368  3.3003  3.3637\n",
        "  3.4272  3.4907  3.5541  3.6176  3.6811  3.7445  3.808   3.8715  3.9349\n",
        "  3.9984  4.0619  4.1253  4.1888  4.2523  4.3157  4.3792  4.4427  4.5061\n",
        "  4.5696  4.6331  4.6965  4.76    4.8235  4.8869  4.9504  5.0139  5.0773\n",
        "  5.1408  5.2043  5.2677  5.3312  5.3947  5.4581  5.5216  5.5851  5.6485\n",
        "  5.712   5.7755  5.8389  5.9024  5.9659  6.0293  6.0928  6.1563  6.2197\n",
        "  6.2832]\n",
        "----------------------------------------------------\n",
        "[ 0.5712  1.2059  1.8405  2.4752  3.1099  3.7445  4.3792  5.0139  5.6485]\n",
        "----------------------------------------------------\n",
        "[ 0.7616  0.8251  3.8715  3.9349]\n"
       ]
      },
      {
       "metadata": {},
       "output_type": "pyout",
       "prompt_number": 135,
       "text": [
        "[<matplotlib.lines.Line2D at 0x7fcbb5ccbf90>]"
       ]
      },
      {
       "metadata": {},
       "output_type": "display_data",
       "png": "[encoded data removed]",
       "text": [
        "<matplotlib.figure.Figure at 0x7fcbb6600810>"
       ]
      }
     ],
     "prompt_number": 135
    },
    {
     "cell_type": "markdown",
     "metadata": {},
     "source": [
      "**5**. Create a matrix that shows the 10 by 10 multiplication table.\n",
      "\n",
      "- Find the trace of the matrix\n",
      "- Extract the anti-diagonal (this should be `array([10, 18, 24, 28, 30, 30, 28, 24, 18, 10])`)\n",
      "- Extract the diagonal offset by 1 upwards (this should be `array([ 2,  6, 12, 20, 30, 42, 56, 72, 90])`)"
     ]
    },
    {
     "cell_type": "code",
     "collapsed": false,
     "input": [
      "# YOUR CODE HERE\n",
      "\n",
      "# broadcasting for outer product\n",
      "# e.g. create the 10x10 multiplication toable\n",
      "u = np.arange(1, 11) # end value NOT included\n",
      "multTable = u[:,None] * u[None,:]\n",
      "print multTable\n",
      "print(\"---------------------------------------------------\")\n",
      "\n",
      "# multTable.put(1, 7) # row by default\n",
      "# np.ndarray.put(multTable,2, 8)\n",
      "\n",
      "print np.trace(multTable)\n",
      "\n",
      "# Extract the anti-diagonal\n",
      "# Don't just transpose, the matrix needs to be rotated by 90 degrees counter-clockwise\n",
      "print np.diagonal(np.rot90(multTable))\n",
      "\n",
      "# diagonal offset by 1 upwards\n",
      "print np.diagonal(multTable,offset=1) # positive offset = upwards"
     ],
     "language": "python",
     "metadata": {},
     "outputs": [
      {
       "output_type": "stream",
       "stream": "stdout",
       "text": [
        "[[  1   2   3   4   5   6   7   8   9  10]\n",
        " [  2   4   6   8  10  12  14  16  18  20]\n",
        " [  3   6   9  12  15  18  21  24  27  30]\n",
        " [  4   8  12  16  20  24  28  32  36  40]\n",
        " [  5  10  15  20  25  30  35  40  45  50]\n",
        " [  6  12  18  24  30  36  42  48  54  60]\n",
        " [  7  14  21  28  35  42  49  56  63  70]\n",
        " [  8  16  24  32  40  48  56  64  72  80]\n",
        " [  9  18  27  36  45  54  63  72  81  90]\n",
        " [ 10  20  30  40  50  60  70  80  90 100]]\n",
        "---------------------------------------------------\n",
        "385\n",
        "[10 18 24 28 30 30 28 24 18 10]\n",
        "[ 2  6 12 20 30 42 56 72 90]\n"
       ]
      }
     ],
     "prompt_number": 191
    },
    {
     "cell_type": "markdown",
     "metadata": {},
     "source": [
      "**6**. Diagonalize the following matrix\n",
      "```python\n",
      "A = np.array([\n",
      "    [1,  2, 1],\n",
      "    [6, -1, 0],\n",
      "    [-1,-2,-1]\n",
      "])\n",
      "```\n",
      "In other words, find the invertible matrix $P$ and the diagonal matrix $D$ such that $A = P^{-1}DP $. Confirm by calculating the value of $P^{-1}DP $.\n",
      "\n",
      "- Do this manually\n",
      "- Then use numpy.linalg functions to do the same"
     ]
    },
    {
     "cell_type": "code",
     "collapsed": false,
     "input": [
      "# YOUR CODE HERE \n",
      "A = np.array([\n",
      "    [1,  2, 1],\n",
      "    [6, -1, 0],\n",
      "    [-1,-2,-1]\n",
      "])\n",
      "\n",
      "# Method 1: I don't know\n",
      "\n",
      "\n",
      "# Method 2: numpy.linalg\n",
      "# Compute the eigenvalues and right eigenvectors of a square array. => inv-P * D * P\n",
      "D, P = np.linalg.eig(A)\n",
      "print np.diag(D)\n",
      "print P\n",
      "\n"
     ],
     "language": "python",
     "metadata": {},
     "outputs": [
      {
       "output_type": "stream",
       "stream": "stdout",
       "text": [
        "[[ -4.0000e+00   0.0000e+00   0.0000e+00]\n",
        " [  0.0000e+00   3.0000e+00   0.0000e+00]\n",
        " [  0.0000e+00   0.0000e+00   2.5974e-16]]\n",
        "[[ 0.4082 -0.4851 -0.0697]\n",
        " [-0.8165 -0.7276 -0.418 ]\n",
        " [-0.4082  0.4851  0.9058]]\n"
       ]
      }
     ],
     "prompt_number": 200
    },
    {
     "cell_type": "markdown",
     "metadata": {},
     "source": [
      "**7**. Use the function provided below to visualize matrix multiplication as a geometric transformation by experiment with differnt values of the matrix $m$.\n",
      "\n",
      "- What does a diagonal matrix do to the original vectors?\n",
      "- What does a non-invertible matrix do to the original vectors?\n",
      "- What property results in matrices that preserves the area of the parallelogram spanned by the two vectors?\n",
      "- What property results in matrices that also preserve the length and angle of the original vectors?\n",
      "- What additional property is necessary to preserve the orientation of the original vecotrs?\n",
      "- What does the transpose of the matrix that preserves the length and angle of the original vectors do?\n",
      "- Write a function that when given any two non-colinear 2D vectors u, v, finds a transformation that converts u into e1 (1,0) and v into e2 (0,1)."
     ]
    },
    {
     "cell_type": "code",
     "collapsed": false,
     "input": [
      "#  Provided function\n",
      "def plot_matrix_transform(m):\n",
      "    \"\"\"Show the geometric effect of m on the standard unit vectors e1 and e2.\"\"\"\n",
      "\n",
      "    e1 = np.array([1,0])\n",
      "    e2 = np.array([0,1])\n",
      "    v1 = np.dot(m, e1)\n",
      "    v2 = np.dot(m, e2)\n",
      "\n",
      "    X = np.zeros((2,2))\n",
      "    Y = np.zeros((2,2))\n",
      "    pts = np.array([e1,e2,v1,v2])\n",
      "    U = pts[:, 0]\n",
      "    V = pts[:, 1]\n",
      "    C = [0,1,0,1]\n",
      "\n",
      "    xmin = min(-1, U.min())\n",
      "    xmax = max(1, U.max())\n",
      "    ymin = min(-1, V.min())\n",
      "    ymax = max(-1, V.max())\n",
      "\n",
      "    plt.figure(figsize=(6,6))\n",
      "    plt.quiver(X, Y, U, V, C, angles='xy', scale_units='xy', scale=1)\n",
      "    plt.axis([xmin, xmax, ymin, ymax]);"
     ],
     "language": "python",
     "metadata": {},
     "outputs": [],
     "prompt_number": 201
    },
    {
     "cell_type": "code",
     "collapsed": false,
     "input": [
      "### Example usage\n",
      "m = np.array([[1,2],[3,4]])\n",
      "plot_matrix_transform(m)"
     ],
     "language": "python",
     "metadata": {},
     "outputs": [
      {
       "metadata": {},
       "output_type": "display_data",
       "png": "[encoded data removed]",
       "text": [
        "<matplotlib.figure.Figure at 0x7fcbb5c6f410>"
       ]
      }
     ],
     "prompt_number": 202
    },
    {
     "cell_type": "code",
     "collapsed": false,
     "input": [
      "# YOUR CODE HERE\n",
      "diag = np.array([[3,0],[0,3]])\n",
      "plot_matrix_transform(diag)"
     ],
     "language": "python",
     "metadata": {},
     "outputs": [
      {
       "metadata": {},
       "output_type": "display_data",
       "png": "[encoded data removed]",
       "text": [
        "<matplotlib.figure.Figure at 0x7fcbb5905dd0>"
       ]
      }
     ],
     "prompt_number": 208
    },
    {
     "cell_type": "code",
     "collapsed": false,
     "input": [
      "noninvert = np.array([[0,0],[4,4]])\n",
      "plot_matrix_transform(noninvert)"
     ],
     "language": "python",
     "metadata": {},
     "outputs": [
      {
       "metadata": {},
       "output_type": "display_data",
       "png": "[encoded data removed]",
       "text": [
        "<matplotlib.figure.Figure at 0x7fcbb5ba8b10>"
       ]
      }
     ],
     "prompt_number": 207
    },
    {
     "cell_type": "code",
     "collapsed": false,
     "input": [
      "# What property results in matrices that preserves the area of the parallelogram spanned by the two vectors? determinant = 1\n",
      "# What property results in matrices that also preserve the length and angle of the original vectors? \n",
      "# This is an Euclidean transformation, which is either a translation, a rotation, or a reflection\n",
      "# What additional property is necessary to preserve the orientation of the original vecotrs? diagonal matrix\n",
      "# What does the transpose of the matrix that preserves the length and angle of the original vectors do?\n",
      "# I don't know how to answer this question :(\n",
      "\n",
      "import numpy as np\n",
      "rotation = np.array([[0.5, -np.sqrt(3)],[np.sqrt(3),0.5]])\n",
      "# rotation = np.transpose(rotation)\n",
      "# [[cos(theta), -sin(theta)],[sin(theta),cos(theta)]] -- theta = 60 degrees\n",
      "plot_matrix_transform(rotation)"
     ],
     "language": "python",
     "metadata": {},
     "outputs": [
      {
       "metadata": {},
       "output_type": "display_data",
       "png": "[encoded data removed]",
       "text": [
        "<matplotlib.figure.Figure at 0x7fcbb56c5650>"
       ]
      }
     ],
     "prompt_number": 217
    },
    {
     "cell_type": "code",
     "collapsed": false,
     "input": [
      "import numpy as np\n",
      "new = np.transpose(np.array([[0.5, -np.sqrt(3)],[np.sqrt(3),0.5]]))\n",
      "# untransposed: [[cos(theta), -sin(theta)],[sin(theta),cos(theta)]] -- theta = 60 degrees\n",
      "# transposed: theta -> negative theta, rotate in the opposite way\n",
      "plot_matrix_transform(new)"
     ],
     "language": "python",
     "metadata": {},
     "outputs": [
      {
       "metadata": {},
       "output_type": "display_data",
       "png": "[encoded data removed]",
       "text": [
        "<matplotlib.figure.Figure at 0x7fcbb5b777d0>"
       ]
      }
     ],
     "prompt_number": 219
    },
    {
     "cell_type": "code",
     "collapsed": false,
     "input": [
      "# UNFINISHED\n",
      "# Write a function that when given any two non-colinear 2D vectors u, v, \n",
      "# finds a transformation that converts u into e1 (1,0) and v into e2 (0,1).\n",
      "\n",
      "u = np.array([4,3])\n",
      "v = np.array([5,1])\n",
      "\n",
      "# Step 1: diagonal matrix (change length)\n",
      "u = u/np.linalg.norm(u)\n",
      "v = v/np.linalg.norm(v)\n",
      "# Step 2: translation (move)\n",
      "# Step 3: rotation (turn)"
     ],
     "language": "python",
     "metadata": {},
     "outputs": [
      {
       "metadata": {},
       "output_type": "pyout",
       "prompt_number": 223,
       "text": [
        "array([ 0.8,  0.6])"
       ]
      }
     ],
     "prompt_number": 223
    },
    {
     "cell_type": "markdown",
     "metadata": {},
     "source": [
      "**8**. Find and plot the least squares fit to the given values of $x$ and $y$ for the following:\n",
      "\n",
      "- a constant\n",
      "- a quadratic equation\n",
      "- a 5th order polynomial\n",
      "- a polynomial of order 50"
     ]
    },
    {
     "cell_type": "code",
     "collapsed": false,
     "input": [
      "# UNFINISHED either\n",
      "x = np.load('x.npy')\n",
      "y = np.load('y.npy')\n",
      "plt.plot(x, y, 'o')\n",
      "\n",
      "### YOUR CODE HERE\n",
      "np.load?"
     ],
     "language": "python",
     "metadata": {},
     "outputs": [
      {
       "metadata": {},
       "output_type": "display_data",
       "png": "[encoded data removed]",
       "text": [
        "<matplotlib.figure.Figure at 0x7fcbb59e6dd0>"
       ]
      }
     ],
     "prompt_number": 227
    },
    {
     "cell_type": "code",
     "collapsed": false,
     "input": [
      "%load_ext version_information\n",
      "\n",
      "%version_information numpy, scipy"
     ],
     "language": "python",
     "metadata": {},
     "outputs": [
      {
       "html": [
        "<table><tr><th>Software</th><th>Version</th></tr><tr><td>Python</td><td>2.7.9 64bit [GCC 4.2.1 (Apple Inc. build 5577)]</td></tr><tr><td>IPython</td><td>2.3.1</td></tr><tr><td>OS</td><td>Darwin 13.4.0 x86_64 i386 64bit</td></tr><tr><td>numpy</td><td>1.9.1</td></tr><tr><td>scipy</td><td>0.14.0</td></tr><tr><td colspan='2'>Wed Jan 21 11:51:33 2015 EST</td></tr></table>"
       ],
       "json": [
        "{\"Software versions\": [{\"version\": \"2.7.9 64bit [GCC 4.2.1 (Apple Inc. build 5577)]\", \"module\": \"Python\"}, {\"version\": \"2.3.1\", \"module\": \"IPython\"}, {\"version\": \"Darwin 13.4.0 x86_64 i386 64bit\", \"module\": \"OS\"}, {\"version\": \"1.9.1\", \"module\": \"numpy\"}, {\"version\": \"0.14.0\", \"module\": \"scipy\"}]}"
       ],
       "latex": [
        "\\begin{tabular}{|l|l|}\\hline\n",
        "{\\bf Software} & {\\bf Version} \\\\ \\hline\\hline\n",
        "Python & 2.7.9 64bit [GCC 4.2.1 (Apple Inc. build 5577)] \\\\ \\hline\n",
        "IPython & 2.3.1 \\\\ \\hline\n",
        "OS & Darwin 13.4.0 x86\\_64 i386 64bit \\\\ \\hline\n",
        "numpy & 1.9.1 \\\\ \\hline\n",
        "scipy & 0.14.0 \\\\ \\hline\n",
        "\\hline \\multicolumn{2}{|l|}{Wed Jan 21 11:51:33 2015 EST} \\\\ \\hline\n",
        "\\end{tabular}\n"
       ],
       "metadata": {},
       "output_type": "pyout",
       "prompt_number": 148,
       "text": [
        "Software versions\n",
        "Python 2.7.9 64bit [GCC 4.2.1 (Apple Inc. build 5577)]\n",
        "IPython 2.3.1\n",
        "OS Darwin 13.4.0 x86_64 i386 64bit\n",
        "numpy 1.9.1\n",
        "scipy 0.14.0\n",
        "Wed Jan 21 11:51:33 2015 EST"
       ]
      }
     ],
     "prompt_number": 148
    },
    {
     "cell_type": "code",
     "collapsed": false,
     "input": [],
     "language": "python",
     "metadata": {},
     "outputs": [],
     "prompt_number": 148
    }
   ],
   "metadata": {}
  }
 ]
}