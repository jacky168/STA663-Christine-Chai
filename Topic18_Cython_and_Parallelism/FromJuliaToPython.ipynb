{
 "metadata": {
  "name": "",
  "signature": "sha256:62f4f92b0773b045a4d87b8793223b1db91f71828c8c7c11de9b1c3d60fad6b8"
 },
 "nbformat": 3,
 "nbformat_minor": 0,
 "worksheets": [
  {
   "cells": [
    {
     "cell_type": "code",
     "collapsed": false,
     "input": [
      "from __future__ import division\n",
      "import os\n",
      "import sys\n",
      "import glob\n",
      "import matplotlib.pyplot as plt\n",
      "import numpy as np\n",
      "import pandas as pd\n",
      "%matplotlib inline\n",
      "%precision 4\n",
      "plt.style.use('ggplot')"
     ],
     "language": "python",
     "metadata": {},
     "outputs": [],
     "prompt_number": 1
    },
    {
     "cell_type": "markdown",
     "metadata": {},
     "source": [
      "You will need to install Julia from http://julialang.org/downloads/ and make sure it is on your path. On Ubuntu you can install via `apt-get` with\n",
      "```\n",
      "sudo add-apt-repository ppa:staticfloat/juliareleases\n",
      "sudo add-apt-repository ppa:staticfloat/julia-deps\n",
      "sudo apt-get update\n",
      "sudo apt-get install julia\n",
      "```\n",
      "\n",
      "Within an instance of Julia, run the following commands:\n",
      "```\n",
      "Pkg.update()\n",
      "Pkg.add(\"PyCall\")\n",
      "Pkg.add(\"IJulia\")\n",
      "```\n",
      "\n",
      "Then finally install `pyjulia` from https://github.com/JuliaLang/pyjulia\n",
      "\n",
      "Make sure that you can start `julia` line - if not, add a symlink to it."
     ]
    },
    {
     "cell_type": "code",
     "collapsed": false,
     "input": [
      "%install_ext https://raw.githubusercontent.com/JuliaLang/pyjulia/master/julia/magic.py"
     ],
     "language": "python",
     "metadata": {},
     "outputs": [
      {
       "output_type": "stream",
       "stream": "stdout",
       "text": [
        "Installed magic.py. To use it, type:\n",
        "  %load_ext magic\n"
       ]
      }
     ],
     "prompt_number": 2
    },
    {
     "cell_type": "code",
     "collapsed": false,
     "input": [
      "import julia"
     ],
     "language": "python",
     "metadata": {},
     "outputs": [],
     "prompt_number": 3
    },
    {
     "cell_type": "code",
     "collapsed": false,
     "input": [
      "%load_ext magic\n",
      "%julia @pyimport matplotlib.pyplot as plt\n",
      "%julia @pyimport numpy as np\n",
      "%julia @pyimport numpy.random as npr"
     ],
     "language": "python",
     "metadata": {},
     "outputs": [
      {
       "output_type": "stream",
       "stream": "stdout",
       "text": [
        "Initializing Julia interpreter. This may take some time..."
       ]
      },
      {
       "output_type": "stream",
       "stream": "stdout",
       "text": [
        "\n"
       ]
      }
     ],
     "prompt_number": 4
    },
    {
     "cell_type": "markdown",
     "metadata": {},
     "source": [
      "### Defining a function in Julia"
     ]
    },
    {
     "cell_type": "code",
     "collapsed": false,
     "input": [
      "%%julia\n",
      "\n",
      "function fib(n)\n",
      "    a, b = 0.0,  1.0\n",
      "    for i = 1:n\n",
      "        a, b = a+b, a\n",
      "    end\n",
      "    return a\n",
      "end"
     ],
     "language": "python",
     "metadata": {},
     "outputs": [
      {
       "metadata": {},
       "output_type": "pyout",
       "prompt_number": 5,
       "text": [
        "<PyCall.jlwrap fib>"
       ]
      }
     ],
     "prompt_number": 5
    },
    {
     "cell_type": "markdown",
     "metadata": {},
     "source": [
      "### Using it in Python"
     ]
    },
    {
     "cell_type": "code",
     "collapsed": false,
     "input": [
      "jfib = %julia fib\n",
      "\n",
      "jfib(100)"
     ],
     "language": "python",
     "metadata": {},
     "outputs": [
      {
       "metadata": {},
       "output_type": "pyout",
       "prompt_number": 6,
       "text": [
        "354224848179261997056.0000"
       ]
      }
     ],
     "prompt_number": 6
    },
    {
     "cell_type": "markdown",
     "metadata": {},
     "source": [
      "### Using Python libraries in Julia"
     ]
    },
    {
     "cell_type": "code",
     "collapsed": false,
     "input": [
      "%%julia\n",
      "\n",
      "xs = npr.multivariate_normal([0,0], np.eye(2), 100)\n",
      "plt.scatter(xs[:,1], xs[:, 2], s=30);"
     ],
     "language": "python",
     "metadata": {},
     "outputs": [
      {
       "metadata": {},
       "output_type": "pyout",
       "prompt_number": 7,
       "text": [
        "<matplotlib.collections.PathCollection at 0x7f9108934550>"
       ]
      },
      {
       "metadata": {},
       "output_type": "display_data",
       "png": "[encoded data removed]",
       "text": [
        "<matplotlib.figure.Figure at 0x7f9112ee1cd0>"
       ]
      }
     ],
     "prompt_number": 7
    },
    {
     "cell_type": "markdown",
     "metadata": {},
     "source": [
      "### Benchmarking"
     ]
    },
    {
     "cell_type": "code",
     "collapsed": false,
     "input": [
      "%timeit jfib(100)"
     ],
     "language": "python",
     "metadata": {},
     "outputs": [
      {
       "output_type": "stream",
       "stream": "stdout",
       "text": [
        "10000 loops, best of 3: 24.3 \u00b5s per loop\n"
       ]
      }
     ],
     "prompt_number": 8
    },
    {
     "cell_type": "code",
     "collapsed": false,
     "input": [],
     "language": "python",
     "metadata": {},
     "outputs": [],
     "prompt_number": 8
    }
   ],
   "metadata": {}
  }
 ]
}