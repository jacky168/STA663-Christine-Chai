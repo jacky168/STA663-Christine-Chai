{
 "metadata": {
  "name": "",
  "signature": "sha256:cf20aefce53873c2ba04caecca5e4ba3138ed0910f9e0a5831819776b9db90c5"
 },
 "nbformat": 3,
 "nbformat_minor": 0,
 "worksheets": [
  {
   "cells": [
    {
     "cell_type": "code",
     "collapsed": false,
     "input": [
      "from __future__ import division\n",
      "import os\n",
      "import sys\n",
      "import glob\n",
      "import matplotlib.pyplot as plt\n",
      "import numpy as np\n",
      "import pandas as pd\n",
      "%matplotlib inline\n",
      "%precision 4\n",
      "plt.style.use('ggplot')\n"
     ],
     "language": "python",
     "metadata": {},
     "outputs": [],
     "prompt_number": 7
    },
    {
     "cell_type": "code",
     "collapsed": false,
     "input": [
      "import bitey"
     ],
     "language": "python",
     "metadata": {},
     "outputs": [],
     "prompt_number": 8
    },
    {
     "cell_type": "code",
     "collapsed": false,
     "input": [
      "%load_ext cythonmagic"
     ],
     "language": "python",
     "metadata": {},
     "outputs": [],
     "prompt_number": 9
    },
    {
     "cell_type": "markdown",
     "metadata": {},
     "source": [
      "The Fibonacci Sequence\n",
      "----"
     ]
    },
    {
     "cell_type": "code",
     "collapsed": false,
     "input": [
      "%%file c_fib.h\n",
      "double c_fib(int n);"
     ],
     "language": "python",
     "metadata": {},
     "outputs": [
      {
       "output_type": "stream",
       "stream": "stdout",
       "text": [
        "Writing c_fib.h\n"
       ]
      }
     ],
     "prompt_number": 4
    },
    {
     "cell_type": "code",
     "collapsed": false,
     "input": [
      "%%file c_fib.c\n",
      "double c_fib(int n) {\n",
      "    double tmp, a = 0, b = 1;\n",
      "    for (int i=0; i<n; i++) {\n",
      "        tmp = a;\n",
      "        a = a + b;\n",
      "        b = tmp;\n",
      "    }\n",
      "    return a;\n",
      "}"
     ],
     "language": "python",
     "metadata": {},
     "outputs": [
      {
       "output_type": "stream",
       "stream": "stdout",
       "text": [
        "Writing c_fib.c\n"
       ]
      }
     ],
     "prompt_number": 5
    },
    {
     "cell_type": "markdown",
     "metadata": {},
     "source": [
      "### Using clang and bitey"
     ]
    },
    {
     "cell_type": "code",
     "collapsed": false,
     "input": [
      "!clang -O3 -emit-llvm -c c_fib.c -o bitey_fib.o"
     ],
     "language": "python",
     "metadata": {},
     "outputs": [],
     "prompt_number": 7
    },
    {
     "cell_type": "code",
     "collapsed": false,
     "input": [
      "import bitey_fib"
     ],
     "language": "python",
     "metadata": {},
     "outputs": [],
     "prompt_number": 9
    },
    {
     "cell_type": "code",
     "collapsed": false,
     "input": [
      "bitey_fib.c_fib(10) # should be 55"
     ],
     "language": "python",
     "metadata": {},
     "outputs": [
      {
       "metadata": {},
       "output_type": "pyout",
       "prompt_number": 10,
       "text": [
        "55.0000"
       ]
      }
     ],
     "prompt_number": 10
    },
    {
     "cell_type": "markdown",
     "metadata": {},
     "source": [
      "### Using gcc and ctypes"
     ]
    },
    {
     "cell_type": "code",
     "collapsed": false,
     "input": [
      "# Mac\n",
      "# ! gcc -O3 -bundle -undefined dynamic_lookup c_fib.c -o ctypes_fib.so\n",
      "# Linux\n",
      "! gcc -O3 -fPIC -shared -std=c99 -lm c_fib.c -o ctypes_fib.so\n",
      "\n",
      "# .so: shell library"
     ],
     "language": "python",
     "metadata": {},
     "outputs": [],
     "prompt_number": 14
    },
    {
     "cell_type": "code",
     "collapsed": false,
     "input": [
      "from ctypes import CDLL, c_int, c_double\n",
      "\n",
      "def ctypes_fib(n):\n",
      "    \n",
      "    # Use ctypes to load the library\n",
      "    lib = CDLL('./ctypes_fib.so')\n",
      "\n",
      "    # We need to give the argument and return types explicitly\n",
      "    lib.c_fib.argtypes = [c_int]\n",
      "    lib.c_fib.restype  = c_double\n",
      "    \n",
      "    return lib.c_fib(n)"
     ],
     "language": "python",
     "metadata": {},
     "outputs": [],
     "prompt_number": 15
    },
    {
     "cell_type": "code",
     "collapsed": false,
     "input": [
      "ctypes_fib(10) # should also be 55"
     ],
     "language": "python",
     "metadata": {},
     "outputs": [
      {
       "metadata": {},
       "output_type": "pyout",
       "prompt_number": 16,
       "text": [
        "55.0000"
       ]
      }
     ],
     "prompt_number": 16
    },
    {
     "cell_type": "markdown",
     "metadata": {},
     "source": [
      "### Using Cython"
     ]
    },
    {
     "cell_type": "code",
     "collapsed": false,
     "input": [
      "%load_ext cythonmagic"
     ],
     "language": "python",
     "metadata": {},
     "outputs": [
      {
       "output_type": "stream",
       "stream": "stdout",
       "text": [
        "The cythonmagic extension is already loaded. To reload it, use:\n",
        "  %reload_ext cythonmagic\n"
       ]
      }
     ],
     "prompt_number": 16
    },
    {
     "cell_type": "code",
     "collapsed": false,
     "input": [
      "%%file cy_fib.pxd\n",
      "cdef extern from \"c_fib.h\":\n",
      "    double c_fib(int n)"
     ],
     "language": "python",
     "metadata": {},
     "outputs": [
      {
       "output_type": "stream",
       "stream": "stdout",
       "text": [
        "Writing cy_fib.pxd\n"
       ]
      }
     ],
     "prompt_number": 17
    },
    {
     "cell_type": "code",
     "collapsed": false,
     "input": [
      "%%file cy_fib.pyx\n",
      "cimport cy_fib\n",
      "\n",
      "cpdef cython_fib(n):\n",
      "    return cy_fib.c_fib(n)"
     ],
     "language": "python",
     "metadata": {},
     "outputs": [
      {
       "output_type": "stream",
       "stream": "stdout",
       "text": [
        "Writing cy_fib.pyx\n"
       ]
      }
     ],
     "prompt_number": 18
    },
    {
     "cell_type": "code",
     "collapsed": false,
     "input": [
      "%%file setup.py\n",
      "from distutils.core import setup, Extension\n",
      "from Cython.Build import cythonize\n",
      "\n",
      "ext = Extension(\"cy_fib\",\n",
      "              sources=[\"cy_fib.pyx\", \"c_fib.c\"])\n",
      "\n",
      "setup(name = \"cython_fib\",\n",
      "      ext_modules = cythonize(ext))"
     ],
     "language": "python",
     "metadata": {},
     "outputs": [
      {
       "output_type": "stream",
       "stream": "stdout",
       "text": [
        "Overwriting setup.py\n"
       ]
      }
     ],
     "prompt_number": 19
    },
    {
     "cell_type": "code",
     "collapsed": false,
     "input": [
      "! python setup.py build_ext -i &> /dev/null"
     ],
     "language": "python",
     "metadata": {},
     "outputs": [],
     "prompt_number": 20
    },
    {
     "cell_type": "markdown",
     "metadata": {},
     "source": [
      "Benchmark\n",
      "---"
     ]
    },
    {
     "cell_type": "code",
     "collapsed": false,
     "input": [
      "import cy_fib\n",
      "import bitey_fib"
     ],
     "language": "python",
     "metadata": {},
     "outputs": [
      {
       "ename": "ImportError",
       "evalue": "No module named cy_fib",
       "output_type": "pyerr",
       "traceback": [
        "\u001b[1;31m---------------------------------------------------------------------------\u001b[0m\n\u001b[1;31mImportError\u001b[0m                               Traceback (most recent call last)",
        "\u001b[1;32m<ipython-input-21-26bd4d04e298>\u001b[0m in \u001b[0;36m<module>\u001b[1;34m()\u001b[0m\n\u001b[1;32m----> 1\u001b[1;33m \u001b[1;32mimport\u001b[0m \u001b[0mcy_fib\u001b[0m\u001b[1;33m\u001b[0m\u001b[0m\n\u001b[0m\u001b[0;32m      2\u001b[0m \u001b[1;32mimport\u001b[0m \u001b[0mbitey_fib\u001b[0m\u001b[1;33m\u001b[0m\u001b[0m\n",
        "\u001b[1;31mImportError\u001b[0m: No module named cy_fib"
       ]
      }
     ],
     "prompt_number": 21
    },
    {
     "cell_type": "code",
     "collapsed": false,
     "input": [
      "print ctypes_fib(100)\n",
      "print bitey_fib.c_fib(100)\n",
      "print cy_fib.cython_fib(100)"
     ],
     "language": "python",
     "metadata": {},
     "outputs": [
      {
       "output_type": "stream",
       "stream": "stdout",
       "text": [
        "3.54224848179e+20\n",
        "3.54224848179e+20\n",
        "3.54224848179e+20\n"
       ]
      }
     ],
     "prompt_number": 16
    },
    {
     "cell_type": "code",
     "collapsed": false,
     "input": [
      "%timeit -n 1000 ctypes_fib(100)\n",
      "%timeit -n 1000 bitey_fib.c_fib(100)\n",
      "%timeit -n 1000 cy_fib.cython_fib(100) # fastest!"
     ],
     "language": "python",
     "metadata": {},
     "outputs": [
      {
       "output_type": "stream",
       "stream": "stdout",
       "text": [
        "1000 loops, best of 3: 97.3 \u00b5s per loop\n",
        "1000 loops, best of 3: 948 ns per loop\n",
        "1000 loops, best of 3: 263 ns per loop\n"
       ]
      }
     ],
     "prompt_number": 17
    },
    {
     "cell_type": "code",
     "collapsed": false,
     "input": [],
     "language": "python",
     "metadata": {},
     "outputs": [],
     "prompt_number": 17
    }
   ],
   "metadata": {}
  }
 ]
}